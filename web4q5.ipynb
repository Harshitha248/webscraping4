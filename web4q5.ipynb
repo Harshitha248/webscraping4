{
 "cells": [
  {
   "cell_type": "raw",
   "id": "external-perception",
   "metadata": {},
   "source": [
    "Scrape the details of trending repositories on Github.com.\n",
    "Url = https://github.com/\n",
    "You have to find the following details:\n",
    "A) Repository title\n",
    "B) Repository description\n",
    "C) Contributors count\n",
    "D) Language used"
   ]
  },
  {
   "cell_type": "code",
   "execution_count": 3,
   "id": "sonic-dress",
   "metadata": {},
   "outputs": [],
   "source": [
    "import pandas as pd\n",
    "import selenium\n",
    "from selenium import webdriver\n",
    "from selenium.common.exceptions import StaleElementReferenceException, NoSuchElementException"
   ]
  },
  {
   "cell_type": "code",
   "execution_count": 4,
   "id": "boxed-official",
   "metadata": {},
   "outputs": [],
   "source": [
    "import requests\n",
    "from selenium import webdriver\n",
    "\n",
    "browser = webdriver.Chrome()\n",
    "\n",
    "browser.get(\"https://github.com/trending\")\n",
    "from bs4 import BeautifulSoup"
   ]
  },
  {
   "cell_type": "code",
   "execution_count": 5,
   "id": "limiting-marking",
   "metadata": {},
   "outputs": [],
   "source": [
    "title=[]"
   ]
  },
  {
   "cell_type": "code",
   "execution_count": 6,
   "id": "solid-deviation",
   "metadata": {},
   "outputs": [],
   "source": [
    "title_tags=browser.find_elements_by_xpath(\"//h1[@class='h3 lh-condensed']\")\n",
    "for i in title_tags:\n",
    "    if i.text is None :\n",
    "        title.append(\"no rating\") \n",
    "    else:\n",
    "        title.append(i.text)"
   ]
  },
  {
   "cell_type": "code",
   "execution_count": 7,
   "id": "swiss-stable",
   "metadata": {},
   "outputs": [
    {
     "data": {
      "text/plain": [
       "['abuanwar072 / Flutter-Responsive-Admin-Panel-or-Dashboard',\n",
       " 'pallupz / covid-vaccine-booking',\n",
       " 'goharbor / harbor',\n",
       " 'public-apis / public-apis',\n",
       " 'jwasham / coding-interview-university',\n",
       " 'DIGITALCRIMINAL / OnlyFans',\n",
       " 'facebookincubator / cinder',\n",
       " 'vinta / awesome-python',\n",
       " 'jlevy / the-art-of-command-line',\n",
       " 'dogecoin / dogecoin',\n",
       " 'phamdinhkhanh / vnquant',\n",
       " 'audacity / audacity',\n",
       " 'Uniswap / uniswap-v3-periphery',\n",
       " 'swar / Swar-Chia-Plot-Manager',\n",
       " 'flutter / flutter',\n",
       " 'streamich / react-use',\n",
       " 'dynamicwebpaige / thinking-in-data',\n",
       " 'forem / forem',\n",
       " 'Azure / counterfit',\n",
       " 'Uniswap / uniswap-v3-core',\n",
       " 'ionic-team / ionic-framework',\n",
       " 'thedevdojo / wave',\n",
       " 'devsuperior / sds3',\n",
       " 'angular / angular-cli',\n",
       " 'benawad / dogehouse']"
      ]
     },
     "execution_count": 7,
     "metadata": {},
     "output_type": "execute_result"
    }
   ],
   "source": [
    "title"
   ]
  },
  {
   "cell_type": "code",
   "execution_count": 8,
   "id": "devoted-blackberry",
   "metadata": {},
   "outputs": [],
   "source": [
    "description=[]"
   ]
  },
  {
   "cell_type": "code",
   "execution_count": 9,
   "id": "broad-allergy",
   "metadata": {},
   "outputs": [],
   "source": [
    "description_tags=browser.find_elements_by_xpath(\"//p[@class='col-9 color-text-secondary my-1 pr-4']\")\n",
    "for i in description_tags:\n",
    "    if i.text is None :\n",
    "        description.append(\"no rating\") \n",
    "    else:\n",
    "        description.append(i.text)"
   ]
  },
  {
   "cell_type": "code",
   "execution_count": 10,
   "id": "peaceful-month",
   "metadata": {},
   "outputs": [
    {
     "data": {
      "text/plain": [
       "['Responsive Admin Panel or Dashboard using Flutter',\n",
       " \"This very basic script can be used to automate COVID-19 vaccination slot booking on India's Co-WIN Platform.\",\n",
       " 'An open source trusted cloud native registry project that stores, signs, and scans content.',\n",
       " 'A collective list of free APIs',\n",
       " 'A complete computer science study plan to become a software engineer.',\n",
       " 'Scrape all the media from an OnlyFans account - Updated regularly',\n",
       " \"Instagram's performance oriented fork of CPython.\",\n",
       " 'A curated list of awesome Python frameworks, libraries, software and resources',\n",
       " 'Master the command line, in one page',\n",
       " 'very currency',\n",
       " 'VietNam Data Stock Market Price',\n",
       " 'Audio Editor',\n",
       " '🦄 🦄 🦄 Peripheral smart contracts for interacting with Uniswap v3',\n",
       " 'This is a Cross-Platform Plot Manager for Chia Plotting that is simple, easy-to-use, and reliable.',\n",
       " 'Flutter makes it easy and fast to build beautiful apps for mobile and beyond.',\n",
       " 'React Hooks — 👍',\n",
       " 'A VS Code extension pack to help users visualize, understand, and interact with data.',\n",
       " 'For empowering community 🌱',\n",
       " 'a CLI that provides a generic automation layer for assessing the security of ML models',\n",
       " '🦄 🦄 🦄 Core smart contracts of Uniswap v3',\n",
       " 'A powerful cross-platform UI toolkit for building native-quality iOS, Android, and Progressive Web Apps with HTML, CSS, and JavaScript.',\n",
       " 'Wave - The Software as a Service Starter Kit, designed to help you build the SAAS of your dreams 🚀 💰',\n",
       " 'CLI tool for Angular',\n",
       " 'Taking voice conversations to the moon 🚀']"
      ]
     },
     "execution_count": 10,
     "metadata": {},
     "output_type": "execute_result"
    }
   ],
   "source": [
    "description"
   ]
  },
  {
   "cell_type": "code",
   "execution_count": 11,
   "id": "systematic-graduation",
   "metadata": {},
   "outputs": [],
   "source": [
    "language=[]"
   ]
  },
  {
   "cell_type": "code",
   "execution_count": 12,
   "id": "improving-prevention",
   "metadata": {},
   "outputs": [],
   "source": [
    "language_tags=browser.find_elements_by_xpath(\"//span[@class='d-inline-block ml-0 mr-3']\")\n",
    "for i in language_tags:\n",
    "    if i.text is None :\n",
    "        language.append(\"no rating\") \n",
    "    else:\n",
    "        language.append(i.text)"
   ]
  },
  {
   "cell_type": "code",
   "execution_count": 13,
   "id": "valid-eleven",
   "metadata": {},
   "outputs": [
    {
     "data": {
      "text/plain": [
       "['Dart',\n",
       " 'Python',\n",
       " 'Go',\n",
       " 'Python',\n",
       " 'Python',\n",
       " 'Python',\n",
       " 'Python',\n",
       " 'C++',\n",
       " 'HTML',\n",
       " 'C',\n",
       " 'TypeScript',\n",
       " 'Python',\n",
       " 'Dart',\n",
       " 'TypeScript',\n",
       " 'Ruby',\n",
       " 'Python',\n",
       " 'TypeScript',\n",
       " 'TypeScript',\n",
       " 'PHP',\n",
       " 'TypeScript',\n",
       " 'TypeScript']"
      ]
     },
     "execution_count": 13,
     "metadata": {},
     "output_type": "execute_result"
    }
   ],
   "source": [
    "language"
   ]
  },
  {
   "cell_type": "code",
   "execution_count": 15,
   "id": "received-mississippi",
   "metadata": {},
   "outputs": [],
   "source": [
    "count=[]"
   ]
  },
  {
   "cell_type": "code",
   "execution_count": 20,
   "id": "royal-local",
   "metadata": {},
   "outputs": [],
   "source": [
    "count_tags=browser.find_elements_by_xpath(\"//svg[@class='octicon octicon-star']\")\n",
    "for i in count_tags:\n",
    "    if i.text is None :\n",
    "        count.append(\"no rating\") \n",
    "    else:\n",
    "        count.append(i.text)"
   ]
  },
  {
   "cell_type": "code",
   "execution_count": 23,
   "id": "dressed-phoenix",
   "metadata": {},
   "outputs": [
    {
     "data": {
      "text/plain": [
       "['302 stars today',\n",
       " '107 stars today',\n",
       " '103 stars today',\n",
       " '764 stars today',\n",
       " '560 stars today',\n",
       " '157 stars today',\n",
       " '265 stars today',\n",
       " '257 stars today',\n",
       " '597 stars today',\n",
       " '243 stars today',\n",
       " '22 stars today',\n",
       " '207 stars today',\n",
       " '46 stars today',\n",
       " '44 stars today',\n",
       " '146 stars today',\n",
       " '119 stars today',\n",
       " '136 stars today',\n",
       " '137 stars today',\n",
       " '83 stars today',\n",
       " '51 stars today',\n",
       " '150 stars today',\n",
       " '276 stars today',\n",
       " '37 stars today',\n",
       " '35 stars today',\n",
       " '106 stars today']"
      ]
     },
     "execution_count": 23,
     "metadata": {},
     "output_type": "execute_result"
    }
   ],
   "source": [
    "count[21:]"
   ]
  },
  {
   "cell_type": "code",
   "execution_count": 27,
   "id": "owned-secondary",
   "metadata": {},
   "outputs": [],
   "source": [
    "import pandas as pd\n",
    "github=pd.DataFrame({})\n",
    "github['title']=title[0:20]\n",
    "github['description']=description[0:20]\n",
    "github['language']=language[0:20]\n",
    "github['count']=count[21:41]"
   ]
  },
  {
   "cell_type": "code",
   "execution_count": 28,
   "id": "exceptional-steal",
   "metadata": {},
   "outputs": [
    {
     "data": {
      "text/html": [
       "<div>\n",
       "<style scoped>\n",
       "    .dataframe tbody tr th:only-of-type {\n",
       "        vertical-align: middle;\n",
       "    }\n",
       "\n",
       "    .dataframe tbody tr th {\n",
       "        vertical-align: top;\n",
       "    }\n",
       "\n",
       "    .dataframe thead th {\n",
       "        text-align: right;\n",
       "    }\n",
       "</style>\n",
       "<table border=\"1\" class=\"dataframe\">\n",
       "  <thead>\n",
       "    <tr style=\"text-align: right;\">\n",
       "      <th></th>\n",
       "      <th>title</th>\n",
       "      <th>description</th>\n",
       "      <th>language</th>\n",
       "      <th>count</th>\n",
       "    </tr>\n",
       "  </thead>\n",
       "  <tbody>\n",
       "    <tr>\n",
       "      <th>0</th>\n",
       "      <td>abuanwar072 / Flutter-Responsive-Admin-Panel-o...</td>\n",
       "      <td>Responsive Admin Panel or Dashboard using Flutter</td>\n",
       "      <td>Dart</td>\n",
       "      <td>302 stars today</td>\n",
       "    </tr>\n",
       "    <tr>\n",
       "      <th>1</th>\n",
       "      <td>pallupz / covid-vaccine-booking</td>\n",
       "      <td>This very basic script can be used to automate...</td>\n",
       "      <td>Python</td>\n",
       "      <td>107 stars today</td>\n",
       "    </tr>\n",
       "    <tr>\n",
       "      <th>2</th>\n",
       "      <td>goharbor / harbor</td>\n",
       "      <td>An open source trusted cloud native registry p...</td>\n",
       "      <td>Go</td>\n",
       "      <td>103 stars today</td>\n",
       "    </tr>\n",
       "    <tr>\n",
       "      <th>3</th>\n",
       "      <td>public-apis / public-apis</td>\n",
       "      <td>A collective list of free APIs</td>\n",
       "      <td>Python</td>\n",
       "      <td>764 stars today</td>\n",
       "    </tr>\n",
       "    <tr>\n",
       "      <th>4</th>\n",
       "      <td>jwasham / coding-interview-university</td>\n",
       "      <td>A complete computer science study plan to beco...</td>\n",
       "      <td>Python</td>\n",
       "      <td>560 stars today</td>\n",
       "    </tr>\n",
       "    <tr>\n",
       "      <th>5</th>\n",
       "      <td>DIGITALCRIMINAL / OnlyFans</td>\n",
       "      <td>Scrape all the media from an OnlyFans account ...</td>\n",
       "      <td>Python</td>\n",
       "      <td>157 stars today</td>\n",
       "    </tr>\n",
       "    <tr>\n",
       "      <th>6</th>\n",
       "      <td>facebookincubator / cinder</td>\n",
       "      <td>Instagram's performance oriented fork of CPython.</td>\n",
       "      <td>Python</td>\n",
       "      <td>265 stars today</td>\n",
       "    </tr>\n",
       "    <tr>\n",
       "      <th>7</th>\n",
       "      <td>vinta / awesome-python</td>\n",
       "      <td>A curated list of awesome Python frameworks, l...</td>\n",
       "      <td>C++</td>\n",
       "      <td>257 stars today</td>\n",
       "    </tr>\n",
       "    <tr>\n",
       "      <th>8</th>\n",
       "      <td>jlevy / the-art-of-command-line</td>\n",
       "      <td>Master the command line, in one page</td>\n",
       "      <td>HTML</td>\n",
       "      <td>597 stars today</td>\n",
       "    </tr>\n",
       "    <tr>\n",
       "      <th>9</th>\n",
       "      <td>dogecoin / dogecoin</td>\n",
       "      <td>very currency</td>\n",
       "      <td>C</td>\n",
       "      <td>243 stars today</td>\n",
       "    </tr>\n",
       "    <tr>\n",
       "      <th>10</th>\n",
       "      <td>phamdinhkhanh / vnquant</td>\n",
       "      <td>VietNam Data Stock Market Price</td>\n",
       "      <td>TypeScript</td>\n",
       "      <td>22 stars today</td>\n",
       "    </tr>\n",
       "    <tr>\n",
       "      <th>11</th>\n",
       "      <td>audacity / audacity</td>\n",
       "      <td>Audio Editor</td>\n",
       "      <td>Python</td>\n",
       "      <td>207 stars today</td>\n",
       "    </tr>\n",
       "    <tr>\n",
       "      <th>12</th>\n",
       "      <td>Uniswap / uniswap-v3-periphery</td>\n",
       "      <td>🦄 🦄 🦄 Peripheral smart contracts for interacti...</td>\n",
       "      <td>Dart</td>\n",
       "      <td>46 stars today</td>\n",
       "    </tr>\n",
       "    <tr>\n",
       "      <th>13</th>\n",
       "      <td>swar / Swar-Chia-Plot-Manager</td>\n",
       "      <td>This is a Cross-Platform Plot Manager for Chia...</td>\n",
       "      <td>TypeScript</td>\n",
       "      <td>44 stars today</td>\n",
       "    </tr>\n",
       "    <tr>\n",
       "      <th>14</th>\n",
       "      <td>flutter / flutter</td>\n",
       "      <td>Flutter makes it easy and fast to build beauti...</td>\n",
       "      <td>Ruby</td>\n",
       "      <td>146 stars today</td>\n",
       "    </tr>\n",
       "    <tr>\n",
       "      <th>15</th>\n",
       "      <td>streamich / react-use</td>\n",
       "      <td>React Hooks — 👍</td>\n",
       "      <td>Python</td>\n",
       "      <td>119 stars today</td>\n",
       "    </tr>\n",
       "    <tr>\n",
       "      <th>16</th>\n",
       "      <td>dynamicwebpaige / thinking-in-data</td>\n",
       "      <td>A VS Code extension pack to help users visuali...</td>\n",
       "      <td>TypeScript</td>\n",
       "      <td>136 stars today</td>\n",
       "    </tr>\n",
       "    <tr>\n",
       "      <th>17</th>\n",
       "      <td>forem / forem</td>\n",
       "      <td>For empowering community 🌱</td>\n",
       "      <td>TypeScript</td>\n",
       "      <td>137 stars today</td>\n",
       "    </tr>\n",
       "    <tr>\n",
       "      <th>18</th>\n",
       "      <td>Azure / counterfit</td>\n",
       "      <td>a CLI that provides a generic automation layer...</td>\n",
       "      <td>PHP</td>\n",
       "      <td>83 stars today</td>\n",
       "    </tr>\n",
       "    <tr>\n",
       "      <th>19</th>\n",
       "      <td>Uniswap / uniswap-v3-core</td>\n",
       "      <td>🦄 🦄 🦄 Core smart contracts of Uniswap v3</td>\n",
       "      <td>TypeScript</td>\n",
       "      <td>51 stars today</td>\n",
       "    </tr>\n",
       "  </tbody>\n",
       "</table>\n",
       "</div>"
      ],
      "text/plain": [
       "                                                title  \\\n",
       "0   abuanwar072 / Flutter-Responsive-Admin-Panel-o...   \n",
       "1                     pallupz / covid-vaccine-booking   \n",
       "2                                   goharbor / harbor   \n",
       "3                           public-apis / public-apis   \n",
       "4               jwasham / coding-interview-university   \n",
       "5                          DIGITALCRIMINAL / OnlyFans   \n",
       "6                          facebookincubator / cinder   \n",
       "7                              vinta / awesome-python   \n",
       "8                     jlevy / the-art-of-command-line   \n",
       "9                                 dogecoin / dogecoin   \n",
       "10                            phamdinhkhanh / vnquant   \n",
       "11                                audacity / audacity   \n",
       "12                     Uniswap / uniswap-v3-periphery   \n",
       "13                      swar / Swar-Chia-Plot-Manager   \n",
       "14                                  flutter / flutter   \n",
       "15                              streamich / react-use   \n",
       "16                 dynamicwebpaige / thinking-in-data   \n",
       "17                                      forem / forem   \n",
       "18                                 Azure / counterfit   \n",
       "19                          Uniswap / uniswap-v3-core   \n",
       "\n",
       "                                          description    language  \\\n",
       "0   Responsive Admin Panel or Dashboard using Flutter        Dart   \n",
       "1   This very basic script can be used to automate...      Python   \n",
       "2   An open source trusted cloud native registry p...          Go   \n",
       "3                      A collective list of free APIs      Python   \n",
       "4   A complete computer science study plan to beco...      Python   \n",
       "5   Scrape all the media from an OnlyFans account ...      Python   \n",
       "6   Instagram's performance oriented fork of CPython.      Python   \n",
       "7   A curated list of awesome Python frameworks, l...         C++   \n",
       "8                Master the command line, in one page        HTML   \n",
       "9                                       very currency           C   \n",
       "10                    VietNam Data Stock Market Price  TypeScript   \n",
       "11                                       Audio Editor      Python   \n",
       "12  🦄 🦄 🦄 Peripheral smart contracts for interacti...        Dart   \n",
       "13  This is a Cross-Platform Plot Manager for Chia...  TypeScript   \n",
       "14  Flutter makes it easy and fast to build beauti...        Ruby   \n",
       "15                                    React Hooks — 👍      Python   \n",
       "16  A VS Code extension pack to help users visuali...  TypeScript   \n",
       "17                         For empowering community 🌱  TypeScript   \n",
       "18  a CLI that provides a generic automation layer...         PHP   \n",
       "19           🦄 🦄 🦄 Core smart contracts of Uniswap v3  TypeScript   \n",
       "\n",
       "              count  \n",
       "0   302 stars today  \n",
       "1   107 stars today  \n",
       "2   103 stars today  \n",
       "3   764 stars today  \n",
       "4   560 stars today  \n",
       "5   157 stars today  \n",
       "6   265 stars today  \n",
       "7   257 stars today  \n",
       "8   597 stars today  \n",
       "9   243 stars today  \n",
       "10   22 stars today  \n",
       "11  207 stars today  \n",
       "12   46 stars today  \n",
       "13   44 stars today  \n",
       "14  146 stars today  \n",
       "15  119 stars today  \n",
       "16  136 stars today  \n",
       "17  137 stars today  \n",
       "18   83 stars today  \n",
       "19   51 stars today  "
      ]
     },
     "execution_count": 28,
     "metadata": {},
     "output_type": "execute_result"
    }
   ],
   "source": [
    "github"
   ]
  },
  {
   "cell_type": "code",
   "execution_count": null,
   "id": "simplified-marine",
   "metadata": {},
   "outputs": [],
   "source": []
  }
 ],
 "metadata": {
  "kernelspec": {
   "display_name": "Python 3",
   "language": "python",
   "name": "python3"
  },
  "language_info": {
   "codemirror_mode": {
    "name": "ipython",
    "version": 3
   },
   "file_extension": ".py",
   "mimetype": "text/x-python",
   "name": "python",
   "nbconvert_exporter": "python",
   "pygments_lexer": "ipython3",
   "version": "3.7.3"
  }
 },
 "nbformat": 4,
 "nbformat_minor": 5
}
