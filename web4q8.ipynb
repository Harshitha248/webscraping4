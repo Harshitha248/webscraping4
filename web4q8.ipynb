{
 "cells": [
  {
   "cell_type": "raw",
   "id": "copyrighted-black",
   "metadata": {},
   "source": [
    "Scrape the details of Highest selling novels.\n",
    "Url = https://www.theguardian.com/news/datablog/2012/aug/09/best-selling-books-all-time-fifty-shades-grey-compare/\n",
    "You have to find the following details:\n",
    "A) Book name\n",
    "B) Author name\n",
    "C) Volumes sold\n",
    "D) Publisher\n",
    "E) Genre"
   ]
  },
  {
   "cell_type": "code",
   "execution_count": 1,
   "id": "olive-repair",
   "metadata": {},
   "outputs": [],
   "source": [
    "import pandas as pd\n",
    "import selenium\n",
    "from selenium import webdriver\n",
    "from selenium.common.exceptions import StaleElementReferenceException, NoSuchElementException"
   ]
  },
  {
   "cell_type": "code",
   "execution_count": 2,
   "id": "minute-insulin",
   "metadata": {},
   "outputs": [],
   "source": [
    "import requests\n",
    "from selenium import webdriver\n",
    "\n",
    "browser = webdriver.Chrome()\n",
    "\n",
    "browser.get(\"https://www.theguardian.com/news/datablog/2012/aug/09/best-selling-books-all-time-fifty-shades-grey-compare/\")\n",
    "from bs4 import BeautifulSoup"
   ]
  },
  {
   "cell_type": "code",
   "execution_count": 3,
   "id": "opposite-table",
   "metadata": {},
   "outputs": [],
   "source": [
    "books=[]"
   ]
  },
  {
   "cell_type": "code",
   "execution_count": 4,
   "id": "aging-festival",
   "metadata": {},
   "outputs": [],
   "source": [
    "book_tags=browser.find_elements_by_xpath(\"//td[@class='left']\")\n",
    "for i in book_tags:\n",
    "    if i.text is None :\n",
    "        books.append(\"no rating\") \n",
    "    else:\n",
    "        books.append(i.text)"
   ]
  },
  {
   "cell_type": "code",
   "execution_count": 5,
   "id": "weighted-enzyme",
   "metadata": {},
   "outputs": [
    {
     "data": {
      "text/plain": [
       "['1',\n",
       " 'Da Vinci Code,The',\n",
       " 'Brown, Dan',\n",
       " '5,094,805',\n",
       " 'Transworld',\n",
       " '2',\n",
       " 'Harry Potter and the Deathly Hallows',\n",
       " 'Rowling, J.K.',\n",
       " '4,475,152',\n",
       " 'Bloomsbury',\n",
       " '3',\n",
       " \"Harry Potter and the Philosopher's Stone\",\n",
       " 'Rowling, J.K.',\n",
       " '4,200,654',\n",
       " 'Bloomsbury',\n",
       " '4',\n",
       " 'Harry Potter and the Order of the Phoenix',\n",
       " 'Rowling, J.K.',\n",
       " '4,179,479',\n",
       " 'Bloomsbury',\n",
       " '5',\n",
       " 'Fifty Shades of Grey',\n",
       " 'James, E. L.',\n",
       " '3,758,936',\n",
       " 'Random House',\n",
       " '6',\n",
       " 'Harry Potter and the Goblet of Fire',\n",
       " 'Rowling, J.K.',\n",
       " '3,583,215',\n",
       " 'Bloomsbury',\n",
       " '7',\n",
       " 'Harry Potter and the Chamber of Secrets',\n",
       " 'Rowling, J.K.',\n",
       " '3,484,047',\n",
       " 'Bloomsbury',\n",
       " '8',\n",
       " 'Harry Potter and the Prisoner of Azkaban',\n",
       " 'Rowling, J.K.',\n",
       " '3,377,906',\n",
       " 'Bloomsbury',\n",
       " '9',\n",
       " 'Angels and Demons',\n",
       " 'Brown, Dan',\n",
       " '3,193,946',\n",
       " 'Transworld',\n",
       " '10',\n",
       " \"Harry Potter and the Half-blood Prince:Children's Edition\",\n",
       " 'Rowling, J.K.',\n",
       " '2,950,264',\n",
       " 'Bloomsbury',\n",
       " '11',\n",
       " 'Fifty Shades Darker',\n",
       " 'James, E. L.',\n",
       " '2,479,784',\n",
       " 'Random House',\n",
       " '12',\n",
       " 'Twilight',\n",
       " 'Meyer, Stephenie',\n",
       " '2,315,405',\n",
       " 'Little, Brown Book',\n",
       " '13',\n",
       " 'Girl with the Dragon Tattoo,The:Millennium Trilogy',\n",
       " 'Larsson, Stieg',\n",
       " '2,233,570',\n",
       " 'Quercus',\n",
       " '14',\n",
       " 'Fifty Shades Freed',\n",
       " 'James, E. L.',\n",
       " '2,193,928',\n",
       " 'Random House',\n",
       " '15',\n",
       " 'Lost Symbol,The',\n",
       " 'Brown, Dan',\n",
       " '2,183,031',\n",
       " 'Transworld',\n",
       " '16',\n",
       " 'New Moon',\n",
       " 'Meyer, Stephenie',\n",
       " '2,152,737',\n",
       " 'Little, Brown Book',\n",
       " '17',\n",
       " 'Deception Point',\n",
       " 'Brown, Dan',\n",
       " '2,062,145',\n",
       " 'Transworld',\n",
       " '18',\n",
       " 'Eclipse',\n",
       " 'Meyer, Stephenie',\n",
       " '2,052,876',\n",
       " 'Little, Brown Book',\n",
       " '19',\n",
       " 'Lovely Bones,The',\n",
       " 'Sebold, Alice',\n",
       " '2,005,598',\n",
       " 'Pan Macmillan',\n",
       " '20',\n",
       " 'Curious Incident of the Dog in the Night-time,The',\n",
       " 'Haddon, Mark',\n",
       " '1,979,552',\n",
       " 'Random House',\n",
       " '21',\n",
       " 'Digital Fortress',\n",
       " 'Brown, Dan',\n",
       " '1,928,900',\n",
       " 'Transworld',\n",
       " '22',\n",
       " 'Short History of Nearly Everything,A',\n",
       " 'Bryson, Bill',\n",
       " '1,852,919',\n",
       " 'Transworld',\n",
       " '23',\n",
       " 'Girl Who Played with Fire,The:Millennium Trilogy',\n",
       " 'Larsson, Stieg',\n",
       " '1,814,784',\n",
       " 'Quercus',\n",
       " '24',\n",
       " 'Breaking Dawn',\n",
       " 'Meyer, Stephenie',\n",
       " '1,787,118',\n",
       " 'Little, Brown Book',\n",
       " '25',\n",
       " 'Very Hungry Caterpillar,The:The Very Hungry Caterpillar',\n",
       " 'Carle, Eric',\n",
       " '1,783,535',\n",
       " 'Penguin',\n",
       " '26',\n",
       " 'Gruffalo,The',\n",
       " 'Donaldson, Julia',\n",
       " '1,781,269',\n",
       " 'Pan Macmillan',\n",
       " '27',\n",
       " \"Jamie's 30-Minute Meals\",\n",
       " 'Oliver, Jamie',\n",
       " '1,743,266',\n",
       " 'Penguin',\n",
       " '28',\n",
       " 'Kite Runner,The',\n",
       " 'Hosseini, Khaled',\n",
       " '1,629,119',\n",
       " 'Bloomsbury',\n",
       " '29',\n",
       " 'One Day',\n",
       " 'Nicholls, David',\n",
       " '1,616,068',\n",
       " 'Hodder & Stoughton',\n",
       " '30',\n",
       " 'Thousand Splendid Suns,A',\n",
       " 'Hosseini, Khaled',\n",
       " '1,583,992',\n",
       " 'Bloomsbury',\n",
       " '31',\n",
       " \"Girl Who Kicked the Hornets' Nest,The:Millennium Trilogy\",\n",
       " 'Larsson, Stieg',\n",
       " '1,555,135',\n",
       " 'Quercus',\n",
       " '32',\n",
       " \"Time Traveler's Wife,The\",\n",
       " 'Niffenegger, Audrey',\n",
       " '1,546,886',\n",
       " 'Random House',\n",
       " '33',\n",
       " 'Atonement',\n",
       " 'McEwan, Ian',\n",
       " '1,539,428',\n",
       " 'Random House',\n",
       " '34',\n",
       " \"Bridget Jones's Diary:A Novel\",\n",
       " 'Fielding, Helen',\n",
       " '1,508,205',\n",
       " 'Pan Macmillan',\n",
       " '35',\n",
       " 'World According to Clarkson,The',\n",
       " 'Clarkson, Jeremy',\n",
       " '1,489,403',\n",
       " 'Penguin',\n",
       " '36',\n",
       " \"Captain Corelli's Mandolin\",\n",
       " 'Bernieres, Louis de',\n",
       " '1,352,318',\n",
       " 'Random House',\n",
       " '37',\n",
       " 'Sound of Laughter,The',\n",
       " 'Kay, Peter',\n",
       " '1,310,207',\n",
       " 'Random House',\n",
       " '38',\n",
       " 'Life of Pi',\n",
       " 'Martel, Yann',\n",
       " '1,310,176',\n",
       " 'Canongate',\n",
       " '39',\n",
       " 'Billy Connolly',\n",
       " 'Stephenson, Pamela',\n",
       " '1,231,957',\n",
       " 'HarperCollins',\n",
       " '40',\n",
       " 'Child Called It,A',\n",
       " 'Pelzer, Dave',\n",
       " '1,217,712',\n",
       " 'Orion',\n",
       " '41',\n",
       " \"Gruffalo's Child,The\",\n",
       " 'Donaldson, Julia',\n",
       " '1,208,711',\n",
       " 'Pan Macmillan',\n",
       " '42',\n",
       " \"Angela's Ashes:A Memoir of a Childhood\",\n",
       " 'McCourt, Frank',\n",
       " '1,204,058',\n",
       " 'HarperCollins',\n",
       " '43',\n",
       " 'Birdsong',\n",
       " 'Faulks, Sebastian',\n",
       " '1,184,967',\n",
       " 'Random House',\n",
       " '44',\n",
       " 'Northern Lights:His Dark Materials S.',\n",
       " 'Pullman, Philip',\n",
       " '1,181,503',\n",
       " 'Scholastic Ltd.',\n",
       " '45',\n",
       " 'Labyrinth',\n",
       " 'Mosse, Kate',\n",
       " '1,181,093',\n",
       " 'Orion',\n",
       " '46',\n",
       " 'Harry Potter and the Half-blood Prince',\n",
       " 'Rowling, J.K.',\n",
       " '1,153,181',\n",
       " 'Bloomsbury',\n",
       " '47',\n",
       " 'Help,The',\n",
       " 'Stockett, Kathryn',\n",
       " '1,132,336',\n",
       " 'Penguin',\n",
       " '48',\n",
       " 'Man and Boy',\n",
       " 'Parsons, Tony',\n",
       " '1,130,802',\n",
       " 'HarperCollins',\n",
       " '49',\n",
       " 'Memoirs of a Geisha',\n",
       " 'Golden, Arthur',\n",
       " '1,126,337',\n",
       " 'Random House',\n",
       " '50',\n",
       " \"No.1 Ladies' Detective Agency,The:No.1 Ladies' Detective Agency S.\",\n",
       " 'McCall Smith, Alexander',\n",
       " '1,115,549',\n",
       " 'Little, Brown Book',\n",
       " '51',\n",
       " 'Island,The',\n",
       " 'Hislop, Victoria',\n",
       " '1,108,328',\n",
       " 'Headline',\n",
       " '52',\n",
       " 'PS, I Love You',\n",
       " 'Ahern, Cecelia',\n",
       " '1,107,379',\n",
       " 'HarperCollins',\n",
       " '53',\n",
       " 'You are What You Eat:The Plan That Will Change Your Life',\n",
       " 'McKeith, Gillian',\n",
       " '1,104,403',\n",
       " 'Penguin',\n",
       " '54',\n",
       " 'Shadow of the Wind,The',\n",
       " 'Zafon, Carlos Ruiz',\n",
       " '1,092,349',\n",
       " 'Orion',\n",
       " '55',\n",
       " 'Tales of Beedle the Bard,The',\n",
       " 'Rowling, J.K.',\n",
       " '1,090,847',\n",
       " 'Bloomsbury',\n",
       " '56',\n",
       " 'Broker,The',\n",
       " 'Grisham, John',\n",
       " '1,087,262',\n",
       " 'Random House',\n",
       " '57',\n",
       " \"Dr. Atkins' New Diet Revolution:The No-hunger, Luxurious Weight Loss P\",\n",
       " 'Atkins, Robert C.',\n",
       " '1,054,196',\n",
       " 'Random House',\n",
       " '58',\n",
       " 'Subtle Knife,The:His Dark Materials S.',\n",
       " 'Pullman, Philip',\n",
       " '1,037,160',\n",
       " 'Scholastic Ltd.',\n",
       " '59',\n",
       " 'Eats, Shoots and Leaves:The Zero Tolerance Approach to Punctuation',\n",
       " 'Truss, Lynne',\n",
       " '1,023,688',\n",
       " 'Profile Books Group',\n",
       " '60',\n",
       " \"Delia's How to Cook:(Bk.1)\",\n",
       " 'Smith, Delia',\n",
       " '1,015,956',\n",
       " 'Random House',\n",
       " '61',\n",
       " 'Chocolat',\n",
       " 'Harris, Joanne',\n",
       " '1,009,873',\n",
       " 'Transworld',\n",
       " '62',\n",
       " 'Boy in the Striped Pyjamas,The',\n",
       " 'Boyne, John',\n",
       " '1,004,414',\n",
       " 'Random House Childrens Books G',\n",
       " '63',\n",
       " \"My Sister's Keeper\",\n",
       " 'Picoult, Jodi',\n",
       " '1,003,780',\n",
       " 'Hodder & Stoughton',\n",
       " '64',\n",
       " 'Amber Spyglass,The:His Dark Materials S.',\n",
       " 'Pullman, Philip',\n",
       " '1,002,314',\n",
       " 'Scholastic Ltd.',\n",
       " '65',\n",
       " 'To Kill a Mockingbird',\n",
       " 'Lee, Harper',\n",
       " '998,213',\n",
       " 'Random House',\n",
       " '66',\n",
       " 'Men are from Mars, Women are from Venus:A Practical Guide for Improvin',\n",
       " 'Gray, John',\n",
       " '992,846',\n",
       " 'HarperCollins',\n",
       " '67',\n",
       " 'Dear Fatty',\n",
       " 'French, Dawn',\n",
       " '986,753',\n",
       " 'Random House',\n",
       " '68',\n",
       " 'Short History of Tractors in Ukrainian,A',\n",
       " 'Lewycka, Marina',\n",
       " '986,115',\n",
       " 'Penguin',\n",
       " '69',\n",
       " 'Hannibal',\n",
       " 'Harris, Thomas',\n",
       " '970,509',\n",
       " 'Random House',\n",
       " '70',\n",
       " 'Lord of the Rings,The',\n",
       " 'Tolkien, J. R. R.',\n",
       " '967,466',\n",
       " 'HarperCollins',\n",
       " '71',\n",
       " 'Stupid White Men:...and Other Sorry Excuses for the State of the Natio',\n",
       " 'Moore, Michael',\n",
       " '963,353',\n",
       " 'Penguin',\n",
       " '72',\n",
       " 'Interpretation of Murder,The',\n",
       " 'Rubenfeld, Jed',\n",
       " '962,515',\n",
       " 'Headline',\n",
       " '73',\n",
       " 'Sharon Osbourne Extreme:My Autobiography',\n",
       " 'Osbourne, Sharon',\n",
       " '959,496',\n",
       " 'Little, Brown Book',\n",
       " '74',\n",
       " 'Alchemist,The:A Fable About Following Your Dream',\n",
       " 'Coelho, Paulo',\n",
       " '956,114',\n",
       " 'HarperCollins',\n",
       " '75',\n",
       " \"At My Mother's Knee ...:and Other Low Joints\",\n",
       " \"O'Grady, Paul\",\n",
       " '945,640',\n",
       " 'Transworld',\n",
       " '76',\n",
       " 'Notes from a Small Island',\n",
       " 'Bryson, Bill',\n",
       " '931,312',\n",
       " 'Transworld',\n",
       " '77',\n",
       " 'Return of the Naked Chef,The',\n",
       " 'Oliver, Jamie',\n",
       " '925,425',\n",
       " 'Penguin',\n",
       " '78',\n",
       " 'Bridget Jones: The Edge of Reason',\n",
       " 'Fielding, Helen',\n",
       " '924,695',\n",
       " 'Pan Macmillan',\n",
       " '79',\n",
       " \"Jamie's Italy\",\n",
       " 'Oliver, Jamie',\n",
       " '906,968',\n",
       " 'Penguin',\n",
       " '80',\n",
       " 'I Can Make You Thin',\n",
       " 'McKenna, Paul',\n",
       " '905,086',\n",
       " 'Transworld',\n",
       " '81',\n",
       " 'Down Under',\n",
       " 'Bryson, Bill',\n",
       " '890,847',\n",
       " 'Transworld',\n",
       " '82',\n",
       " 'Summons,The',\n",
       " 'Grisham, John',\n",
       " '869,671',\n",
       " 'Random House',\n",
       " '83',\n",
       " 'Small Island',\n",
       " 'Levy, Andrea',\n",
       " '869,659',\n",
       " 'Headline',\n",
       " '84',\n",
       " 'Nigella Express',\n",
       " 'Lawson, Nigella',\n",
       " '862,602',\n",
       " 'Random House',\n",
       " '85',\n",
       " 'Brick Lane',\n",
       " 'Ali, Monica',\n",
       " '856,540',\n",
       " 'Transworld',\n",
       " '86',\n",
       " \"Memory Keeper's Daughter,The\",\n",
       " 'Edwards, Kim',\n",
       " '845,858',\n",
       " 'Penguin',\n",
       " '87',\n",
       " 'Room on the Broom',\n",
       " 'Donaldson, Julia',\n",
       " '842,535',\n",
       " 'Pan Macmillan',\n",
       " '88',\n",
       " 'About a Boy',\n",
       " 'Hornby, Nick',\n",
       " '828,215',\n",
       " 'Penguin',\n",
       " '89',\n",
       " 'My Booky Wook',\n",
       " 'Brand, Russell',\n",
       " '820,563',\n",
       " 'Hodder & Stoughton',\n",
       " '90',\n",
       " 'God Delusion,The',\n",
       " 'Dawkins, Richard',\n",
       " '816,907',\n",
       " 'Transworld',\n",
       " '91',\n",
       " '\"Beano\" Annual,The',\n",
       " '0',\n",
       " '816,585',\n",
       " 'D.C. Thomson',\n",
       " '92',\n",
       " 'White Teeth',\n",
       " 'Smith, Zadie',\n",
       " '815,586',\n",
       " 'Penguin',\n",
       " '93',\n",
       " 'House at Riverton,The',\n",
       " 'Morton, Kate',\n",
       " '814,370',\n",
       " 'Pan Macmillan',\n",
       " '94',\n",
       " 'Book Thief,The',\n",
       " 'Zusak, Markus',\n",
       " '809,641',\n",
       " 'Transworld',\n",
       " '95',\n",
       " 'Nights of Rain and Stars',\n",
       " 'Binchy, Maeve',\n",
       " '808,900',\n",
       " 'Orion',\n",
       " '96',\n",
       " 'Ghost,The',\n",
       " 'Harris, Robert',\n",
       " '807,311',\n",
       " 'Random House',\n",
       " '97',\n",
       " 'Happy Days with the Naked Chef',\n",
       " 'Oliver, Jamie',\n",
       " '794,201',\n",
       " 'Penguin',\n",
       " '98',\n",
       " 'Hunger Games,The:Hunger Games Trilogy',\n",
       " 'Collins, Suzanne',\n",
       " '792,187',\n",
       " 'Scholastic Ltd.',\n",
       " '99',\n",
       " \"Lost Boy,The:A Foster Child's Search for the Love of a Family\",\n",
       " 'Pelzer, Dave',\n",
       " '791,507',\n",
       " 'Orion',\n",
       " '100',\n",
       " \"Jamie's Ministry of Food:Anyone Can Learn to Cook in 24 Hours\",\n",
       " 'Oliver, Jamie',\n",
       " '791,095',\n",
       " 'Penguin']"
      ]
     },
     "execution_count": 5,
     "metadata": {},
     "output_type": "execute_result"
    }
   ],
   "source": [
    "books"
   ]
  },
  {
   "cell_type": "code",
   "execution_count": 6,
   "id": "plain-election",
   "metadata": {},
   "outputs": [
    {
     "data": {
      "text/plain": [
       "'1'"
      ]
     },
     "execution_count": 6,
     "metadata": {},
     "output_type": "execute_result"
    }
   ],
   "source": [
    "books.pop(0)"
   ]
  },
  {
   "cell_type": "code",
   "execution_count": 7,
   "id": "generous-biology",
   "metadata": {},
   "outputs": [
    {
     "data": {
      "text/plain": [
       "'Brown, Dan'"
      ]
     },
     "execution_count": 7,
     "metadata": {},
     "output_type": "execute_result"
    }
   ],
   "source": [
    "books.pop(1)"
   ]
  },
  {
   "cell_type": "code",
   "execution_count": 8,
   "id": "fifth-pharmacology",
   "metadata": {},
   "outputs": [
    {
     "data": {
      "text/plain": [
       "'5,094,805'"
      ]
     },
     "execution_count": 8,
     "metadata": {},
     "output_type": "execute_result"
    }
   ],
   "source": [
    "books.pop(1)"
   ]
  },
  {
   "cell_type": "code",
   "execution_count": 9,
   "id": "helpful-lecture",
   "metadata": {},
   "outputs": [
    {
     "data": {
      "text/plain": [
       "'Transworld'"
      ]
     },
     "execution_count": 9,
     "metadata": {},
     "output_type": "execute_result"
    }
   ],
   "source": [
    "books.pop(1)"
   ]
  },
  {
   "cell_type": "code",
   "execution_count": 10,
   "id": "nasty-adobe",
   "metadata": {},
   "outputs": [
    {
     "data": {
      "text/plain": [
       "'2'"
      ]
     },
     "execution_count": 10,
     "metadata": {},
     "output_type": "execute_result"
    }
   ],
   "source": [
    "books.pop(1)"
   ]
  },
  {
   "cell_type": "code",
   "execution_count": 11,
   "id": "massive-parent",
   "metadata": {},
   "outputs": [
    {
     "data": {
      "text/plain": [
       "'Rowling, J.K.'"
      ]
     },
     "execution_count": 11,
     "metadata": {},
     "output_type": "execute_result"
    }
   ],
   "source": [
    "books.pop(2)"
   ]
  },
  {
   "cell_type": "code",
   "execution_count": 12,
   "id": "intimate-printer",
   "metadata": {},
   "outputs": [
    {
     "data": {
      "text/plain": [
       "'4,475,152'"
      ]
     },
     "execution_count": 12,
     "metadata": {},
     "output_type": "execute_result"
    }
   ],
   "source": [
    "books.pop(2)"
   ]
  },
  {
   "cell_type": "code",
   "execution_count": 13,
   "id": "alike-champion",
   "metadata": {},
   "outputs": [
    {
     "data": {
      "text/plain": [
       "'Bloomsbury'"
      ]
     },
     "execution_count": 13,
     "metadata": {},
     "output_type": "execute_result"
    }
   ],
   "source": [
    "books.pop(2)"
   ]
  },
  {
   "cell_type": "code",
   "execution_count": 14,
   "id": "concrete-guitar",
   "metadata": {},
   "outputs": [
    {
     "data": {
      "text/plain": [
       "'3'"
      ]
     },
     "execution_count": 14,
     "metadata": {},
     "output_type": "execute_result"
    }
   ],
   "source": [
    "books.pop(2)"
   ]
  },
  {
   "cell_type": "code",
   "execution_count": 15,
   "id": "continuous-samoa",
   "metadata": {},
   "outputs": [
    {
     "data": {
      "text/plain": [
       "'Rowling, J.K.'"
      ]
     },
     "execution_count": 15,
     "metadata": {},
     "output_type": "execute_result"
    }
   ],
   "source": [
    "books.pop(3)"
   ]
  },
  {
   "cell_type": "code",
   "execution_count": 16,
   "id": "ideal-marketplace",
   "metadata": {},
   "outputs": [
    {
     "data": {
      "text/plain": [
       "'4,200,654'"
      ]
     },
     "execution_count": 16,
     "metadata": {},
     "output_type": "execute_result"
    }
   ],
   "source": [
    "books.pop(3)"
   ]
  },
  {
   "cell_type": "code",
   "execution_count": 17,
   "id": "convinced-former",
   "metadata": {},
   "outputs": [
    {
     "data": {
      "text/plain": [
       "'Bloomsbury'"
      ]
     },
     "execution_count": 17,
     "metadata": {},
     "output_type": "execute_result"
    }
   ],
   "source": [
    "books.pop(3)"
   ]
  },
  {
   "cell_type": "code",
   "execution_count": 18,
   "id": "attended-processing",
   "metadata": {},
   "outputs": [
    {
     "data": {
      "text/plain": [
       "'4'"
      ]
     },
     "execution_count": 18,
     "metadata": {},
     "output_type": "execute_result"
    }
   ],
   "source": [
    "books.pop(3)"
   ]
  },
  {
   "cell_type": "code",
   "execution_count": 19,
   "id": "existing-parliament",
   "metadata": {},
   "outputs": [
    {
     "data": {
      "text/plain": [
       "'Rowling, J.K.'"
      ]
     },
     "execution_count": 19,
     "metadata": {},
     "output_type": "execute_result"
    }
   ],
   "source": [
    "books.pop(4)"
   ]
  },
  {
   "cell_type": "code",
   "execution_count": 20,
   "id": "still-governor",
   "metadata": {},
   "outputs": [
    {
     "data": {
      "text/plain": [
       "'4,179,479'"
      ]
     },
     "execution_count": 20,
     "metadata": {},
     "output_type": "execute_result"
    }
   ],
   "source": [
    "books.pop(4)"
   ]
  },
  {
   "cell_type": "code",
   "execution_count": 21,
   "id": "successful-plasma",
   "metadata": {},
   "outputs": [
    {
     "data": {
      "text/plain": [
       "'Bloomsbury'"
      ]
     },
     "execution_count": 21,
     "metadata": {},
     "output_type": "execute_result"
    }
   ],
   "source": [
    "books.pop(4)"
   ]
  },
  {
   "cell_type": "code",
   "execution_count": 22,
   "id": "possible-technology",
   "metadata": {},
   "outputs": [
    {
     "data": {
      "text/plain": [
       "'5'"
      ]
     },
     "execution_count": 22,
     "metadata": {},
     "output_type": "execute_result"
    }
   ],
   "source": [
    "books.pop(4)"
   ]
  },
  {
   "cell_type": "code",
   "execution_count": 23,
   "id": "mediterranean-rates",
   "metadata": {},
   "outputs": [
    {
     "data": {
      "text/plain": [
       "'James, E. L.'"
      ]
     },
     "execution_count": 23,
     "metadata": {},
     "output_type": "execute_result"
    }
   ],
   "source": [
    "books.pop(5)"
   ]
  },
  {
   "cell_type": "code",
   "execution_count": 24,
   "id": "infrared-wisdom",
   "metadata": {},
   "outputs": [
    {
     "data": {
      "text/plain": [
       "'3,758,936'"
      ]
     },
     "execution_count": 24,
     "metadata": {},
     "output_type": "execute_result"
    }
   ],
   "source": [
    "books.pop(5)"
   ]
  },
  {
   "cell_type": "code",
   "execution_count": 25,
   "id": "subjective-sally",
   "metadata": {},
   "outputs": [
    {
     "data": {
      "text/plain": [
       "'Random House'"
      ]
     },
     "execution_count": 25,
     "metadata": {},
     "output_type": "execute_result"
    }
   ],
   "source": [
    "books.pop(5)"
   ]
  },
  {
   "cell_type": "code",
   "execution_count": 26,
   "id": "bulgarian-relation",
   "metadata": {},
   "outputs": [
    {
     "data": {
      "text/plain": [
       "'6'"
      ]
     },
     "execution_count": 26,
     "metadata": {},
     "output_type": "execute_result"
    }
   ],
   "source": [
    "books.pop(5)"
   ]
  },
  {
   "cell_type": "code",
   "execution_count": 27,
   "id": "floating-vision",
   "metadata": {},
   "outputs": [
    {
     "data": {
      "text/plain": [
       "'Rowling, J.K.'"
      ]
     },
     "execution_count": 27,
     "metadata": {},
     "output_type": "execute_result"
    }
   ],
   "source": [
    "books.pop(6)"
   ]
  },
  {
   "cell_type": "code",
   "execution_count": 28,
   "id": "fancy-paintball",
   "metadata": {},
   "outputs": [
    {
     "data": {
      "text/plain": [
       "'3,583,215'"
      ]
     },
     "execution_count": 28,
     "metadata": {},
     "output_type": "execute_result"
    }
   ],
   "source": [
    "books.pop(6)"
   ]
  },
  {
   "cell_type": "code",
   "execution_count": 29,
   "id": "random-eligibility",
   "metadata": {},
   "outputs": [
    {
     "data": {
      "text/plain": [
       "'Bloomsbury'"
      ]
     },
     "execution_count": 29,
     "metadata": {},
     "output_type": "execute_result"
    }
   ],
   "source": [
    "books.pop(6)"
   ]
  },
  {
   "cell_type": "code",
   "execution_count": 30,
   "id": "fantastic-bearing",
   "metadata": {},
   "outputs": [
    {
     "data": {
      "text/plain": [
       "'7'"
      ]
     },
     "execution_count": 30,
     "metadata": {},
     "output_type": "execute_result"
    }
   ],
   "source": [
    "books.pop(6)"
   ]
  },
  {
   "cell_type": "code",
   "execution_count": 31,
   "id": "numerical-germany",
   "metadata": {},
   "outputs": [
    {
     "data": {
      "text/plain": [
       "'Rowling, J.K.'"
      ]
     },
     "execution_count": 31,
     "metadata": {},
     "output_type": "execute_result"
    }
   ],
   "source": [
    "books.pop(7)"
   ]
  },
  {
   "cell_type": "code",
   "execution_count": 32,
   "id": "increased-samoa",
   "metadata": {},
   "outputs": [
    {
     "data": {
      "text/plain": [
       "'3,484,047'"
      ]
     },
     "execution_count": 32,
     "metadata": {},
     "output_type": "execute_result"
    }
   ],
   "source": [
    "books.pop(7)"
   ]
  },
  {
   "cell_type": "code",
   "execution_count": 33,
   "id": "supported-headset",
   "metadata": {},
   "outputs": [
    {
     "data": {
      "text/plain": [
       "'Bloomsbury'"
      ]
     },
     "execution_count": 33,
     "metadata": {},
     "output_type": "execute_result"
    }
   ],
   "source": [
    "books.pop(7)"
   ]
  },
  {
   "cell_type": "code",
   "execution_count": 34,
   "id": "discrete-toner",
   "metadata": {},
   "outputs": [
    {
     "data": {
      "text/plain": [
       "'8'"
      ]
     },
     "execution_count": 34,
     "metadata": {},
     "output_type": "execute_result"
    }
   ],
   "source": [
    "books.pop(7)"
   ]
  },
  {
   "cell_type": "code",
   "execution_count": 35,
   "id": "civic-florida",
   "metadata": {},
   "outputs": [
    {
     "data": {
      "text/plain": [
       "'Rowling, J.K.'"
      ]
     },
     "execution_count": 35,
     "metadata": {},
     "output_type": "execute_result"
    }
   ],
   "source": [
    "books.pop(8)"
   ]
  },
  {
   "cell_type": "code",
   "execution_count": 36,
   "id": "historical-liberal",
   "metadata": {},
   "outputs": [
    {
     "data": {
      "text/plain": [
       "'3,377,906'"
      ]
     },
     "execution_count": 36,
     "metadata": {},
     "output_type": "execute_result"
    }
   ],
   "source": [
    "books.pop(8)"
   ]
  },
  {
   "cell_type": "code",
   "execution_count": 37,
   "id": "swedish-cover",
   "metadata": {},
   "outputs": [
    {
     "data": {
      "text/plain": [
       "'Bloomsbury'"
      ]
     },
     "execution_count": 37,
     "metadata": {},
     "output_type": "execute_result"
    }
   ],
   "source": [
    "books.pop(8)"
   ]
  },
  {
   "cell_type": "code",
   "execution_count": 38,
   "id": "efficient-blood",
   "metadata": {},
   "outputs": [
    {
     "data": {
      "text/plain": [
       "'9'"
      ]
     },
     "execution_count": 38,
     "metadata": {},
     "output_type": "execute_result"
    }
   ],
   "source": [
    "books.pop(8)"
   ]
  },
  {
   "cell_type": "code",
   "execution_count": 39,
   "id": "comprehensive-worth",
   "metadata": {},
   "outputs": [
    {
     "data": {
      "text/plain": [
       "'Brown, Dan'"
      ]
     },
     "execution_count": 39,
     "metadata": {},
     "output_type": "execute_result"
    }
   ],
   "source": [
    "books.pop(9)"
   ]
  },
  {
   "cell_type": "code",
   "execution_count": 40,
   "id": "confidential-tomorrow",
   "metadata": {},
   "outputs": [
    {
     "data": {
      "text/plain": [
       "'3,193,946'"
      ]
     },
     "execution_count": 40,
     "metadata": {},
     "output_type": "execute_result"
    }
   ],
   "source": [
    "books.pop(9)"
   ]
  },
  {
   "cell_type": "code",
   "execution_count": 41,
   "id": "senior-search",
   "metadata": {},
   "outputs": [
    {
     "data": {
      "text/plain": [
       "'Transworld'"
      ]
     },
     "execution_count": 41,
     "metadata": {},
     "output_type": "execute_result"
    }
   ],
   "source": [
    "books.pop(9)"
   ]
  },
  {
   "cell_type": "code",
   "execution_count": 42,
   "id": "experienced-causing",
   "metadata": {},
   "outputs": [
    {
     "data": {
      "text/plain": [
       "'10'"
      ]
     },
     "execution_count": 42,
     "metadata": {},
     "output_type": "execute_result"
    }
   ],
   "source": [
    "books.pop(9)"
   ]
  },
  {
   "cell_type": "code",
   "execution_count": 43,
   "id": "intelligent-health",
   "metadata": {},
   "outputs": [
    {
     "data": {
      "text/plain": [
       "'Rowling, J.K.'"
      ]
     },
     "execution_count": 43,
     "metadata": {},
     "output_type": "execute_result"
    }
   ],
   "source": [
    "books.pop(10)"
   ]
  },
  {
   "cell_type": "code",
   "execution_count": 44,
   "id": "missing-batch",
   "metadata": {},
   "outputs": [
    {
     "data": {
      "text/plain": [
       "'2,950,264'"
      ]
     },
     "execution_count": 44,
     "metadata": {},
     "output_type": "execute_result"
    }
   ],
   "source": [
    "books.pop(10)"
   ]
  },
  {
   "cell_type": "code",
   "execution_count": 45,
   "id": "hundred-architecture",
   "metadata": {},
   "outputs": [
    {
     "data": {
      "text/plain": [
       "'Bloomsbury'"
      ]
     },
     "execution_count": 45,
     "metadata": {},
     "output_type": "execute_result"
    }
   ],
   "source": [
    "books.pop(10)"
   ]
  },
  {
   "cell_type": "code",
   "execution_count": 46,
   "id": "twenty-handbook",
   "metadata": {},
   "outputs": [
    {
     "data": {
      "text/plain": [
       "'11'"
      ]
     },
     "execution_count": 46,
     "metadata": {},
     "output_type": "execute_result"
    }
   ],
   "source": [
    "books.pop(10)"
   ]
  },
  {
   "cell_type": "code",
   "execution_count": 47,
   "id": "indie-joint",
   "metadata": {},
   "outputs": [
    {
     "data": {
      "text/plain": [
       "'James, E. L.'"
      ]
     },
     "execution_count": 47,
     "metadata": {},
     "output_type": "execute_result"
    }
   ],
   "source": [
    "books.pop(11)"
   ]
  },
  {
   "cell_type": "code",
   "execution_count": 48,
   "id": "sacred-watch",
   "metadata": {},
   "outputs": [
    {
     "data": {
      "text/plain": [
       "'2,479,784'"
      ]
     },
     "execution_count": 48,
     "metadata": {},
     "output_type": "execute_result"
    }
   ],
   "source": [
    "books.pop(11)"
   ]
  },
  {
   "cell_type": "code",
   "execution_count": 49,
   "id": "stable-scheduling",
   "metadata": {},
   "outputs": [
    {
     "data": {
      "text/plain": [
       "'Random House'"
      ]
     },
     "execution_count": 49,
     "metadata": {},
     "output_type": "execute_result"
    }
   ],
   "source": [
    "books.pop(11)"
   ]
  },
  {
   "cell_type": "code",
   "execution_count": 50,
   "id": "dramatic-index",
   "metadata": {},
   "outputs": [
    {
     "data": {
      "text/plain": [
       "'12'"
      ]
     },
     "execution_count": 50,
     "metadata": {},
     "output_type": "execute_result"
    }
   ],
   "source": [
    "books.pop(11)"
   ]
  },
  {
   "cell_type": "code",
   "execution_count": 51,
   "id": "exempt-mongolia",
   "metadata": {},
   "outputs": [
    {
     "data": {
      "text/plain": [
       "'Meyer, Stephenie'"
      ]
     },
     "execution_count": 51,
     "metadata": {},
     "output_type": "execute_result"
    }
   ],
   "source": [
    "books.pop(12)"
   ]
  },
  {
   "cell_type": "code",
   "execution_count": 52,
   "id": "empty-physics",
   "metadata": {},
   "outputs": [
    {
     "data": {
      "text/plain": [
       "'2,315,405'"
      ]
     },
     "execution_count": 52,
     "metadata": {},
     "output_type": "execute_result"
    }
   ],
   "source": [
    "books.pop(12)"
   ]
  },
  {
   "cell_type": "code",
   "execution_count": 53,
   "id": "electrical-compact",
   "metadata": {},
   "outputs": [
    {
     "data": {
      "text/plain": [
       "'Little, Brown Book'"
      ]
     },
     "execution_count": 53,
     "metadata": {},
     "output_type": "execute_result"
    }
   ],
   "source": [
    "books.pop(12)"
   ]
  },
  {
   "cell_type": "code",
   "execution_count": 54,
   "id": "swiss-miller",
   "metadata": {},
   "outputs": [
    {
     "data": {
      "text/plain": [
       "'13'"
      ]
     },
     "execution_count": 54,
     "metadata": {},
     "output_type": "execute_result"
    }
   ],
   "source": [
    "books.pop(12)"
   ]
  },
  {
   "cell_type": "code",
   "execution_count": 55,
   "id": "automated-morrison",
   "metadata": {},
   "outputs": [
    {
     "data": {
      "text/plain": [
       "'Larsson, Stieg'"
      ]
     },
     "execution_count": 55,
     "metadata": {},
     "output_type": "execute_result"
    }
   ],
   "source": [
    "books.pop(13)"
   ]
  },
  {
   "cell_type": "code",
   "execution_count": 56,
   "id": "polished-destination",
   "metadata": {},
   "outputs": [
    {
     "data": {
      "text/plain": [
       "'2,233,570'"
      ]
     },
     "execution_count": 56,
     "metadata": {},
     "output_type": "execute_result"
    }
   ],
   "source": [
    "books.pop(13)"
   ]
  },
  {
   "cell_type": "code",
   "execution_count": 57,
   "id": "solved-german",
   "metadata": {},
   "outputs": [
    {
     "data": {
      "text/plain": [
       "'Quercus'"
      ]
     },
     "execution_count": 57,
     "metadata": {},
     "output_type": "execute_result"
    }
   ],
   "source": [
    "books.pop(13)"
   ]
  },
  {
   "cell_type": "code",
   "execution_count": 58,
   "id": "sacred-speed",
   "metadata": {},
   "outputs": [
    {
     "data": {
      "text/plain": [
       "'14'"
      ]
     },
     "execution_count": 58,
     "metadata": {},
     "output_type": "execute_result"
    }
   ],
   "source": [
    "books.pop(13)"
   ]
  },
  {
   "cell_type": "code",
   "execution_count": 59,
   "id": "expanded-transportation",
   "metadata": {},
   "outputs": [
    {
     "data": {
      "text/plain": [
       "'James, E. L.'"
      ]
     },
     "execution_count": 59,
     "metadata": {},
     "output_type": "execute_result"
    }
   ],
   "source": [
    "books.pop(14)"
   ]
  },
  {
   "cell_type": "code",
   "execution_count": 60,
   "id": "german-impact",
   "metadata": {},
   "outputs": [
    {
     "data": {
      "text/plain": [
       "'2,193,928'"
      ]
     },
     "execution_count": 60,
     "metadata": {},
     "output_type": "execute_result"
    }
   ],
   "source": [
    "books.pop(14)"
   ]
  },
  {
   "cell_type": "code",
   "execution_count": 61,
   "id": "economic-decision",
   "metadata": {},
   "outputs": [
    {
     "data": {
      "text/plain": [
       "'Random House'"
      ]
     },
     "execution_count": 61,
     "metadata": {},
     "output_type": "execute_result"
    }
   ],
   "source": [
    "books.pop(14)"
   ]
  },
  {
   "cell_type": "code",
   "execution_count": 62,
   "id": "editorial-application",
   "metadata": {},
   "outputs": [
    {
     "data": {
      "text/plain": [
       "'15'"
      ]
     },
     "execution_count": 62,
     "metadata": {},
     "output_type": "execute_result"
    }
   ],
   "source": [
    "books.pop(14)"
   ]
  },
  {
   "cell_type": "code",
   "execution_count": 63,
   "id": "recent-stranger",
   "metadata": {},
   "outputs": [
    {
     "data": {
      "text/plain": [
       "'Brown, Dan'"
      ]
     },
     "execution_count": 63,
     "metadata": {},
     "output_type": "execute_result"
    }
   ],
   "source": [
    "books.pop(15)"
   ]
  },
  {
   "cell_type": "code",
   "execution_count": 64,
   "id": "suitable-excuse",
   "metadata": {},
   "outputs": [
    {
     "data": {
      "text/plain": [
       "'2,183,031'"
      ]
     },
     "execution_count": 64,
     "metadata": {},
     "output_type": "execute_result"
    }
   ],
   "source": [
    "books.pop(15)"
   ]
  },
  {
   "cell_type": "code",
   "execution_count": 65,
   "id": "extra-hazard",
   "metadata": {},
   "outputs": [
    {
     "data": {
      "text/plain": [
       "'Transworld'"
      ]
     },
     "execution_count": 65,
     "metadata": {},
     "output_type": "execute_result"
    }
   ],
   "source": [
    "books.pop(15)"
   ]
  },
  {
   "cell_type": "code",
   "execution_count": 66,
   "id": "functional-composer",
   "metadata": {},
   "outputs": [
    {
     "data": {
      "text/plain": [
       "'16'"
      ]
     },
     "execution_count": 66,
     "metadata": {},
     "output_type": "execute_result"
    }
   ],
   "source": [
    "books.pop(15)"
   ]
  },
  {
   "cell_type": "code",
   "execution_count": 67,
   "id": "ultimate-latitude",
   "metadata": {},
   "outputs": [
    {
     "data": {
      "text/plain": [
       "'Meyer, Stephenie'"
      ]
     },
     "execution_count": 67,
     "metadata": {},
     "output_type": "execute_result"
    }
   ],
   "source": [
    "books.pop(16)"
   ]
  },
  {
   "cell_type": "code",
   "execution_count": 68,
   "id": "interpreted-september",
   "metadata": {},
   "outputs": [
    {
     "data": {
      "text/plain": [
       "'2,152,737'"
      ]
     },
     "execution_count": 68,
     "metadata": {},
     "output_type": "execute_result"
    }
   ],
   "source": [
    "books.pop(16)"
   ]
  },
  {
   "cell_type": "code",
   "execution_count": 69,
   "id": "global-agency",
   "metadata": {},
   "outputs": [
    {
     "data": {
      "text/plain": [
       "'Little, Brown Book'"
      ]
     },
     "execution_count": 69,
     "metadata": {},
     "output_type": "execute_result"
    }
   ],
   "source": [
    "books.pop(16)"
   ]
  },
  {
   "cell_type": "code",
   "execution_count": 70,
   "id": "beautiful-reliance",
   "metadata": {},
   "outputs": [
    {
     "data": {
      "text/plain": [
       "'17'"
      ]
     },
     "execution_count": 70,
     "metadata": {},
     "output_type": "execute_result"
    }
   ],
   "source": [
    "books.pop(16)"
   ]
  },
  {
   "cell_type": "code",
   "execution_count": 71,
   "id": "instrumental-sally",
   "metadata": {},
   "outputs": [
    {
     "data": {
      "text/plain": [
       "'Brown, Dan'"
      ]
     },
     "execution_count": 71,
     "metadata": {},
     "output_type": "execute_result"
    }
   ],
   "source": [
    "books.pop(17)"
   ]
  },
  {
   "cell_type": "code",
   "execution_count": 72,
   "id": "alpha-compound",
   "metadata": {},
   "outputs": [
    {
     "data": {
      "text/plain": [
       "'2,062,145'"
      ]
     },
     "execution_count": 72,
     "metadata": {},
     "output_type": "execute_result"
    }
   ],
   "source": [
    "books.pop(17)"
   ]
  },
  {
   "cell_type": "code",
   "execution_count": 73,
   "id": "pending-dress",
   "metadata": {},
   "outputs": [
    {
     "data": {
      "text/plain": [
       "'Transworld'"
      ]
     },
     "execution_count": 73,
     "metadata": {},
     "output_type": "execute_result"
    }
   ],
   "source": [
    "books.pop(17)"
   ]
  },
  {
   "cell_type": "code",
   "execution_count": 74,
   "id": "lyric-poland",
   "metadata": {},
   "outputs": [
    {
     "data": {
      "text/plain": [
       "'18'"
      ]
     },
     "execution_count": 74,
     "metadata": {},
     "output_type": "execute_result"
    }
   ],
   "source": [
    "books.pop(17)"
   ]
  },
  {
   "cell_type": "code",
   "execution_count": 75,
   "id": "willing-silver",
   "metadata": {},
   "outputs": [
    {
     "data": {
      "text/plain": [
       "'Meyer, Stephenie'"
      ]
     },
     "execution_count": 75,
     "metadata": {},
     "output_type": "execute_result"
    }
   ],
   "source": [
    "books.pop(18)"
   ]
  },
  {
   "cell_type": "code",
   "execution_count": 76,
   "id": "ongoing-timer",
   "metadata": {},
   "outputs": [
    {
     "data": {
      "text/plain": [
       "'2,052,876'"
      ]
     },
     "execution_count": 76,
     "metadata": {},
     "output_type": "execute_result"
    }
   ],
   "source": [
    "books.pop(18)"
   ]
  },
  {
   "cell_type": "code",
   "execution_count": 77,
   "id": "departmental-peninsula",
   "metadata": {},
   "outputs": [
    {
     "data": {
      "text/plain": [
       "'Little, Brown Book'"
      ]
     },
     "execution_count": 77,
     "metadata": {},
     "output_type": "execute_result"
    }
   ],
   "source": [
    "books.pop(18)"
   ]
  },
  {
   "cell_type": "code",
   "execution_count": 78,
   "id": "nervous-tackle",
   "metadata": {},
   "outputs": [
    {
     "data": {
      "text/plain": [
       "'19'"
      ]
     },
     "execution_count": 78,
     "metadata": {},
     "output_type": "execute_result"
    }
   ],
   "source": [
    "books.pop(18)"
   ]
  },
  {
   "cell_type": "code",
   "execution_count": 79,
   "id": "framed-yield",
   "metadata": {},
   "outputs": [
    {
     "data": {
      "text/plain": [
       "'Sebold, Alice'"
      ]
     },
     "execution_count": 79,
     "metadata": {},
     "output_type": "execute_result"
    }
   ],
   "source": [
    "books.pop(19)"
   ]
  },
  {
   "cell_type": "code",
   "execution_count": 80,
   "id": "hybrid-exception",
   "metadata": {},
   "outputs": [
    {
     "data": {
      "text/plain": [
       "'2,005,598'"
      ]
     },
     "execution_count": 80,
     "metadata": {},
     "output_type": "execute_result"
    }
   ],
   "source": [
    "books.pop(19)"
   ]
  },
  {
   "cell_type": "code",
   "execution_count": 81,
   "id": "clear-afternoon",
   "metadata": {},
   "outputs": [
    {
     "data": {
      "text/plain": [
       "'Pan Macmillan'"
      ]
     },
     "execution_count": 81,
     "metadata": {},
     "output_type": "execute_result"
    }
   ],
   "source": [
    "books.pop(19)"
   ]
  },
  {
   "cell_type": "code",
   "execution_count": 82,
   "id": "derived-nevada",
   "metadata": {},
   "outputs": [
    {
     "data": {
      "text/plain": [
       "'20'"
      ]
     },
     "execution_count": 82,
     "metadata": {},
     "output_type": "execute_result"
    }
   ],
   "source": [
    "books.pop(19)"
   ]
  },
  {
   "cell_type": "code",
   "execution_count": 83,
   "id": "effective-medicare",
   "metadata": {},
   "outputs": [
    {
     "data": {
      "text/plain": [
       "'Haddon, Mark'"
      ]
     },
     "execution_count": 83,
     "metadata": {},
     "output_type": "execute_result"
    }
   ],
   "source": [
    "books.pop(20)"
   ]
  },
  {
   "cell_type": "code",
   "execution_count": 84,
   "id": "occupational-willow",
   "metadata": {},
   "outputs": [
    {
     "data": {
      "text/plain": [
       "'1,979,552'"
      ]
     },
     "execution_count": 84,
     "metadata": {},
     "output_type": "execute_result"
    }
   ],
   "source": [
    "books.pop(20)"
   ]
  },
  {
   "cell_type": "code",
   "execution_count": 85,
   "id": "chubby-proof",
   "metadata": {},
   "outputs": [
    {
     "data": {
      "text/plain": [
       "'Random House'"
      ]
     },
     "execution_count": 85,
     "metadata": {},
     "output_type": "execute_result"
    }
   ],
   "source": [
    "books.pop(20)"
   ]
  },
  {
   "cell_type": "code",
   "execution_count": 86,
   "id": "coastal-cargo",
   "metadata": {},
   "outputs": [
    {
     "data": {
      "text/plain": [
       "'21'"
      ]
     },
     "execution_count": 86,
     "metadata": {},
     "output_type": "execute_result"
    }
   ],
   "source": [
    "books.pop(20)"
   ]
  },
  {
   "cell_type": "code",
   "execution_count": 87,
   "id": "loving-complement",
   "metadata": {},
   "outputs": [
    {
     "data": {
      "text/plain": [
       "['Da Vinci Code,The',\n",
       " 'Harry Potter and the Deathly Hallows',\n",
       " \"Harry Potter and the Philosopher's Stone\",\n",
       " 'Harry Potter and the Order of the Phoenix',\n",
       " 'Fifty Shades of Grey',\n",
       " 'Harry Potter and the Goblet of Fire',\n",
       " 'Harry Potter and the Chamber of Secrets',\n",
       " 'Harry Potter and the Prisoner of Azkaban',\n",
       " 'Angels and Demons',\n",
       " \"Harry Potter and the Half-blood Prince:Children's Edition\",\n",
       " 'Fifty Shades Darker',\n",
       " 'Twilight',\n",
       " 'Girl with the Dragon Tattoo,The:Millennium Trilogy',\n",
       " 'Fifty Shades Freed',\n",
       " 'Lost Symbol,The',\n",
       " 'New Moon',\n",
       " 'Deception Point',\n",
       " 'Eclipse',\n",
       " 'Lovely Bones,The',\n",
       " 'Curious Incident of the Dog in the Night-time,The']"
      ]
     },
     "execution_count": 87,
     "metadata": {},
     "output_type": "execute_result"
    }
   ],
   "source": [
    "books[0:20]"
   ]
  },
  {
   "cell_type": "code",
   "execution_count": 88,
   "id": "therapeutic-hopkins",
   "metadata": {},
   "outputs": [],
   "source": [
    "author=[]"
   ]
  },
  {
   "cell_type": "code",
   "execution_count": 89,
   "id": "swedish-polyester",
   "metadata": {},
   "outputs": [],
   "source": [
    "author_tags=browser.find_elements_by_xpath(\"//td[@class='left']\")\n",
    "for i in author_tags:\n",
    "    if i.text is None :\n",
    "        author.append(\"no rating\")\n",
    "    else:\n",
    "        author.append(i.text)"
   ]
  },
  {
   "cell_type": "code",
   "execution_count": 90,
   "id": "tough-housing",
   "metadata": {},
   "outputs": [
    {
     "data": {
      "text/plain": [
       "['1',\n",
       " 'Da Vinci Code,The',\n",
       " 'Brown, Dan',\n",
       " '5,094,805',\n",
       " 'Transworld',\n",
       " '2',\n",
       " 'Harry Potter and the Deathly Hallows',\n",
       " 'Rowling, J.K.',\n",
       " '4,475,152',\n",
       " 'Bloomsbury',\n",
       " '3',\n",
       " \"Harry Potter and the Philosopher's Stone\",\n",
       " 'Rowling, J.K.',\n",
       " '4,200,654',\n",
       " 'Bloomsbury',\n",
       " '4',\n",
       " 'Harry Potter and the Order of the Phoenix',\n",
       " 'Rowling, J.K.',\n",
       " '4,179,479',\n",
       " 'Bloomsbury',\n",
       " '5',\n",
       " 'Fifty Shades of Grey',\n",
       " 'James, E. L.',\n",
       " '3,758,936',\n",
       " 'Random House',\n",
       " '6',\n",
       " 'Harry Potter and the Goblet of Fire',\n",
       " 'Rowling, J.K.',\n",
       " '3,583,215',\n",
       " 'Bloomsbury',\n",
       " '7',\n",
       " 'Harry Potter and the Chamber of Secrets',\n",
       " 'Rowling, J.K.',\n",
       " '3,484,047',\n",
       " 'Bloomsbury',\n",
       " '8',\n",
       " 'Harry Potter and the Prisoner of Azkaban',\n",
       " 'Rowling, J.K.',\n",
       " '3,377,906',\n",
       " 'Bloomsbury',\n",
       " '9',\n",
       " 'Angels and Demons',\n",
       " 'Brown, Dan',\n",
       " '3,193,946',\n",
       " 'Transworld',\n",
       " '10',\n",
       " \"Harry Potter and the Half-blood Prince:Children's Edition\",\n",
       " 'Rowling, J.K.',\n",
       " '2,950,264',\n",
       " 'Bloomsbury',\n",
       " '11',\n",
       " 'Fifty Shades Darker',\n",
       " 'James, E. L.',\n",
       " '2,479,784',\n",
       " 'Random House',\n",
       " '12',\n",
       " 'Twilight',\n",
       " 'Meyer, Stephenie',\n",
       " '2,315,405',\n",
       " 'Little, Brown Book',\n",
       " '13',\n",
       " 'Girl with the Dragon Tattoo,The:Millennium Trilogy',\n",
       " 'Larsson, Stieg',\n",
       " '2,233,570',\n",
       " 'Quercus',\n",
       " '14',\n",
       " 'Fifty Shades Freed',\n",
       " 'James, E. L.',\n",
       " '2,193,928',\n",
       " 'Random House',\n",
       " '15',\n",
       " 'Lost Symbol,The',\n",
       " 'Brown, Dan',\n",
       " '2,183,031',\n",
       " 'Transworld',\n",
       " '16',\n",
       " 'New Moon',\n",
       " 'Meyer, Stephenie',\n",
       " '2,152,737',\n",
       " 'Little, Brown Book',\n",
       " '17',\n",
       " 'Deception Point',\n",
       " 'Brown, Dan',\n",
       " '2,062,145',\n",
       " 'Transworld',\n",
       " '18',\n",
       " 'Eclipse',\n",
       " 'Meyer, Stephenie',\n",
       " '2,052,876',\n",
       " 'Little, Brown Book',\n",
       " '19',\n",
       " 'Lovely Bones,The',\n",
       " 'Sebold, Alice',\n",
       " '2,005,598',\n",
       " 'Pan Macmillan',\n",
       " '20',\n",
       " 'Curious Incident of the Dog in the Night-time,The',\n",
       " 'Haddon, Mark',\n",
       " '1,979,552',\n",
       " 'Random House',\n",
       " '21',\n",
       " 'Digital Fortress',\n",
       " 'Brown, Dan',\n",
       " '1,928,900',\n",
       " 'Transworld',\n",
       " '22',\n",
       " 'Short History of Nearly Everything,A',\n",
       " 'Bryson, Bill',\n",
       " '1,852,919',\n",
       " 'Transworld',\n",
       " '23',\n",
       " 'Girl Who Played with Fire,The:Millennium Trilogy',\n",
       " 'Larsson, Stieg',\n",
       " '1,814,784',\n",
       " 'Quercus',\n",
       " '24',\n",
       " 'Breaking Dawn',\n",
       " 'Meyer, Stephenie',\n",
       " '1,787,118',\n",
       " 'Little, Brown Book',\n",
       " '25',\n",
       " 'Very Hungry Caterpillar,The:The Very Hungry Caterpillar',\n",
       " 'Carle, Eric',\n",
       " '1,783,535',\n",
       " 'Penguin',\n",
       " '26',\n",
       " 'Gruffalo,The',\n",
       " 'Donaldson, Julia',\n",
       " '1,781,269',\n",
       " 'Pan Macmillan',\n",
       " '27',\n",
       " \"Jamie's 30-Minute Meals\",\n",
       " 'Oliver, Jamie',\n",
       " '1,743,266',\n",
       " 'Penguin',\n",
       " '28',\n",
       " 'Kite Runner,The',\n",
       " 'Hosseini, Khaled',\n",
       " '1,629,119',\n",
       " 'Bloomsbury',\n",
       " '29',\n",
       " 'One Day',\n",
       " 'Nicholls, David',\n",
       " '1,616,068',\n",
       " 'Hodder & Stoughton',\n",
       " '30',\n",
       " 'Thousand Splendid Suns,A',\n",
       " 'Hosseini, Khaled',\n",
       " '1,583,992',\n",
       " 'Bloomsbury',\n",
       " '31',\n",
       " \"Girl Who Kicked the Hornets' Nest,The:Millennium Trilogy\",\n",
       " 'Larsson, Stieg',\n",
       " '1,555,135',\n",
       " 'Quercus',\n",
       " '32',\n",
       " \"Time Traveler's Wife,The\",\n",
       " 'Niffenegger, Audrey',\n",
       " '1,546,886',\n",
       " 'Random House',\n",
       " '33',\n",
       " 'Atonement',\n",
       " 'McEwan, Ian',\n",
       " '1,539,428',\n",
       " 'Random House',\n",
       " '34',\n",
       " \"Bridget Jones's Diary:A Novel\",\n",
       " 'Fielding, Helen',\n",
       " '1,508,205',\n",
       " 'Pan Macmillan',\n",
       " '35',\n",
       " 'World According to Clarkson,The',\n",
       " 'Clarkson, Jeremy',\n",
       " '1,489,403',\n",
       " 'Penguin',\n",
       " '36',\n",
       " \"Captain Corelli's Mandolin\",\n",
       " 'Bernieres, Louis de',\n",
       " '1,352,318',\n",
       " 'Random House',\n",
       " '37',\n",
       " 'Sound of Laughter,The',\n",
       " 'Kay, Peter',\n",
       " '1,310,207',\n",
       " 'Random House',\n",
       " '38',\n",
       " 'Life of Pi',\n",
       " 'Martel, Yann',\n",
       " '1,310,176',\n",
       " 'Canongate',\n",
       " '39',\n",
       " 'Billy Connolly',\n",
       " 'Stephenson, Pamela',\n",
       " '1,231,957',\n",
       " 'HarperCollins',\n",
       " '40',\n",
       " 'Child Called It,A',\n",
       " 'Pelzer, Dave',\n",
       " '1,217,712',\n",
       " 'Orion',\n",
       " '41',\n",
       " \"Gruffalo's Child,The\",\n",
       " 'Donaldson, Julia',\n",
       " '1,208,711',\n",
       " 'Pan Macmillan',\n",
       " '42',\n",
       " \"Angela's Ashes:A Memoir of a Childhood\",\n",
       " 'McCourt, Frank',\n",
       " '1,204,058',\n",
       " 'HarperCollins',\n",
       " '43',\n",
       " 'Birdsong',\n",
       " 'Faulks, Sebastian',\n",
       " '1,184,967',\n",
       " 'Random House',\n",
       " '44',\n",
       " 'Northern Lights:His Dark Materials S.',\n",
       " 'Pullman, Philip',\n",
       " '1,181,503',\n",
       " 'Scholastic Ltd.',\n",
       " '45',\n",
       " 'Labyrinth',\n",
       " 'Mosse, Kate',\n",
       " '1,181,093',\n",
       " 'Orion',\n",
       " '46',\n",
       " 'Harry Potter and the Half-blood Prince',\n",
       " 'Rowling, J.K.',\n",
       " '1,153,181',\n",
       " 'Bloomsbury',\n",
       " '47',\n",
       " 'Help,The',\n",
       " 'Stockett, Kathryn',\n",
       " '1,132,336',\n",
       " 'Penguin',\n",
       " '48',\n",
       " 'Man and Boy',\n",
       " 'Parsons, Tony',\n",
       " '1,130,802',\n",
       " 'HarperCollins',\n",
       " '49',\n",
       " 'Memoirs of a Geisha',\n",
       " 'Golden, Arthur',\n",
       " '1,126,337',\n",
       " 'Random House',\n",
       " '50',\n",
       " \"No.1 Ladies' Detective Agency,The:No.1 Ladies' Detective Agency S.\",\n",
       " 'McCall Smith, Alexander',\n",
       " '1,115,549',\n",
       " 'Little, Brown Book',\n",
       " '51',\n",
       " 'Island,The',\n",
       " 'Hislop, Victoria',\n",
       " '1,108,328',\n",
       " 'Headline',\n",
       " '52',\n",
       " 'PS, I Love You',\n",
       " 'Ahern, Cecelia',\n",
       " '1,107,379',\n",
       " 'HarperCollins',\n",
       " '53',\n",
       " 'You are What You Eat:The Plan That Will Change Your Life',\n",
       " 'McKeith, Gillian',\n",
       " '1,104,403',\n",
       " 'Penguin',\n",
       " '54',\n",
       " 'Shadow of the Wind,The',\n",
       " 'Zafon, Carlos Ruiz',\n",
       " '1,092,349',\n",
       " 'Orion',\n",
       " '55',\n",
       " 'Tales of Beedle the Bard,The',\n",
       " 'Rowling, J.K.',\n",
       " '1,090,847',\n",
       " 'Bloomsbury',\n",
       " '56',\n",
       " 'Broker,The',\n",
       " 'Grisham, John',\n",
       " '1,087,262',\n",
       " 'Random House',\n",
       " '57',\n",
       " \"Dr. Atkins' New Diet Revolution:The No-hunger, Luxurious Weight Loss P\",\n",
       " 'Atkins, Robert C.',\n",
       " '1,054,196',\n",
       " 'Random House',\n",
       " '58',\n",
       " 'Subtle Knife,The:His Dark Materials S.',\n",
       " 'Pullman, Philip',\n",
       " '1,037,160',\n",
       " 'Scholastic Ltd.',\n",
       " '59',\n",
       " 'Eats, Shoots and Leaves:The Zero Tolerance Approach to Punctuation',\n",
       " 'Truss, Lynne',\n",
       " '1,023,688',\n",
       " 'Profile Books Group',\n",
       " '60',\n",
       " \"Delia's How to Cook:(Bk.1)\",\n",
       " 'Smith, Delia',\n",
       " '1,015,956',\n",
       " 'Random House',\n",
       " '61',\n",
       " 'Chocolat',\n",
       " 'Harris, Joanne',\n",
       " '1,009,873',\n",
       " 'Transworld',\n",
       " '62',\n",
       " 'Boy in the Striped Pyjamas,The',\n",
       " 'Boyne, John',\n",
       " '1,004,414',\n",
       " 'Random House Childrens Books G',\n",
       " '63',\n",
       " \"My Sister's Keeper\",\n",
       " 'Picoult, Jodi',\n",
       " '1,003,780',\n",
       " 'Hodder & Stoughton',\n",
       " '64',\n",
       " 'Amber Spyglass,The:His Dark Materials S.',\n",
       " 'Pullman, Philip',\n",
       " '1,002,314',\n",
       " 'Scholastic Ltd.',\n",
       " '65',\n",
       " 'To Kill a Mockingbird',\n",
       " 'Lee, Harper',\n",
       " '998,213',\n",
       " 'Random House',\n",
       " '66',\n",
       " 'Men are from Mars, Women are from Venus:A Practical Guide for Improvin',\n",
       " 'Gray, John',\n",
       " '992,846',\n",
       " 'HarperCollins',\n",
       " '67',\n",
       " 'Dear Fatty',\n",
       " 'French, Dawn',\n",
       " '986,753',\n",
       " 'Random House',\n",
       " '68',\n",
       " 'Short History of Tractors in Ukrainian,A',\n",
       " 'Lewycka, Marina',\n",
       " '986,115',\n",
       " 'Penguin',\n",
       " '69',\n",
       " 'Hannibal',\n",
       " 'Harris, Thomas',\n",
       " '970,509',\n",
       " 'Random House',\n",
       " '70',\n",
       " 'Lord of the Rings,The',\n",
       " 'Tolkien, J. R. R.',\n",
       " '967,466',\n",
       " 'HarperCollins',\n",
       " '71',\n",
       " 'Stupid White Men:...and Other Sorry Excuses for the State of the Natio',\n",
       " 'Moore, Michael',\n",
       " '963,353',\n",
       " 'Penguin',\n",
       " '72',\n",
       " 'Interpretation of Murder,The',\n",
       " 'Rubenfeld, Jed',\n",
       " '962,515',\n",
       " 'Headline',\n",
       " '73',\n",
       " 'Sharon Osbourne Extreme:My Autobiography',\n",
       " 'Osbourne, Sharon',\n",
       " '959,496',\n",
       " 'Little, Brown Book',\n",
       " '74',\n",
       " 'Alchemist,The:A Fable About Following Your Dream',\n",
       " 'Coelho, Paulo',\n",
       " '956,114',\n",
       " 'HarperCollins',\n",
       " '75',\n",
       " \"At My Mother's Knee ...:and Other Low Joints\",\n",
       " \"O'Grady, Paul\",\n",
       " '945,640',\n",
       " 'Transworld',\n",
       " '76',\n",
       " 'Notes from a Small Island',\n",
       " 'Bryson, Bill',\n",
       " '931,312',\n",
       " 'Transworld',\n",
       " '77',\n",
       " 'Return of the Naked Chef,The',\n",
       " 'Oliver, Jamie',\n",
       " '925,425',\n",
       " 'Penguin',\n",
       " '78',\n",
       " 'Bridget Jones: The Edge of Reason',\n",
       " 'Fielding, Helen',\n",
       " '924,695',\n",
       " 'Pan Macmillan',\n",
       " '79',\n",
       " \"Jamie's Italy\",\n",
       " 'Oliver, Jamie',\n",
       " '906,968',\n",
       " 'Penguin',\n",
       " '80',\n",
       " 'I Can Make You Thin',\n",
       " 'McKenna, Paul',\n",
       " '905,086',\n",
       " 'Transworld',\n",
       " '81',\n",
       " 'Down Under',\n",
       " 'Bryson, Bill',\n",
       " '890,847',\n",
       " 'Transworld',\n",
       " '82',\n",
       " 'Summons,The',\n",
       " 'Grisham, John',\n",
       " '869,671',\n",
       " 'Random House',\n",
       " '83',\n",
       " 'Small Island',\n",
       " 'Levy, Andrea',\n",
       " '869,659',\n",
       " 'Headline',\n",
       " '84',\n",
       " 'Nigella Express',\n",
       " 'Lawson, Nigella',\n",
       " '862,602',\n",
       " 'Random House',\n",
       " '85',\n",
       " 'Brick Lane',\n",
       " 'Ali, Monica',\n",
       " '856,540',\n",
       " 'Transworld',\n",
       " '86',\n",
       " \"Memory Keeper's Daughter,The\",\n",
       " 'Edwards, Kim',\n",
       " '845,858',\n",
       " 'Penguin',\n",
       " '87',\n",
       " 'Room on the Broom',\n",
       " 'Donaldson, Julia',\n",
       " '842,535',\n",
       " 'Pan Macmillan',\n",
       " '88',\n",
       " 'About a Boy',\n",
       " 'Hornby, Nick',\n",
       " '828,215',\n",
       " 'Penguin',\n",
       " '89',\n",
       " 'My Booky Wook',\n",
       " 'Brand, Russell',\n",
       " '820,563',\n",
       " 'Hodder & Stoughton',\n",
       " '90',\n",
       " 'God Delusion,The',\n",
       " 'Dawkins, Richard',\n",
       " '816,907',\n",
       " 'Transworld',\n",
       " '91',\n",
       " '\"Beano\" Annual,The',\n",
       " '0',\n",
       " '816,585',\n",
       " 'D.C. Thomson',\n",
       " '92',\n",
       " 'White Teeth',\n",
       " 'Smith, Zadie',\n",
       " '815,586',\n",
       " 'Penguin',\n",
       " '93',\n",
       " 'House at Riverton,The',\n",
       " 'Morton, Kate',\n",
       " '814,370',\n",
       " 'Pan Macmillan',\n",
       " '94',\n",
       " 'Book Thief,The',\n",
       " 'Zusak, Markus',\n",
       " '809,641',\n",
       " 'Transworld',\n",
       " '95',\n",
       " 'Nights of Rain and Stars',\n",
       " 'Binchy, Maeve',\n",
       " '808,900',\n",
       " 'Orion',\n",
       " '96',\n",
       " 'Ghost,The',\n",
       " 'Harris, Robert',\n",
       " '807,311',\n",
       " 'Random House',\n",
       " '97',\n",
       " 'Happy Days with the Naked Chef',\n",
       " 'Oliver, Jamie',\n",
       " '794,201',\n",
       " 'Penguin',\n",
       " '98',\n",
       " 'Hunger Games,The:Hunger Games Trilogy',\n",
       " 'Collins, Suzanne',\n",
       " '792,187',\n",
       " 'Scholastic Ltd.',\n",
       " '99',\n",
       " \"Lost Boy,The:A Foster Child's Search for the Love of a Family\",\n",
       " 'Pelzer, Dave',\n",
       " '791,507',\n",
       " 'Orion',\n",
       " '100',\n",
       " \"Jamie's Ministry of Food:Anyone Can Learn to Cook in 24 Hours\",\n",
       " 'Oliver, Jamie',\n",
       " '791,095',\n",
       " 'Penguin']"
      ]
     },
     "execution_count": 90,
     "metadata": {},
     "output_type": "execute_result"
    }
   ],
   "source": [
    "author"
   ]
  },
  {
   "cell_type": "code",
   "execution_count": 91,
   "id": "bound-executive",
   "metadata": {},
   "outputs": [
    {
     "data": {
      "text/plain": [
       "'1'"
      ]
     },
     "execution_count": 91,
     "metadata": {},
     "output_type": "execute_result"
    }
   ],
   "source": [
    "author.pop(0)"
   ]
  },
  {
   "cell_type": "code",
   "execution_count": 92,
   "id": "ignored-blind",
   "metadata": {},
   "outputs": [
    {
     "data": {
      "text/plain": [
       "'Da Vinci Code,The'"
      ]
     },
     "execution_count": 92,
     "metadata": {},
     "output_type": "execute_result"
    }
   ],
   "source": [
    "author.pop(0)"
   ]
  },
  {
   "cell_type": "code",
   "execution_count": 93,
   "id": "biblical-institution",
   "metadata": {},
   "outputs": [
    {
     "data": {
      "text/plain": [
       "'5,094,805'"
      ]
     },
     "execution_count": 93,
     "metadata": {},
     "output_type": "execute_result"
    }
   ],
   "source": [
    "author.pop(1)"
   ]
  },
  {
   "cell_type": "code",
   "execution_count": 94,
   "id": "traditional-daily",
   "metadata": {},
   "outputs": [
    {
     "data": {
      "text/plain": [
       "'Transworld'"
      ]
     },
     "execution_count": 94,
     "metadata": {},
     "output_type": "execute_result"
    }
   ],
   "source": [
    "author.pop(1)"
   ]
  },
  {
   "cell_type": "code",
   "execution_count": 95,
   "id": "close-bolivia",
   "metadata": {},
   "outputs": [
    {
     "data": {
      "text/plain": [
       "'2'"
      ]
     },
     "execution_count": 95,
     "metadata": {},
     "output_type": "execute_result"
    }
   ],
   "source": [
    "author.pop(1)"
   ]
  },
  {
   "cell_type": "code",
   "execution_count": 96,
   "id": "considerable-pointer",
   "metadata": {},
   "outputs": [
    {
     "data": {
      "text/plain": [
       "'Harry Potter and the Deathly Hallows'"
      ]
     },
     "execution_count": 96,
     "metadata": {},
     "output_type": "execute_result"
    }
   ],
   "source": [
    "author.pop(1)"
   ]
  },
  {
   "cell_type": "code",
   "execution_count": 97,
   "id": "acceptable-mandate",
   "metadata": {},
   "outputs": [
    {
     "data": {
      "text/plain": [
       "'4,475,152'"
      ]
     },
     "execution_count": 97,
     "metadata": {},
     "output_type": "execute_result"
    }
   ],
   "source": [
    "author.pop(2)"
   ]
  },
  {
   "cell_type": "code",
   "execution_count": 98,
   "id": "normal-bride",
   "metadata": {},
   "outputs": [
    {
     "data": {
      "text/plain": [
       "'Bloomsbury'"
      ]
     },
     "execution_count": 98,
     "metadata": {},
     "output_type": "execute_result"
    }
   ],
   "source": [
    "author.pop(2)"
   ]
  },
  {
   "cell_type": "code",
   "execution_count": 99,
   "id": "satellite-bahamas",
   "metadata": {},
   "outputs": [
    {
     "data": {
      "text/plain": [
       "'3'"
      ]
     },
     "execution_count": 99,
     "metadata": {},
     "output_type": "execute_result"
    }
   ],
   "source": [
    "author.pop(2)"
   ]
  },
  {
   "cell_type": "code",
   "execution_count": 100,
   "id": "crazy-button",
   "metadata": {},
   "outputs": [
    {
     "data": {
      "text/plain": [
       "\"Harry Potter and the Philosopher's Stone\""
      ]
     },
     "execution_count": 100,
     "metadata": {},
     "output_type": "execute_result"
    }
   ],
   "source": [
    "author.pop(2)"
   ]
  },
  {
   "cell_type": "code",
   "execution_count": 101,
   "id": "comparable-scanner",
   "metadata": {},
   "outputs": [
    {
     "data": {
      "text/plain": [
       "'4,200,654'"
      ]
     },
     "execution_count": 101,
     "metadata": {},
     "output_type": "execute_result"
    }
   ],
   "source": [
    "author.pop(3)"
   ]
  },
  {
   "cell_type": "code",
   "execution_count": 102,
   "id": "pending-julian",
   "metadata": {},
   "outputs": [
    {
     "data": {
      "text/plain": [
       "'Bloomsbury'"
      ]
     },
     "execution_count": 102,
     "metadata": {},
     "output_type": "execute_result"
    }
   ],
   "source": [
    "author.pop(3)"
   ]
  },
  {
   "cell_type": "code",
   "execution_count": 103,
   "id": "built-cycle",
   "metadata": {},
   "outputs": [
    {
     "data": {
      "text/plain": [
       "'4'"
      ]
     },
     "execution_count": 103,
     "metadata": {},
     "output_type": "execute_result"
    }
   ],
   "source": [
    "author.pop(3)"
   ]
  },
  {
   "cell_type": "code",
   "execution_count": 104,
   "id": "removed-cheat",
   "metadata": {},
   "outputs": [
    {
     "data": {
      "text/plain": [
       "'Harry Potter and the Order of the Phoenix'"
      ]
     },
     "execution_count": 104,
     "metadata": {},
     "output_type": "execute_result"
    }
   ],
   "source": [
    "author.pop(3)"
   ]
  },
  {
   "cell_type": "code",
   "execution_count": 105,
   "id": "sophisticated-fiction",
   "metadata": {},
   "outputs": [
    {
     "data": {
      "text/plain": [
       "'4,179,479'"
      ]
     },
     "execution_count": 105,
     "metadata": {},
     "output_type": "execute_result"
    }
   ],
   "source": [
    "author.pop(4)"
   ]
  },
  {
   "cell_type": "code",
   "execution_count": 106,
   "id": "rolled-reggae",
   "metadata": {},
   "outputs": [
    {
     "data": {
      "text/plain": [
       "'Bloomsbury'"
      ]
     },
     "execution_count": 106,
     "metadata": {},
     "output_type": "execute_result"
    }
   ],
   "source": [
    "author.pop(4)"
   ]
  },
  {
   "cell_type": "code",
   "execution_count": 107,
   "id": "residential-cross",
   "metadata": {},
   "outputs": [
    {
     "data": {
      "text/plain": [
       "'5'"
      ]
     },
     "execution_count": 107,
     "metadata": {},
     "output_type": "execute_result"
    }
   ],
   "source": [
    "author.pop(4)"
   ]
  },
  {
   "cell_type": "code",
   "execution_count": 108,
   "id": "informed-dominant",
   "metadata": {},
   "outputs": [
    {
     "data": {
      "text/plain": [
       "'Fifty Shades of Grey'"
      ]
     },
     "execution_count": 108,
     "metadata": {},
     "output_type": "execute_result"
    }
   ],
   "source": [
    "author.pop(4)"
   ]
  },
  {
   "cell_type": "code",
   "execution_count": 109,
   "id": "hybrid-israeli",
   "metadata": {},
   "outputs": [
    {
     "data": {
      "text/plain": [
       "'3,758,936'"
      ]
     },
     "execution_count": 109,
     "metadata": {},
     "output_type": "execute_result"
    }
   ],
   "source": [
    "author.pop(5)"
   ]
  },
  {
   "cell_type": "code",
   "execution_count": 110,
   "id": "precise-harbor",
   "metadata": {},
   "outputs": [
    {
     "data": {
      "text/plain": [
       "'Random House'"
      ]
     },
     "execution_count": 110,
     "metadata": {},
     "output_type": "execute_result"
    }
   ],
   "source": [
    "author.pop(5)"
   ]
  },
  {
   "cell_type": "code",
   "execution_count": 111,
   "id": "placed-administration",
   "metadata": {},
   "outputs": [
    {
     "data": {
      "text/plain": [
       "'6'"
      ]
     },
     "execution_count": 111,
     "metadata": {},
     "output_type": "execute_result"
    }
   ],
   "source": [
    "author.pop(5)"
   ]
  },
  {
   "cell_type": "code",
   "execution_count": 112,
   "id": "variable-worth",
   "metadata": {},
   "outputs": [
    {
     "data": {
      "text/plain": [
       "'Harry Potter and the Goblet of Fire'"
      ]
     },
     "execution_count": 112,
     "metadata": {},
     "output_type": "execute_result"
    }
   ],
   "source": [
    "author.pop(5)"
   ]
  },
  {
   "cell_type": "code",
   "execution_count": 113,
   "id": "dental-violation",
   "metadata": {},
   "outputs": [
    {
     "data": {
      "text/plain": [
       "'3,583,215'"
      ]
     },
     "execution_count": 113,
     "metadata": {},
     "output_type": "execute_result"
    }
   ],
   "source": [
    "author.pop(6)"
   ]
  },
  {
   "cell_type": "code",
   "execution_count": 114,
   "id": "individual-sensitivity",
   "metadata": {},
   "outputs": [
    {
     "data": {
      "text/plain": [
       "'Bloomsbury'"
      ]
     },
     "execution_count": 114,
     "metadata": {},
     "output_type": "execute_result"
    }
   ],
   "source": [
    "author.pop(6)"
   ]
  },
  {
   "cell_type": "code",
   "execution_count": 115,
   "id": "involved-planet",
   "metadata": {},
   "outputs": [
    {
     "data": {
      "text/plain": [
       "'7'"
      ]
     },
     "execution_count": 115,
     "metadata": {},
     "output_type": "execute_result"
    }
   ],
   "source": [
    "author.pop(6)"
   ]
  },
  {
   "cell_type": "code",
   "execution_count": 116,
   "id": "ecological-packet",
   "metadata": {},
   "outputs": [
    {
     "data": {
      "text/plain": [
       "'Harry Potter and the Chamber of Secrets'"
      ]
     },
     "execution_count": 116,
     "metadata": {},
     "output_type": "execute_result"
    }
   ],
   "source": [
    "author.pop(6)"
   ]
  },
  {
   "cell_type": "code",
   "execution_count": 117,
   "id": "retained-mattress",
   "metadata": {},
   "outputs": [
    {
     "data": {
      "text/plain": [
       "'3,484,047'"
      ]
     },
     "execution_count": 117,
     "metadata": {},
     "output_type": "execute_result"
    }
   ],
   "source": [
    "author.pop(7)"
   ]
  },
  {
   "cell_type": "code",
   "execution_count": 118,
   "id": "specialized-affect",
   "metadata": {},
   "outputs": [
    {
     "data": {
      "text/plain": [
       "'Bloomsbury'"
      ]
     },
     "execution_count": 118,
     "metadata": {},
     "output_type": "execute_result"
    }
   ],
   "source": [
    "author.pop(7)"
   ]
  },
  {
   "cell_type": "code",
   "execution_count": 119,
   "id": "phantom-danish",
   "metadata": {},
   "outputs": [
    {
     "data": {
      "text/plain": [
       "'8'"
      ]
     },
     "execution_count": 119,
     "metadata": {},
     "output_type": "execute_result"
    }
   ],
   "source": [
    "author.pop(7)"
   ]
  },
  {
   "cell_type": "code",
   "execution_count": 120,
   "id": "vulnerable-theology",
   "metadata": {},
   "outputs": [
    {
     "data": {
      "text/plain": [
       "'Harry Potter and the Prisoner of Azkaban'"
      ]
     },
     "execution_count": 120,
     "metadata": {},
     "output_type": "execute_result"
    }
   ],
   "source": [
    "author.pop(7)"
   ]
  },
  {
   "cell_type": "code",
   "execution_count": 121,
   "id": "combined-adaptation",
   "metadata": {},
   "outputs": [
    {
     "data": {
      "text/plain": [
       "'3,377,906'"
      ]
     },
     "execution_count": 121,
     "metadata": {},
     "output_type": "execute_result"
    }
   ],
   "source": [
    "author.pop(8)"
   ]
  },
  {
   "cell_type": "code",
   "execution_count": 122,
   "id": "packed-guinea",
   "metadata": {},
   "outputs": [
    {
     "data": {
      "text/plain": [
       "'Bloomsbury'"
      ]
     },
     "execution_count": 122,
     "metadata": {},
     "output_type": "execute_result"
    }
   ],
   "source": [
    "author.pop(8)"
   ]
  },
  {
   "cell_type": "code",
   "execution_count": 123,
   "id": "radical-bandwidth",
   "metadata": {},
   "outputs": [
    {
     "data": {
      "text/plain": [
       "'9'"
      ]
     },
     "execution_count": 123,
     "metadata": {},
     "output_type": "execute_result"
    }
   ],
   "source": [
    "author.pop(8)"
   ]
  },
  {
   "cell_type": "code",
   "execution_count": 124,
   "id": "exotic-massage",
   "metadata": {},
   "outputs": [
    {
     "data": {
      "text/plain": [
       "'Angels and Demons'"
      ]
     },
     "execution_count": 124,
     "metadata": {},
     "output_type": "execute_result"
    }
   ],
   "source": [
    "author.pop(8)"
   ]
  },
  {
   "cell_type": "code",
   "execution_count": 125,
   "id": "bright-movie",
   "metadata": {},
   "outputs": [
    {
     "data": {
      "text/plain": [
       "'3,193,946'"
      ]
     },
     "execution_count": 125,
     "metadata": {},
     "output_type": "execute_result"
    }
   ],
   "source": [
    "author.pop(9)"
   ]
  },
  {
   "cell_type": "code",
   "execution_count": 126,
   "id": "engaging-asbestos",
   "metadata": {},
   "outputs": [
    {
     "data": {
      "text/plain": [
       "'Transworld'"
      ]
     },
     "execution_count": 126,
     "metadata": {},
     "output_type": "execute_result"
    }
   ],
   "source": [
    "author.pop(9)"
   ]
  },
  {
   "cell_type": "code",
   "execution_count": 127,
   "id": "indirect-cornell",
   "metadata": {},
   "outputs": [
    {
     "data": {
      "text/plain": [
       "'10'"
      ]
     },
     "execution_count": 127,
     "metadata": {},
     "output_type": "execute_result"
    }
   ],
   "source": [
    "author.pop(9)"
   ]
  },
  {
   "cell_type": "code",
   "execution_count": 128,
   "id": "valuable-recovery",
   "metadata": {},
   "outputs": [
    {
     "data": {
      "text/plain": [
       "\"Harry Potter and the Half-blood Prince:Children's Edition\""
      ]
     },
     "execution_count": 128,
     "metadata": {},
     "output_type": "execute_result"
    }
   ],
   "source": [
    "author.pop(9)"
   ]
  },
  {
   "cell_type": "code",
   "execution_count": 129,
   "id": "diagnostic-request",
   "metadata": {},
   "outputs": [
    {
     "data": {
      "text/plain": [
       "'2,950,264'"
      ]
     },
     "execution_count": 129,
     "metadata": {},
     "output_type": "execute_result"
    }
   ],
   "source": [
    "author.pop(10)"
   ]
  },
  {
   "cell_type": "code",
   "execution_count": 130,
   "id": "provincial-broadcasting",
   "metadata": {},
   "outputs": [
    {
     "data": {
      "text/plain": [
       "'Bloomsbury'"
      ]
     },
     "execution_count": 130,
     "metadata": {},
     "output_type": "execute_result"
    }
   ],
   "source": [
    "author.pop(10)"
   ]
  },
  {
   "cell_type": "code",
   "execution_count": 131,
   "id": "headed-package",
   "metadata": {},
   "outputs": [
    {
     "data": {
      "text/plain": [
       "'11'"
      ]
     },
     "execution_count": 131,
     "metadata": {},
     "output_type": "execute_result"
    }
   ],
   "source": [
    "author.pop(10)"
   ]
  },
  {
   "cell_type": "code",
   "execution_count": 132,
   "id": "northern-kruger",
   "metadata": {},
   "outputs": [
    {
     "data": {
      "text/plain": [
       "'Fifty Shades Darker'"
      ]
     },
     "execution_count": 132,
     "metadata": {},
     "output_type": "execute_result"
    }
   ],
   "source": [
    "author.pop(10)"
   ]
  },
  {
   "cell_type": "code",
   "execution_count": 133,
   "id": "polished-classroom",
   "metadata": {},
   "outputs": [
    {
     "data": {
      "text/plain": [
       "'2,479,784'"
      ]
     },
     "execution_count": 133,
     "metadata": {},
     "output_type": "execute_result"
    }
   ],
   "source": [
    "author.pop(11)"
   ]
  },
  {
   "cell_type": "code",
   "execution_count": 134,
   "id": "immediate-spice",
   "metadata": {},
   "outputs": [
    {
     "data": {
      "text/plain": [
       "'Random House'"
      ]
     },
     "execution_count": 134,
     "metadata": {},
     "output_type": "execute_result"
    }
   ],
   "source": [
    "author.pop(11)"
   ]
  },
  {
   "cell_type": "code",
   "execution_count": 135,
   "id": "insured-meditation",
   "metadata": {},
   "outputs": [
    {
     "data": {
      "text/plain": [
       "'12'"
      ]
     },
     "execution_count": 135,
     "metadata": {},
     "output_type": "execute_result"
    }
   ],
   "source": [
    "author.pop(11)"
   ]
  },
  {
   "cell_type": "code",
   "execution_count": 136,
   "id": "banned-power",
   "metadata": {},
   "outputs": [
    {
     "data": {
      "text/plain": [
       "'Twilight'"
      ]
     },
     "execution_count": 136,
     "metadata": {},
     "output_type": "execute_result"
    }
   ],
   "source": [
    "author.pop(11)"
   ]
  },
  {
   "cell_type": "code",
   "execution_count": 137,
   "id": "physical-enemy",
   "metadata": {},
   "outputs": [
    {
     "data": {
      "text/plain": [
       "'2,315,405'"
      ]
     },
     "execution_count": 137,
     "metadata": {},
     "output_type": "execute_result"
    }
   ],
   "source": [
    "author.pop(12)"
   ]
  },
  {
   "cell_type": "code",
   "execution_count": 138,
   "id": "cellular-works",
   "metadata": {},
   "outputs": [
    {
     "data": {
      "text/plain": [
       "'Little, Brown Book'"
      ]
     },
     "execution_count": 138,
     "metadata": {},
     "output_type": "execute_result"
    }
   ],
   "source": [
    "author.pop(12)"
   ]
  },
  {
   "cell_type": "code",
   "execution_count": 139,
   "id": "varying-grammar",
   "metadata": {},
   "outputs": [
    {
     "data": {
      "text/plain": [
       "'13'"
      ]
     },
     "execution_count": 139,
     "metadata": {},
     "output_type": "execute_result"
    }
   ],
   "source": [
    "author.pop(12)"
   ]
  },
  {
   "cell_type": "code",
   "execution_count": 140,
   "id": "featured-blood",
   "metadata": {},
   "outputs": [
    {
     "data": {
      "text/plain": [
       "'Girl with the Dragon Tattoo,The:Millennium Trilogy'"
      ]
     },
     "execution_count": 140,
     "metadata": {},
     "output_type": "execute_result"
    }
   ],
   "source": [
    "author.pop(12)"
   ]
  },
  {
   "cell_type": "code",
   "execution_count": 141,
   "id": "ordered-orbit",
   "metadata": {},
   "outputs": [
    {
     "data": {
      "text/plain": [
       "'2,233,570'"
      ]
     },
     "execution_count": 141,
     "metadata": {},
     "output_type": "execute_result"
    }
   ],
   "source": [
    "author.pop(13)"
   ]
  },
  {
   "cell_type": "code",
   "execution_count": 142,
   "id": "progressive-triumph",
   "metadata": {},
   "outputs": [
    {
     "data": {
      "text/plain": [
       "'Quercus'"
      ]
     },
     "execution_count": 142,
     "metadata": {},
     "output_type": "execute_result"
    }
   ],
   "source": [
    "author.pop(13)"
   ]
  },
  {
   "cell_type": "code",
   "execution_count": 143,
   "id": "bronze-error",
   "metadata": {},
   "outputs": [
    {
     "data": {
      "text/plain": [
       "'14'"
      ]
     },
     "execution_count": 143,
     "metadata": {},
     "output_type": "execute_result"
    }
   ],
   "source": [
    "author.pop(13)"
   ]
  },
  {
   "cell_type": "code",
   "execution_count": 144,
   "id": "adverse-retailer",
   "metadata": {},
   "outputs": [
    {
     "data": {
      "text/plain": [
       "'Fifty Shades Freed'"
      ]
     },
     "execution_count": 144,
     "metadata": {},
     "output_type": "execute_result"
    }
   ],
   "source": [
    "author.pop(13)"
   ]
  },
  {
   "cell_type": "code",
   "execution_count": 145,
   "id": "conventional-shuttle",
   "metadata": {},
   "outputs": [
    {
     "data": {
      "text/plain": [
       "'2,193,928'"
      ]
     },
     "execution_count": 145,
     "metadata": {},
     "output_type": "execute_result"
    }
   ],
   "source": [
    "author.pop(14)"
   ]
  },
  {
   "cell_type": "code",
   "execution_count": 146,
   "id": "selected-facing",
   "metadata": {},
   "outputs": [
    {
     "data": {
      "text/plain": [
       "'Random House'"
      ]
     },
     "execution_count": 146,
     "metadata": {},
     "output_type": "execute_result"
    }
   ],
   "source": [
    "author.pop(14)"
   ]
  },
  {
   "cell_type": "code",
   "execution_count": 147,
   "id": "posted-appreciation",
   "metadata": {},
   "outputs": [
    {
     "data": {
      "text/plain": [
       "'15'"
      ]
     },
     "execution_count": 147,
     "metadata": {},
     "output_type": "execute_result"
    }
   ],
   "source": [
    "author.pop(14)"
   ]
  },
  {
   "cell_type": "code",
   "execution_count": 148,
   "id": "hearing-trace",
   "metadata": {},
   "outputs": [
    {
     "data": {
      "text/plain": [
       "'Lost Symbol,The'"
      ]
     },
     "execution_count": 148,
     "metadata": {},
     "output_type": "execute_result"
    }
   ],
   "source": [
    "author.pop(14)"
   ]
  },
  {
   "cell_type": "code",
   "execution_count": 149,
   "id": "attended-alloy",
   "metadata": {},
   "outputs": [
    {
     "data": {
      "text/plain": [
       "'2,183,031'"
      ]
     },
     "execution_count": 149,
     "metadata": {},
     "output_type": "execute_result"
    }
   ],
   "source": [
    "author.pop(15)"
   ]
  },
  {
   "cell_type": "code",
   "execution_count": 150,
   "id": "alternate-there",
   "metadata": {},
   "outputs": [
    {
     "data": {
      "text/plain": [
       "'Transworld'"
      ]
     },
     "execution_count": 150,
     "metadata": {},
     "output_type": "execute_result"
    }
   ],
   "source": [
    "author.pop(15)"
   ]
  },
  {
   "cell_type": "code",
   "execution_count": 151,
   "id": "distant-speaking",
   "metadata": {},
   "outputs": [
    {
     "data": {
      "text/plain": [
       "'16'"
      ]
     },
     "execution_count": 151,
     "metadata": {},
     "output_type": "execute_result"
    }
   ],
   "source": [
    "author.pop(15)"
   ]
  },
  {
   "cell_type": "code",
   "execution_count": 152,
   "id": "silent-distributor",
   "metadata": {},
   "outputs": [
    {
     "data": {
      "text/plain": [
       "'New Moon'"
      ]
     },
     "execution_count": 152,
     "metadata": {},
     "output_type": "execute_result"
    }
   ],
   "source": [
    "author.pop(15)"
   ]
  },
  {
   "cell_type": "code",
   "execution_count": 153,
   "id": "honest-glance",
   "metadata": {},
   "outputs": [
    {
     "data": {
      "text/plain": [
       "'2,152,737'"
      ]
     },
     "execution_count": 153,
     "metadata": {},
     "output_type": "execute_result"
    }
   ],
   "source": [
    "author.pop(16)"
   ]
  },
  {
   "cell_type": "code",
   "execution_count": 154,
   "id": "atlantic-spray",
   "metadata": {},
   "outputs": [
    {
     "data": {
      "text/plain": [
       "'Little, Brown Book'"
      ]
     },
     "execution_count": 154,
     "metadata": {},
     "output_type": "execute_result"
    }
   ],
   "source": [
    "author.pop(16)"
   ]
  },
  {
   "cell_type": "code",
   "execution_count": 155,
   "id": "excess-writer",
   "metadata": {},
   "outputs": [
    {
     "data": {
      "text/plain": [
       "'17'"
      ]
     },
     "execution_count": 155,
     "metadata": {},
     "output_type": "execute_result"
    }
   ],
   "source": [
    "author.pop(16)"
   ]
  },
  {
   "cell_type": "code",
   "execution_count": 156,
   "id": "backed-oriental",
   "metadata": {},
   "outputs": [
    {
     "data": {
      "text/plain": [
       "'Deception Point'"
      ]
     },
     "execution_count": 156,
     "metadata": {},
     "output_type": "execute_result"
    }
   ],
   "source": [
    "author.pop(16)"
   ]
  },
  {
   "cell_type": "code",
   "execution_count": 157,
   "id": "packed-request",
   "metadata": {},
   "outputs": [
    {
     "data": {
      "text/plain": [
       "'2,062,145'"
      ]
     },
     "execution_count": 157,
     "metadata": {},
     "output_type": "execute_result"
    }
   ],
   "source": [
    "author.pop(17)"
   ]
  },
  {
   "cell_type": "code",
   "execution_count": 158,
   "id": "mathematical-community",
   "metadata": {},
   "outputs": [
    {
     "data": {
      "text/plain": [
       "'Transworld'"
      ]
     },
     "execution_count": 158,
     "metadata": {},
     "output_type": "execute_result"
    }
   ],
   "source": [
    "author.pop(17)"
   ]
  },
  {
   "cell_type": "code",
   "execution_count": 159,
   "id": "nonprofit-honor",
   "metadata": {},
   "outputs": [
    {
     "data": {
      "text/plain": [
       "'18'"
      ]
     },
     "execution_count": 159,
     "metadata": {},
     "output_type": "execute_result"
    }
   ],
   "source": [
    "author.pop(17)"
   ]
  },
  {
   "cell_type": "code",
   "execution_count": 160,
   "id": "judicial-reservation",
   "metadata": {},
   "outputs": [
    {
     "data": {
      "text/plain": [
       "'Eclipse'"
      ]
     },
     "execution_count": 160,
     "metadata": {},
     "output_type": "execute_result"
    }
   ],
   "source": [
    "author.pop(17)"
   ]
  },
  {
   "cell_type": "code",
   "execution_count": 161,
   "id": "sudden-console",
   "metadata": {},
   "outputs": [
    {
     "data": {
      "text/plain": [
       "'2,052,876'"
      ]
     },
     "execution_count": 161,
     "metadata": {},
     "output_type": "execute_result"
    }
   ],
   "source": [
    "author.pop(18)"
   ]
  },
  {
   "cell_type": "code",
   "execution_count": 162,
   "id": "modern-passport",
   "metadata": {},
   "outputs": [
    {
     "data": {
      "text/plain": [
       "'Little, Brown Book'"
      ]
     },
     "execution_count": 162,
     "metadata": {},
     "output_type": "execute_result"
    }
   ],
   "source": [
    "author.pop(18)"
   ]
  },
  {
   "cell_type": "code",
   "execution_count": 163,
   "id": "frank-novel",
   "metadata": {},
   "outputs": [
    {
     "data": {
      "text/plain": [
       "'19'"
      ]
     },
     "execution_count": 163,
     "metadata": {},
     "output_type": "execute_result"
    }
   ],
   "source": [
    "author.pop(18)"
   ]
  },
  {
   "cell_type": "code",
   "execution_count": 164,
   "id": "adopted-dallas",
   "metadata": {},
   "outputs": [
    {
     "data": {
      "text/plain": [
       "'Lovely Bones,The'"
      ]
     },
     "execution_count": 164,
     "metadata": {},
     "output_type": "execute_result"
    }
   ],
   "source": [
    "author.pop(18)"
   ]
  },
  {
   "cell_type": "code",
   "execution_count": 165,
   "id": "nonprofit-sperm",
   "metadata": {},
   "outputs": [
    {
     "data": {
      "text/plain": [
       "'2,005,598'"
      ]
     },
     "execution_count": 165,
     "metadata": {},
     "output_type": "execute_result"
    }
   ],
   "source": [
    "author.pop(19)"
   ]
  },
  {
   "cell_type": "code",
   "execution_count": 166,
   "id": "prescribed-timeline",
   "metadata": {},
   "outputs": [
    {
     "data": {
      "text/plain": [
       "'Pan Macmillan'"
      ]
     },
     "execution_count": 166,
     "metadata": {},
     "output_type": "execute_result"
    }
   ],
   "source": [
    "author.pop(19)"
   ]
  },
  {
   "cell_type": "code",
   "execution_count": 167,
   "id": "found-opportunity",
   "metadata": {},
   "outputs": [
    {
     "data": {
      "text/plain": [
       "'20'"
      ]
     },
     "execution_count": 167,
     "metadata": {},
     "output_type": "execute_result"
    }
   ],
   "source": [
    "author.pop(19)"
   ]
  },
  {
   "cell_type": "code",
   "execution_count": 168,
   "id": "entertaining-roberts",
   "metadata": {},
   "outputs": [
    {
     "data": {
      "text/plain": [
       "'Curious Incident of the Dog in the Night-time,The'"
      ]
     },
     "execution_count": 168,
     "metadata": {},
     "output_type": "execute_result"
    }
   ],
   "source": [
    "author.pop(19)"
   ]
  },
  {
   "cell_type": "code",
   "execution_count": 169,
   "id": "informational-therapy",
   "metadata": {},
   "outputs": [
    {
     "data": {
      "text/plain": [
       "'1,979,552'"
      ]
     },
     "execution_count": 169,
     "metadata": {},
     "output_type": "execute_result"
    }
   ],
   "source": [
    "author.pop(20)"
   ]
  },
  {
   "cell_type": "code",
   "execution_count": 170,
   "id": "static-macintosh",
   "metadata": {},
   "outputs": [
    {
     "data": {
      "text/plain": [
       "'Random House'"
      ]
     },
     "execution_count": 170,
     "metadata": {},
     "output_type": "execute_result"
    }
   ],
   "source": [
    "author.pop(20)"
   ]
  },
  {
   "cell_type": "code",
   "execution_count": 171,
   "id": "configured-berlin",
   "metadata": {},
   "outputs": [
    {
     "data": {
      "text/plain": [
       "'21'"
      ]
     },
     "execution_count": 171,
     "metadata": {},
     "output_type": "execute_result"
    }
   ],
   "source": [
    "author.pop(20)"
   ]
  },
  {
   "cell_type": "code",
   "execution_count": 172,
   "id": "brave-daughter",
   "metadata": {},
   "outputs": [
    {
     "data": {
      "text/plain": [
       "'Digital Fortress'"
      ]
     },
     "execution_count": 172,
     "metadata": {},
     "output_type": "execute_result"
    }
   ],
   "source": [
    "author.pop(20)"
   ]
  },
  {
   "cell_type": "code",
   "execution_count": 173,
   "id": "cloudy-wells",
   "metadata": {},
   "outputs": [
    {
     "data": {
      "text/plain": [
       "['Brown, Dan',\n",
       " 'Rowling, J.K.',\n",
       " 'Rowling, J.K.',\n",
       " 'Rowling, J.K.',\n",
       " 'James, E. L.',\n",
       " 'Rowling, J.K.',\n",
       " 'Rowling, J.K.',\n",
       " 'Rowling, J.K.',\n",
       " 'Brown, Dan',\n",
       " 'Rowling, J.K.',\n",
       " 'James, E. L.',\n",
       " 'Meyer, Stephenie',\n",
       " 'Larsson, Stieg',\n",
       " 'James, E. L.',\n",
       " 'Brown, Dan',\n",
       " 'Meyer, Stephenie',\n",
       " 'Brown, Dan',\n",
       " 'Meyer, Stephenie',\n",
       " 'Sebold, Alice',\n",
       " 'Haddon, Mark']"
      ]
     },
     "execution_count": 173,
     "metadata": {},
     "output_type": "execute_result"
    }
   ],
   "source": [
    "author[0:20]"
   ]
  },
  {
   "cell_type": "code",
   "execution_count": 174,
   "id": "fixed-municipality",
   "metadata": {},
   "outputs": [],
   "source": [
    "volume=[]"
   ]
  },
  {
   "cell_type": "code",
   "execution_count": 175,
   "id": "inclusive-hearts",
   "metadata": {},
   "outputs": [],
   "source": [
    "volume_tags=browser.find_elements_by_xpath(\"//td[@class='left']\")\n",
    "for i in volume_tags:\n",
    "    if i.text is None :\n",
    "        volume.append(\"no rating\") \n",
    "    else:\n",
    "        volume.append(i.text)"
   ]
  },
  {
   "cell_type": "code",
   "execution_count": 176,
   "id": "warming-leonard",
   "metadata": {},
   "outputs": [
    {
     "data": {
      "text/plain": [
       "'1'"
      ]
     },
     "execution_count": 176,
     "metadata": {},
     "output_type": "execute_result"
    }
   ],
   "source": [
    "volume.pop(0)"
   ]
  },
  {
   "cell_type": "code",
   "execution_count": 177,
   "id": "altered-dubai",
   "metadata": {},
   "outputs": [
    {
     "data": {
      "text/plain": [
       "'Da Vinci Code,The'"
      ]
     },
     "execution_count": 177,
     "metadata": {},
     "output_type": "execute_result"
    }
   ],
   "source": [
    "volume.pop(0)"
   ]
  },
  {
   "cell_type": "code",
   "execution_count": 178,
   "id": "sound-semiconductor",
   "metadata": {},
   "outputs": [
    {
     "data": {
      "text/plain": [
       "'Brown, Dan'"
      ]
     },
     "execution_count": 178,
     "metadata": {},
     "output_type": "execute_result"
    }
   ],
   "source": [
    "volume.pop(0)"
   ]
  },
  {
   "cell_type": "code",
   "execution_count": 179,
   "id": "fifty-superior",
   "metadata": {},
   "outputs": [
    {
     "data": {
      "text/plain": [
       "'Transworld'"
      ]
     },
     "execution_count": 179,
     "metadata": {},
     "output_type": "execute_result"
    }
   ],
   "source": [
    "volume.pop(1)"
   ]
  },
  {
   "cell_type": "code",
   "execution_count": 180,
   "id": "demanding-symphony",
   "metadata": {},
   "outputs": [
    {
     "data": {
      "text/plain": [
       "'2'"
      ]
     },
     "execution_count": 180,
     "metadata": {},
     "output_type": "execute_result"
    }
   ],
   "source": [
    "volume.pop(1)"
   ]
  },
  {
   "cell_type": "code",
   "execution_count": 181,
   "id": "square-protest",
   "metadata": {},
   "outputs": [
    {
     "data": {
      "text/plain": [
       "'Harry Potter and the Deathly Hallows'"
      ]
     },
     "execution_count": 181,
     "metadata": {},
     "output_type": "execute_result"
    }
   ],
   "source": [
    "volume.pop(1)"
   ]
  },
  {
   "cell_type": "code",
   "execution_count": 182,
   "id": "grateful-fitting",
   "metadata": {},
   "outputs": [
    {
     "data": {
      "text/plain": [
       "'Rowling, J.K.'"
      ]
     },
     "execution_count": 182,
     "metadata": {},
     "output_type": "execute_result"
    }
   ],
   "source": [
    "volume.pop(1)"
   ]
  },
  {
   "cell_type": "code",
   "execution_count": 183,
   "id": "recreational-central",
   "metadata": {},
   "outputs": [
    {
     "data": {
      "text/plain": [
       "'Bloomsbury'"
      ]
     },
     "execution_count": 183,
     "metadata": {},
     "output_type": "execute_result"
    }
   ],
   "source": [
    "volume.pop(2)"
   ]
  },
  {
   "cell_type": "code",
   "execution_count": 184,
   "id": "chronic-constant",
   "metadata": {},
   "outputs": [
    {
     "data": {
      "text/plain": [
       "'3'"
      ]
     },
     "execution_count": 184,
     "metadata": {},
     "output_type": "execute_result"
    }
   ],
   "source": [
    "volume.pop(2)"
   ]
  },
  {
   "cell_type": "code",
   "execution_count": 185,
   "id": "unlike-measurement",
   "metadata": {},
   "outputs": [
    {
     "data": {
      "text/plain": [
       "\"Harry Potter and the Philosopher's Stone\""
      ]
     },
     "execution_count": 185,
     "metadata": {},
     "output_type": "execute_result"
    }
   ],
   "source": [
    "volume.pop(2)"
   ]
  },
  {
   "cell_type": "code",
   "execution_count": 186,
   "id": "consolidated-reproduction",
   "metadata": {},
   "outputs": [
    {
     "data": {
      "text/plain": [
       "'Rowling, J.K.'"
      ]
     },
     "execution_count": 186,
     "metadata": {},
     "output_type": "execute_result"
    }
   ],
   "source": [
    "volume.pop(2)"
   ]
  },
  {
   "cell_type": "code",
   "execution_count": 187,
   "id": "governing-fields",
   "metadata": {},
   "outputs": [
    {
     "data": {
      "text/plain": [
       "'Bloomsbury'"
      ]
     },
     "execution_count": 187,
     "metadata": {},
     "output_type": "execute_result"
    }
   ],
   "source": [
    "volume.pop(3)"
   ]
  },
  {
   "cell_type": "code",
   "execution_count": 188,
   "id": "rational-sixth",
   "metadata": {},
   "outputs": [
    {
     "data": {
      "text/plain": [
       "'4'"
      ]
     },
     "execution_count": 188,
     "metadata": {},
     "output_type": "execute_result"
    }
   ],
   "source": [
    "volume.pop(3)"
   ]
  },
  {
   "cell_type": "code",
   "execution_count": 189,
   "id": "varied-sheriff",
   "metadata": {},
   "outputs": [
    {
     "data": {
      "text/plain": [
       "'Harry Potter and the Order of the Phoenix'"
      ]
     },
     "execution_count": 189,
     "metadata": {},
     "output_type": "execute_result"
    }
   ],
   "source": [
    "volume.pop(3)"
   ]
  },
  {
   "cell_type": "code",
   "execution_count": 190,
   "id": "certified-irish",
   "metadata": {},
   "outputs": [
    {
     "data": {
      "text/plain": [
       "'Rowling, J.K.'"
      ]
     },
     "execution_count": 190,
     "metadata": {},
     "output_type": "execute_result"
    }
   ],
   "source": [
    "volume.pop(3)"
   ]
  },
  {
   "cell_type": "code",
   "execution_count": 191,
   "id": "whole-norman",
   "metadata": {},
   "outputs": [
    {
     "data": {
      "text/plain": [
       "'Bloomsbury'"
      ]
     },
     "execution_count": 191,
     "metadata": {},
     "output_type": "execute_result"
    }
   ],
   "source": [
    "volume.pop(4)"
   ]
  },
  {
   "cell_type": "code",
   "execution_count": 192,
   "id": "owned-valuable",
   "metadata": {},
   "outputs": [
    {
     "data": {
      "text/plain": [
       "'5'"
      ]
     },
     "execution_count": 192,
     "metadata": {},
     "output_type": "execute_result"
    }
   ],
   "source": [
    "volume.pop(4)"
   ]
  },
  {
   "cell_type": "code",
   "execution_count": 193,
   "id": "coated-investigator",
   "metadata": {},
   "outputs": [
    {
     "data": {
      "text/plain": [
       "'Fifty Shades of Grey'"
      ]
     },
     "execution_count": 193,
     "metadata": {},
     "output_type": "execute_result"
    }
   ],
   "source": [
    "volume.pop(4)"
   ]
  },
  {
   "cell_type": "code",
   "execution_count": 194,
   "id": "liked-angel",
   "metadata": {},
   "outputs": [
    {
     "data": {
      "text/plain": [
       "'James, E. L.'"
      ]
     },
     "execution_count": 194,
     "metadata": {},
     "output_type": "execute_result"
    }
   ],
   "source": [
    "volume.pop(4)"
   ]
  },
  {
   "cell_type": "code",
   "execution_count": 195,
   "id": "bridal-venice",
   "metadata": {},
   "outputs": [
    {
     "data": {
      "text/plain": [
       "'Random House'"
      ]
     },
     "execution_count": 195,
     "metadata": {},
     "output_type": "execute_result"
    }
   ],
   "source": [
    "volume.pop(5)"
   ]
  },
  {
   "cell_type": "code",
   "execution_count": 196,
   "id": "danish-enzyme",
   "metadata": {},
   "outputs": [
    {
     "data": {
      "text/plain": [
       "'6'"
      ]
     },
     "execution_count": 196,
     "metadata": {},
     "output_type": "execute_result"
    }
   ],
   "source": [
    "volume.pop(5)"
   ]
  },
  {
   "cell_type": "code",
   "execution_count": 197,
   "id": "auburn-birthday",
   "metadata": {},
   "outputs": [
    {
     "data": {
      "text/plain": [
       "'Harry Potter and the Goblet of Fire'"
      ]
     },
     "execution_count": 197,
     "metadata": {},
     "output_type": "execute_result"
    }
   ],
   "source": [
    "volume.pop(5)"
   ]
  },
  {
   "cell_type": "code",
   "execution_count": 198,
   "id": "acute-outdoors",
   "metadata": {},
   "outputs": [
    {
     "data": {
      "text/plain": [
       "'Rowling, J.K.'"
      ]
     },
     "execution_count": 198,
     "metadata": {},
     "output_type": "execute_result"
    }
   ],
   "source": [
    "volume.pop(5)"
   ]
  },
  {
   "cell_type": "code",
   "execution_count": 199,
   "id": "reserved-meeting",
   "metadata": {},
   "outputs": [
    {
     "data": {
      "text/plain": [
       "'Bloomsbury'"
      ]
     },
     "execution_count": 199,
     "metadata": {},
     "output_type": "execute_result"
    }
   ],
   "source": [
    "volume.pop(6)"
   ]
  },
  {
   "cell_type": "code",
   "execution_count": 200,
   "id": "dependent-sweden",
   "metadata": {},
   "outputs": [
    {
     "data": {
      "text/plain": [
       "'7'"
      ]
     },
     "execution_count": 200,
     "metadata": {},
     "output_type": "execute_result"
    }
   ],
   "source": [
    "volume.pop(6)"
   ]
  },
  {
   "cell_type": "code",
   "execution_count": 201,
   "id": "molecular-garage",
   "metadata": {},
   "outputs": [
    {
     "data": {
      "text/plain": [
       "'Harry Potter and the Chamber of Secrets'"
      ]
     },
     "execution_count": 201,
     "metadata": {},
     "output_type": "execute_result"
    }
   ],
   "source": [
    "volume.pop(6)"
   ]
  },
  {
   "cell_type": "code",
   "execution_count": 202,
   "id": "light-canberra",
   "metadata": {},
   "outputs": [
    {
     "data": {
      "text/plain": [
       "'Rowling, J.K.'"
      ]
     },
     "execution_count": 202,
     "metadata": {},
     "output_type": "execute_result"
    }
   ],
   "source": [
    "volume.pop(6)"
   ]
  },
  {
   "cell_type": "code",
   "execution_count": 203,
   "id": "assisted-router",
   "metadata": {},
   "outputs": [
    {
     "data": {
      "text/plain": [
       "'Bloomsbury'"
      ]
     },
     "execution_count": 203,
     "metadata": {},
     "output_type": "execute_result"
    }
   ],
   "source": [
    "volume.pop(7)"
   ]
  },
  {
   "cell_type": "code",
   "execution_count": 204,
   "id": "defensive-peripheral",
   "metadata": {},
   "outputs": [
    {
     "data": {
      "text/plain": [
       "'8'"
      ]
     },
     "execution_count": 204,
     "metadata": {},
     "output_type": "execute_result"
    }
   ],
   "source": [
    "volume.pop(7)"
   ]
  },
  {
   "cell_type": "code",
   "execution_count": 205,
   "id": "attractive-video",
   "metadata": {},
   "outputs": [
    {
     "data": {
      "text/plain": [
       "'Harry Potter and the Prisoner of Azkaban'"
      ]
     },
     "execution_count": 205,
     "metadata": {},
     "output_type": "execute_result"
    }
   ],
   "source": [
    "volume.pop(7)"
   ]
  },
  {
   "cell_type": "code",
   "execution_count": 206,
   "id": "circular-elevation",
   "metadata": {},
   "outputs": [
    {
     "data": {
      "text/plain": [
       "'Rowling, J.K.'"
      ]
     },
     "execution_count": 206,
     "metadata": {},
     "output_type": "execute_result"
    }
   ],
   "source": [
    "volume.pop(7)"
   ]
  },
  {
   "cell_type": "code",
   "execution_count": 207,
   "id": "secure-signal",
   "metadata": {},
   "outputs": [
    {
     "data": {
      "text/plain": [
       "'Bloomsbury'"
      ]
     },
     "execution_count": 207,
     "metadata": {},
     "output_type": "execute_result"
    }
   ],
   "source": [
    "volume.pop(8)"
   ]
  },
  {
   "cell_type": "code",
   "execution_count": 208,
   "id": "embedded-disorder",
   "metadata": {},
   "outputs": [
    {
     "data": {
      "text/plain": [
       "'9'"
      ]
     },
     "execution_count": 208,
     "metadata": {},
     "output_type": "execute_result"
    }
   ],
   "source": [
    "volume.pop(8)"
   ]
  },
  {
   "cell_type": "code",
   "execution_count": 209,
   "id": "electrical-hospital",
   "metadata": {},
   "outputs": [
    {
     "data": {
      "text/plain": [
       "'Angels and Demons'"
      ]
     },
     "execution_count": 209,
     "metadata": {},
     "output_type": "execute_result"
    }
   ],
   "source": [
    "volume.pop(8)"
   ]
  },
  {
   "cell_type": "code",
   "execution_count": 210,
   "id": "appropriate-deployment",
   "metadata": {},
   "outputs": [
    {
     "data": {
      "text/plain": [
       "'Brown, Dan'"
      ]
     },
     "execution_count": 210,
     "metadata": {},
     "output_type": "execute_result"
    }
   ],
   "source": [
    "volume.pop(8)"
   ]
  },
  {
   "cell_type": "code",
   "execution_count": 211,
   "id": "asian-slope",
   "metadata": {},
   "outputs": [
    {
     "data": {
      "text/plain": [
       "'Transworld'"
      ]
     },
     "execution_count": 211,
     "metadata": {},
     "output_type": "execute_result"
    }
   ],
   "source": [
    "volume.pop(9)"
   ]
  },
  {
   "cell_type": "code",
   "execution_count": 212,
   "id": "reflected-conditions",
   "metadata": {},
   "outputs": [
    {
     "data": {
      "text/plain": [
       "'10'"
      ]
     },
     "execution_count": 212,
     "metadata": {},
     "output_type": "execute_result"
    }
   ],
   "source": [
    "volume.pop(9)"
   ]
  },
  {
   "cell_type": "code",
   "execution_count": 213,
   "id": "educational-indication",
   "metadata": {},
   "outputs": [
    {
     "data": {
      "text/plain": [
       "\"Harry Potter and the Half-blood Prince:Children's Edition\""
      ]
     },
     "execution_count": 213,
     "metadata": {},
     "output_type": "execute_result"
    }
   ],
   "source": [
    "volume.pop(9)"
   ]
  },
  {
   "cell_type": "code",
   "execution_count": 214,
   "id": "medium-wisdom",
   "metadata": {},
   "outputs": [
    {
     "data": {
      "text/plain": [
       "'Rowling, J.K.'"
      ]
     },
     "execution_count": 214,
     "metadata": {},
     "output_type": "execute_result"
    }
   ],
   "source": [
    "volume.pop(9)"
   ]
  },
  {
   "cell_type": "code",
   "execution_count": 215,
   "id": "aggressive-faculty",
   "metadata": {},
   "outputs": [
    {
     "data": {
      "text/plain": [
       "'Bloomsbury'"
      ]
     },
     "execution_count": 215,
     "metadata": {},
     "output_type": "execute_result"
    }
   ],
   "source": [
    "volume.pop(10)"
   ]
  },
  {
   "cell_type": "code",
   "execution_count": 216,
   "id": "thirty-vegetation",
   "metadata": {},
   "outputs": [
    {
     "data": {
      "text/plain": [
       "'11'"
      ]
     },
     "execution_count": 216,
     "metadata": {},
     "output_type": "execute_result"
    }
   ],
   "source": [
    "volume.pop(10)"
   ]
  },
  {
   "cell_type": "code",
   "execution_count": 217,
   "id": "received-extra",
   "metadata": {},
   "outputs": [
    {
     "data": {
      "text/plain": [
       "'Fifty Shades Darker'"
      ]
     },
     "execution_count": 217,
     "metadata": {},
     "output_type": "execute_result"
    }
   ],
   "source": [
    "volume.pop(10)"
   ]
  },
  {
   "cell_type": "code",
   "execution_count": 218,
   "id": "hourly-greek",
   "metadata": {},
   "outputs": [
    {
     "data": {
      "text/plain": [
       "'James, E. L.'"
      ]
     },
     "execution_count": 218,
     "metadata": {},
     "output_type": "execute_result"
    }
   ],
   "source": [
    "volume.pop(10)"
   ]
  },
  {
   "cell_type": "code",
   "execution_count": 219,
   "id": "healthy-opportunity",
   "metadata": {},
   "outputs": [
    {
     "data": {
      "text/plain": [
       "'Random House'"
      ]
     },
     "execution_count": 219,
     "metadata": {},
     "output_type": "execute_result"
    }
   ],
   "source": [
    "volume.pop(11)"
   ]
  },
  {
   "cell_type": "code",
   "execution_count": 220,
   "id": "stone-gasoline",
   "metadata": {},
   "outputs": [
    {
     "data": {
      "text/plain": [
       "'12'"
      ]
     },
     "execution_count": 220,
     "metadata": {},
     "output_type": "execute_result"
    }
   ],
   "source": [
    "volume.pop(11)"
   ]
  },
  {
   "cell_type": "code",
   "execution_count": 221,
   "id": "stuffed-screening",
   "metadata": {},
   "outputs": [
    {
     "data": {
      "text/plain": [
       "'Twilight'"
      ]
     },
     "execution_count": 221,
     "metadata": {},
     "output_type": "execute_result"
    }
   ],
   "source": [
    "volume.pop(11)"
   ]
  },
  {
   "cell_type": "code",
   "execution_count": 222,
   "id": "fitting-appendix",
   "metadata": {},
   "outputs": [
    {
     "data": {
      "text/plain": [
       "'Meyer, Stephenie'"
      ]
     },
     "execution_count": 222,
     "metadata": {},
     "output_type": "execute_result"
    }
   ],
   "source": [
    "volume.pop(11)"
   ]
  },
  {
   "cell_type": "code",
   "execution_count": 223,
   "id": "contrary-hypothesis",
   "metadata": {},
   "outputs": [
    {
     "data": {
      "text/plain": [
       "'Little, Brown Book'"
      ]
     },
     "execution_count": 223,
     "metadata": {},
     "output_type": "execute_result"
    }
   ],
   "source": [
    "volume.pop(12)"
   ]
  },
  {
   "cell_type": "code",
   "execution_count": 224,
   "id": "successful-collection",
   "metadata": {},
   "outputs": [
    {
     "data": {
      "text/plain": [
       "'13'"
      ]
     },
     "execution_count": 224,
     "metadata": {},
     "output_type": "execute_result"
    }
   ],
   "source": [
    "volume.pop(12)"
   ]
  },
  {
   "cell_type": "code",
   "execution_count": 225,
   "id": "contrary-hawaii",
   "metadata": {},
   "outputs": [
    {
     "data": {
      "text/plain": [
       "'Girl with the Dragon Tattoo,The:Millennium Trilogy'"
      ]
     },
     "execution_count": 225,
     "metadata": {},
     "output_type": "execute_result"
    }
   ],
   "source": [
    "volume.pop(12)"
   ]
  },
  {
   "cell_type": "code",
   "execution_count": 226,
   "id": "realistic-davis",
   "metadata": {},
   "outputs": [
    {
     "data": {
      "text/plain": [
       "'Larsson, Stieg'"
      ]
     },
     "execution_count": 226,
     "metadata": {},
     "output_type": "execute_result"
    }
   ],
   "source": [
    "volume.pop(12)"
   ]
  },
  {
   "cell_type": "code",
   "execution_count": 227,
   "id": "signal-wagner",
   "metadata": {},
   "outputs": [
    {
     "data": {
      "text/plain": [
       "'Quercus'"
      ]
     },
     "execution_count": 227,
     "metadata": {},
     "output_type": "execute_result"
    }
   ],
   "source": [
    "volume.pop(13)"
   ]
  },
  {
   "cell_type": "code",
   "execution_count": 228,
   "id": "municipal-cambridge",
   "metadata": {},
   "outputs": [
    {
     "data": {
      "text/plain": [
       "'14'"
      ]
     },
     "execution_count": 228,
     "metadata": {},
     "output_type": "execute_result"
    }
   ],
   "source": [
    "volume.pop(13)"
   ]
  },
  {
   "cell_type": "code",
   "execution_count": 229,
   "id": "competitive-printing",
   "metadata": {},
   "outputs": [
    {
     "data": {
      "text/plain": [
       "'Fifty Shades Freed'"
      ]
     },
     "execution_count": 229,
     "metadata": {},
     "output_type": "execute_result"
    }
   ],
   "source": [
    "volume.pop(13)"
   ]
  },
  {
   "cell_type": "code",
   "execution_count": 230,
   "id": "lined-marathon",
   "metadata": {},
   "outputs": [
    {
     "data": {
      "text/plain": [
       "'James, E. L.'"
      ]
     },
     "execution_count": 230,
     "metadata": {},
     "output_type": "execute_result"
    }
   ],
   "source": [
    "volume.pop(13)"
   ]
  },
  {
   "cell_type": "code",
   "execution_count": 231,
   "id": "diagnostic-editor",
   "metadata": {},
   "outputs": [
    {
     "data": {
      "text/plain": [
       "'Random House'"
      ]
     },
     "execution_count": 231,
     "metadata": {},
     "output_type": "execute_result"
    }
   ],
   "source": [
    "volume.pop(14)"
   ]
  },
  {
   "cell_type": "code",
   "execution_count": 232,
   "id": "enclosed-order",
   "metadata": {},
   "outputs": [
    {
     "data": {
      "text/plain": [
       "'15'"
      ]
     },
     "execution_count": 232,
     "metadata": {},
     "output_type": "execute_result"
    }
   ],
   "source": [
    "volume.pop(14)"
   ]
  },
  {
   "cell_type": "code",
   "execution_count": 233,
   "id": "greatest-medicare",
   "metadata": {},
   "outputs": [
    {
     "data": {
      "text/plain": [
       "'Lost Symbol,The'"
      ]
     },
     "execution_count": 233,
     "metadata": {},
     "output_type": "execute_result"
    }
   ],
   "source": [
    "volume.pop(14)"
   ]
  },
  {
   "cell_type": "code",
   "execution_count": 234,
   "id": "solar-brass",
   "metadata": {},
   "outputs": [
    {
     "data": {
      "text/plain": [
       "'Brown, Dan'"
      ]
     },
     "execution_count": 234,
     "metadata": {},
     "output_type": "execute_result"
    }
   ],
   "source": [
    "volume.pop(14)"
   ]
  },
  {
   "cell_type": "code",
   "execution_count": 235,
   "id": "statistical-quantity",
   "metadata": {},
   "outputs": [
    {
     "data": {
      "text/plain": [
       "'Transworld'"
      ]
     },
     "execution_count": 235,
     "metadata": {},
     "output_type": "execute_result"
    }
   ],
   "source": [
    "volume.pop(15)"
   ]
  },
  {
   "cell_type": "code",
   "execution_count": 236,
   "id": "graduate-slope",
   "metadata": {},
   "outputs": [
    {
     "data": {
      "text/plain": [
       "'16'"
      ]
     },
     "execution_count": 236,
     "metadata": {},
     "output_type": "execute_result"
    }
   ],
   "source": [
    "volume.pop(15)"
   ]
  },
  {
   "cell_type": "code",
   "execution_count": 237,
   "id": "played-prediction",
   "metadata": {},
   "outputs": [
    {
     "data": {
      "text/plain": [
       "'New Moon'"
      ]
     },
     "execution_count": 237,
     "metadata": {},
     "output_type": "execute_result"
    }
   ],
   "source": [
    "volume.pop(15)"
   ]
  },
  {
   "cell_type": "code",
   "execution_count": 238,
   "id": "sixth-tender",
   "metadata": {},
   "outputs": [
    {
     "data": {
      "text/plain": [
       "'Meyer, Stephenie'"
      ]
     },
     "execution_count": 238,
     "metadata": {},
     "output_type": "execute_result"
    }
   ],
   "source": [
    "volume.pop(15)"
   ]
  },
  {
   "cell_type": "code",
   "execution_count": 239,
   "id": "therapeutic-seventh",
   "metadata": {},
   "outputs": [
    {
     "data": {
      "text/plain": [
       "'Little, Brown Book'"
      ]
     },
     "execution_count": 239,
     "metadata": {},
     "output_type": "execute_result"
    }
   ],
   "source": [
    "volume.pop(16)"
   ]
  },
  {
   "cell_type": "code",
   "execution_count": 240,
   "id": "italic-beast",
   "metadata": {},
   "outputs": [
    {
     "data": {
      "text/plain": [
       "'17'"
      ]
     },
     "execution_count": 240,
     "metadata": {},
     "output_type": "execute_result"
    }
   ],
   "source": [
    "volume.pop(16)"
   ]
  },
  {
   "cell_type": "code",
   "execution_count": 241,
   "id": "synthetic-stream",
   "metadata": {},
   "outputs": [
    {
     "data": {
      "text/plain": [
       "'Deception Point'"
      ]
     },
     "execution_count": 241,
     "metadata": {},
     "output_type": "execute_result"
    }
   ],
   "source": [
    "volume.pop(16)"
   ]
  },
  {
   "cell_type": "code",
   "execution_count": 242,
   "id": "composed-cream",
   "metadata": {},
   "outputs": [
    {
     "data": {
      "text/plain": [
       "'Brown, Dan'"
      ]
     },
     "execution_count": 242,
     "metadata": {},
     "output_type": "execute_result"
    }
   ],
   "source": [
    "volume.pop(16)"
   ]
  },
  {
   "cell_type": "code",
   "execution_count": 243,
   "id": "saved-presentation",
   "metadata": {},
   "outputs": [
    {
     "data": {
      "text/plain": [
       "'Transworld'"
      ]
     },
     "execution_count": 243,
     "metadata": {},
     "output_type": "execute_result"
    }
   ],
   "source": [
    "volume.pop(17)"
   ]
  },
  {
   "cell_type": "code",
   "execution_count": 244,
   "id": "hidden-maple",
   "metadata": {},
   "outputs": [
    {
     "data": {
      "text/plain": [
       "'18'"
      ]
     },
     "execution_count": 244,
     "metadata": {},
     "output_type": "execute_result"
    }
   ],
   "source": [
    "volume.pop(17)"
   ]
  },
  {
   "cell_type": "code",
   "execution_count": 245,
   "id": "wired-istanbul",
   "metadata": {},
   "outputs": [
    {
     "data": {
      "text/plain": [
       "'Eclipse'"
      ]
     },
     "execution_count": 245,
     "metadata": {},
     "output_type": "execute_result"
    }
   ],
   "source": [
    "volume.pop(17)"
   ]
  },
  {
   "cell_type": "code",
   "execution_count": 246,
   "id": "sunrise-assistant",
   "metadata": {},
   "outputs": [
    {
     "data": {
      "text/plain": [
       "'Meyer, Stephenie'"
      ]
     },
     "execution_count": 246,
     "metadata": {},
     "output_type": "execute_result"
    }
   ],
   "source": [
    "volume.pop(17)"
   ]
  },
  {
   "cell_type": "code",
   "execution_count": 247,
   "id": "ready-trail",
   "metadata": {},
   "outputs": [
    {
     "data": {
      "text/plain": [
       "'Little, Brown Book'"
      ]
     },
     "execution_count": 247,
     "metadata": {},
     "output_type": "execute_result"
    }
   ],
   "source": [
    "volume.pop(18)"
   ]
  },
  {
   "cell_type": "code",
   "execution_count": 248,
   "id": "exempt-washer",
   "metadata": {},
   "outputs": [
    {
     "data": {
      "text/plain": [
       "'19'"
      ]
     },
     "execution_count": 248,
     "metadata": {},
     "output_type": "execute_result"
    }
   ],
   "source": [
    "volume.pop(18)"
   ]
  },
  {
   "cell_type": "code",
   "execution_count": 249,
   "id": "expired-september",
   "metadata": {},
   "outputs": [
    {
     "data": {
      "text/plain": [
       "'Lovely Bones,The'"
      ]
     },
     "execution_count": 249,
     "metadata": {},
     "output_type": "execute_result"
    }
   ],
   "source": [
    "volume.pop(18)"
   ]
  },
  {
   "cell_type": "code",
   "execution_count": 250,
   "id": "advisory-buffalo",
   "metadata": {},
   "outputs": [
    {
     "data": {
      "text/plain": [
       "'Sebold, Alice'"
      ]
     },
     "execution_count": 250,
     "metadata": {},
     "output_type": "execute_result"
    }
   ],
   "source": [
    "volume.pop(18)"
   ]
  },
  {
   "cell_type": "code",
   "execution_count": 251,
   "id": "supposed-newton",
   "metadata": {},
   "outputs": [
    {
     "data": {
      "text/plain": [
       "'Pan Macmillan'"
      ]
     },
     "execution_count": 251,
     "metadata": {},
     "output_type": "execute_result"
    }
   ],
   "source": [
    "volume.pop(19)"
   ]
  },
  {
   "cell_type": "code",
   "execution_count": 252,
   "id": "ceramic-structure",
   "metadata": {},
   "outputs": [
    {
     "data": {
      "text/plain": [
       "'20'"
      ]
     },
     "execution_count": 252,
     "metadata": {},
     "output_type": "execute_result"
    }
   ],
   "source": [
    "volume.pop(19)"
   ]
  },
  {
   "cell_type": "code",
   "execution_count": 253,
   "id": "returning-spring",
   "metadata": {},
   "outputs": [
    {
     "data": {
      "text/plain": [
       "'Curious Incident of the Dog in the Night-time,The'"
      ]
     },
     "execution_count": 253,
     "metadata": {},
     "output_type": "execute_result"
    }
   ],
   "source": [
    "volume.pop(19)"
   ]
  },
  {
   "cell_type": "code",
   "execution_count": 254,
   "id": "opening-scottish",
   "metadata": {},
   "outputs": [
    {
     "data": {
      "text/plain": [
       "'Haddon, Mark'"
      ]
     },
     "execution_count": 254,
     "metadata": {},
     "output_type": "execute_result"
    }
   ],
   "source": [
    "volume.pop(19)"
   ]
  },
  {
   "cell_type": "code",
   "execution_count": 255,
   "id": "cardiac-interface",
   "metadata": {},
   "outputs": [
    {
     "data": {
      "text/plain": [
       "'Random House'"
      ]
     },
     "execution_count": 255,
     "metadata": {},
     "output_type": "execute_result"
    }
   ],
   "source": [
    "volume.pop(20)"
   ]
  },
  {
   "cell_type": "code",
   "execution_count": 256,
   "id": "color-match",
   "metadata": {},
   "outputs": [
    {
     "data": {
      "text/plain": [
       "'21'"
      ]
     },
     "execution_count": 256,
     "metadata": {},
     "output_type": "execute_result"
    }
   ],
   "source": [
    "volume.pop(20)"
   ]
  },
  {
   "cell_type": "code",
   "execution_count": 257,
   "id": "timely-terrorist",
   "metadata": {},
   "outputs": [
    {
     "data": {
      "text/plain": [
       "'Digital Fortress'"
      ]
     },
     "execution_count": 257,
     "metadata": {},
     "output_type": "execute_result"
    }
   ],
   "source": [
    "volume.pop(20)"
   ]
  },
  {
   "cell_type": "code",
   "execution_count": 258,
   "id": "composed-henry",
   "metadata": {},
   "outputs": [
    {
     "data": {
      "text/plain": [
       "['5,094,805',\n",
       " '4,475,152',\n",
       " '4,200,654',\n",
       " '4,179,479',\n",
       " '3,758,936',\n",
       " '3,583,215',\n",
       " '3,484,047',\n",
       " '3,377,906',\n",
       " '3,193,946',\n",
       " '2,950,264',\n",
       " '2,479,784',\n",
       " '2,315,405',\n",
       " '2,233,570',\n",
       " '2,193,928',\n",
       " '2,183,031',\n",
       " '2,152,737',\n",
       " '2,062,145',\n",
       " '2,052,876',\n",
       " '2,005,598',\n",
       " '1,979,552']"
      ]
     },
     "execution_count": 258,
     "metadata": {},
     "output_type": "execute_result"
    }
   ],
   "source": [
    "volume[0:20]"
   ]
  },
  {
   "cell_type": "code",
   "execution_count": 259,
   "id": "eight-copper",
   "metadata": {},
   "outputs": [],
   "source": [
    "publisher=[]"
   ]
  },
  {
   "cell_type": "code",
   "execution_count": 260,
   "id": "transparent-basketball",
   "metadata": {},
   "outputs": [],
   "source": [
    "publisher_tags=browser.find_elements_by_xpath(\"//td[@class='left']\")\n",
    "for i in publisher_tags:\n",
    "    if i.text is None :\n",
    "        publisher.append(\"no rating\") \n",
    "    else:\n",
    "        publisher.append(i.text)"
   ]
  },
  {
   "cell_type": "code",
   "execution_count": 261,
   "id": "sharp-drinking",
   "metadata": {},
   "outputs": [
    {
     "data": {
      "text/plain": [
       "'1'"
      ]
     },
     "execution_count": 261,
     "metadata": {},
     "output_type": "execute_result"
    }
   ],
   "source": [
    "publisher.pop(0)"
   ]
  },
  {
   "cell_type": "code",
   "execution_count": 262,
   "id": "surrounded-chapel",
   "metadata": {},
   "outputs": [
    {
     "data": {
      "text/plain": [
       "'Da Vinci Code,The'"
      ]
     },
     "execution_count": 262,
     "metadata": {},
     "output_type": "execute_result"
    }
   ],
   "source": [
    "publisher.pop(0)"
   ]
  },
  {
   "cell_type": "code",
   "execution_count": 263,
   "id": "desirable-extreme",
   "metadata": {},
   "outputs": [
    {
     "data": {
      "text/plain": [
       "'Brown, Dan'"
      ]
     },
     "execution_count": 263,
     "metadata": {},
     "output_type": "execute_result"
    }
   ],
   "source": [
    "publisher.pop(0)"
   ]
  },
  {
   "cell_type": "code",
   "execution_count": 264,
   "id": "elementary-directory",
   "metadata": {},
   "outputs": [
    {
     "data": {
      "text/plain": [
       "'5,094,805'"
      ]
     },
     "execution_count": 264,
     "metadata": {},
     "output_type": "execute_result"
    }
   ],
   "source": [
    "publisher.pop(0)"
   ]
  },
  {
   "cell_type": "code",
   "execution_count": 265,
   "id": "retained-contemporary",
   "metadata": {},
   "outputs": [
    {
     "data": {
      "text/plain": [
       "'2'"
      ]
     },
     "execution_count": 265,
     "metadata": {},
     "output_type": "execute_result"
    }
   ],
   "source": [
    "publisher.pop(1)"
   ]
  },
  {
   "cell_type": "code",
   "execution_count": 266,
   "id": "convertible-cache",
   "metadata": {},
   "outputs": [
    {
     "data": {
      "text/plain": [
       "'Harry Potter and the Deathly Hallows'"
      ]
     },
     "execution_count": 266,
     "metadata": {},
     "output_type": "execute_result"
    }
   ],
   "source": [
    "publisher.pop(1)"
   ]
  },
  {
   "cell_type": "code",
   "execution_count": 267,
   "id": "straight-secret",
   "metadata": {},
   "outputs": [
    {
     "data": {
      "text/plain": [
       "'Rowling, J.K.'"
      ]
     },
     "execution_count": 267,
     "metadata": {},
     "output_type": "execute_result"
    }
   ],
   "source": [
    "publisher.pop(1)"
   ]
  },
  {
   "cell_type": "code",
   "execution_count": 268,
   "id": "foreign-massage",
   "metadata": {},
   "outputs": [
    {
     "data": {
      "text/plain": [
       "'4,475,152'"
      ]
     },
     "execution_count": 268,
     "metadata": {},
     "output_type": "execute_result"
    }
   ],
   "source": [
    "publisher.pop(1)"
   ]
  },
  {
   "cell_type": "code",
   "execution_count": 269,
   "id": "comic-shanghai",
   "metadata": {},
   "outputs": [
    {
     "data": {
      "text/plain": [
       "'3'"
      ]
     },
     "execution_count": 269,
     "metadata": {},
     "output_type": "execute_result"
    }
   ],
   "source": [
    "publisher.pop(2)"
   ]
  },
  {
   "cell_type": "code",
   "execution_count": 270,
   "id": "direct-spectacular",
   "metadata": {},
   "outputs": [
    {
     "data": {
      "text/plain": [
       "\"Harry Potter and the Philosopher's Stone\""
      ]
     },
     "execution_count": 270,
     "metadata": {},
     "output_type": "execute_result"
    }
   ],
   "source": [
    "publisher.pop(2)"
   ]
  },
  {
   "cell_type": "code",
   "execution_count": 271,
   "id": "moral-retail",
   "metadata": {},
   "outputs": [
    {
     "data": {
      "text/plain": [
       "'Rowling, J.K.'"
      ]
     },
     "execution_count": 271,
     "metadata": {},
     "output_type": "execute_result"
    }
   ],
   "source": [
    "publisher.pop(2)"
   ]
  },
  {
   "cell_type": "code",
   "execution_count": 272,
   "id": "significant-power",
   "metadata": {},
   "outputs": [
    {
     "data": {
      "text/plain": [
       "'4,200,654'"
      ]
     },
     "execution_count": 272,
     "metadata": {},
     "output_type": "execute_result"
    }
   ],
   "source": [
    "publisher.pop(2)"
   ]
  },
  {
   "cell_type": "code",
   "execution_count": 273,
   "id": "composite-opposition",
   "metadata": {},
   "outputs": [
    {
     "data": {
      "text/plain": [
       "'4'"
      ]
     },
     "execution_count": 273,
     "metadata": {},
     "output_type": "execute_result"
    }
   ],
   "source": [
    "publisher.pop(3)"
   ]
  },
  {
   "cell_type": "code",
   "execution_count": 274,
   "id": "reverse-vertical",
   "metadata": {},
   "outputs": [
    {
     "data": {
      "text/plain": [
       "'Harry Potter and the Order of the Phoenix'"
      ]
     },
     "execution_count": 274,
     "metadata": {},
     "output_type": "execute_result"
    }
   ],
   "source": [
    "publisher.pop(3)"
   ]
  },
  {
   "cell_type": "code",
   "execution_count": 275,
   "id": "frozen-accountability",
   "metadata": {},
   "outputs": [
    {
     "data": {
      "text/plain": [
       "'Rowling, J.K.'"
      ]
     },
     "execution_count": 275,
     "metadata": {},
     "output_type": "execute_result"
    }
   ],
   "source": [
    "publisher.pop(3)"
   ]
  },
  {
   "cell_type": "code",
   "execution_count": 276,
   "id": "sonic-dialogue",
   "metadata": {},
   "outputs": [
    {
     "data": {
      "text/plain": [
       "'4,179,479'"
      ]
     },
     "execution_count": 276,
     "metadata": {},
     "output_type": "execute_result"
    }
   ],
   "source": [
    "publisher.pop(3)"
   ]
  },
  {
   "cell_type": "code",
   "execution_count": 277,
   "id": "sharing-uganda",
   "metadata": {},
   "outputs": [
    {
     "data": {
      "text/plain": [
       "'5'"
      ]
     },
     "execution_count": 277,
     "metadata": {},
     "output_type": "execute_result"
    }
   ],
   "source": [
    "publisher.pop(4)"
   ]
  },
  {
   "cell_type": "code",
   "execution_count": 278,
   "id": "overall-syria",
   "metadata": {},
   "outputs": [
    {
     "data": {
      "text/plain": [
       "'Fifty Shades of Grey'"
      ]
     },
     "execution_count": 278,
     "metadata": {},
     "output_type": "execute_result"
    }
   ],
   "source": [
    "publisher.pop(4)"
   ]
  },
  {
   "cell_type": "code",
   "execution_count": 279,
   "id": "changed-power",
   "metadata": {},
   "outputs": [
    {
     "data": {
      "text/plain": [
       "'James, E. L.'"
      ]
     },
     "execution_count": 279,
     "metadata": {},
     "output_type": "execute_result"
    }
   ],
   "source": [
    "publisher.pop(4)"
   ]
  },
  {
   "cell_type": "code",
   "execution_count": 280,
   "id": "unsigned-salmon",
   "metadata": {},
   "outputs": [
    {
     "data": {
      "text/plain": [
       "'3,758,936'"
      ]
     },
     "execution_count": 280,
     "metadata": {},
     "output_type": "execute_result"
    }
   ],
   "source": [
    "publisher.pop(4)"
   ]
  },
  {
   "cell_type": "code",
   "execution_count": 281,
   "id": "sporting-algorithm",
   "metadata": {},
   "outputs": [
    {
     "data": {
      "text/plain": [
       "'6'"
      ]
     },
     "execution_count": 281,
     "metadata": {},
     "output_type": "execute_result"
    }
   ],
   "source": [
    "publisher.pop(5)"
   ]
  },
  {
   "cell_type": "code",
   "execution_count": 282,
   "id": "gross-feeling",
   "metadata": {},
   "outputs": [
    {
     "data": {
      "text/plain": [
       "'Harry Potter and the Goblet of Fire'"
      ]
     },
     "execution_count": 282,
     "metadata": {},
     "output_type": "execute_result"
    }
   ],
   "source": [
    "publisher.pop(5)"
   ]
  },
  {
   "cell_type": "code",
   "execution_count": 283,
   "id": "indie-poison",
   "metadata": {},
   "outputs": [
    {
     "data": {
      "text/plain": [
       "'Rowling, J.K.'"
      ]
     },
     "execution_count": 283,
     "metadata": {},
     "output_type": "execute_result"
    }
   ],
   "source": [
    "publisher.pop(5)"
   ]
  },
  {
   "cell_type": "code",
   "execution_count": 284,
   "id": "silver-tournament",
   "metadata": {},
   "outputs": [
    {
     "data": {
      "text/plain": [
       "'3,583,215'"
      ]
     },
     "execution_count": 284,
     "metadata": {},
     "output_type": "execute_result"
    }
   ],
   "source": [
    "publisher.pop(5)"
   ]
  },
  {
   "cell_type": "code",
   "execution_count": 285,
   "id": "engaging-bidding",
   "metadata": {},
   "outputs": [
    {
     "data": {
      "text/plain": [
       "'7'"
      ]
     },
     "execution_count": 285,
     "metadata": {},
     "output_type": "execute_result"
    }
   ],
   "source": [
    "publisher.pop(6)"
   ]
  },
  {
   "cell_type": "code",
   "execution_count": 286,
   "id": "supreme-virus",
   "metadata": {},
   "outputs": [
    {
     "data": {
      "text/plain": [
       "'Harry Potter and the Chamber of Secrets'"
      ]
     },
     "execution_count": 286,
     "metadata": {},
     "output_type": "execute_result"
    }
   ],
   "source": [
    "publisher.pop(6)"
   ]
  },
  {
   "cell_type": "code",
   "execution_count": 287,
   "id": "medieval-siemens",
   "metadata": {},
   "outputs": [
    {
     "data": {
      "text/plain": [
       "'Rowling, J.K.'"
      ]
     },
     "execution_count": 287,
     "metadata": {},
     "output_type": "execute_result"
    }
   ],
   "source": [
    "publisher.pop(6)"
   ]
  },
  {
   "cell_type": "code",
   "execution_count": 288,
   "id": "laughing-guest",
   "metadata": {},
   "outputs": [
    {
     "data": {
      "text/plain": [
       "'3,484,047'"
      ]
     },
     "execution_count": 288,
     "metadata": {},
     "output_type": "execute_result"
    }
   ],
   "source": [
    "publisher.pop(6)"
   ]
  },
  {
   "cell_type": "code",
   "execution_count": 289,
   "id": "scheduled-physiology",
   "metadata": {},
   "outputs": [
    {
     "data": {
      "text/plain": [
       "'8'"
      ]
     },
     "execution_count": 289,
     "metadata": {},
     "output_type": "execute_result"
    }
   ],
   "source": [
    "publisher.pop(7)"
   ]
  },
  {
   "cell_type": "code",
   "execution_count": 290,
   "id": "embedded-rochester",
   "metadata": {},
   "outputs": [
    {
     "data": {
      "text/plain": [
       "'Harry Potter and the Prisoner of Azkaban'"
      ]
     },
     "execution_count": 290,
     "metadata": {},
     "output_type": "execute_result"
    }
   ],
   "source": [
    "publisher.pop(7)"
   ]
  },
  {
   "cell_type": "code",
   "execution_count": 291,
   "id": "filled-norfolk",
   "metadata": {},
   "outputs": [
    {
     "data": {
      "text/plain": [
       "'Rowling, J.K.'"
      ]
     },
     "execution_count": 291,
     "metadata": {},
     "output_type": "execute_result"
    }
   ],
   "source": [
    "publisher.pop(7)"
   ]
  },
  {
   "cell_type": "code",
   "execution_count": 292,
   "id": "silver-intersection",
   "metadata": {},
   "outputs": [
    {
     "data": {
      "text/plain": [
       "'3,377,906'"
      ]
     },
     "execution_count": 292,
     "metadata": {},
     "output_type": "execute_result"
    }
   ],
   "source": [
    "publisher.pop(7)"
   ]
  },
  {
   "cell_type": "code",
   "execution_count": 293,
   "id": "future-absorption",
   "metadata": {},
   "outputs": [
    {
     "data": {
      "text/plain": [
       "'9'"
      ]
     },
     "execution_count": 293,
     "metadata": {},
     "output_type": "execute_result"
    }
   ],
   "source": [
    "publisher.pop(8)"
   ]
  },
  {
   "cell_type": "code",
   "execution_count": 294,
   "id": "unsigned-parade",
   "metadata": {},
   "outputs": [
    {
     "data": {
      "text/plain": [
       "'Angels and Demons'"
      ]
     },
     "execution_count": 294,
     "metadata": {},
     "output_type": "execute_result"
    }
   ],
   "source": [
    "publisher.pop(8)"
   ]
  },
  {
   "cell_type": "code",
   "execution_count": 295,
   "id": "adopted-column",
   "metadata": {},
   "outputs": [
    {
     "data": {
      "text/plain": [
       "'Brown, Dan'"
      ]
     },
     "execution_count": 295,
     "metadata": {},
     "output_type": "execute_result"
    }
   ],
   "source": [
    "publisher.pop(8)"
   ]
  },
  {
   "cell_type": "code",
   "execution_count": 296,
   "id": "owned-riding",
   "metadata": {},
   "outputs": [
    {
     "data": {
      "text/plain": [
       "'3,193,946'"
      ]
     },
     "execution_count": 296,
     "metadata": {},
     "output_type": "execute_result"
    }
   ],
   "source": [
    "publisher.pop(8)"
   ]
  },
  {
   "cell_type": "code",
   "execution_count": 297,
   "id": "blessed-screw",
   "metadata": {},
   "outputs": [
    {
     "data": {
      "text/plain": [
       "'10'"
      ]
     },
     "execution_count": 297,
     "metadata": {},
     "output_type": "execute_result"
    }
   ],
   "source": [
    "publisher.pop(9)"
   ]
  },
  {
   "cell_type": "code",
   "execution_count": 298,
   "id": "incorporate-confusion",
   "metadata": {},
   "outputs": [
    {
     "data": {
      "text/plain": [
       "\"Harry Potter and the Half-blood Prince:Children's Edition\""
      ]
     },
     "execution_count": 298,
     "metadata": {},
     "output_type": "execute_result"
    }
   ],
   "source": [
    "publisher.pop(9)"
   ]
  },
  {
   "cell_type": "code",
   "execution_count": 299,
   "id": "norman-blame",
   "metadata": {},
   "outputs": [
    {
     "data": {
      "text/plain": [
       "'Rowling, J.K.'"
      ]
     },
     "execution_count": 299,
     "metadata": {},
     "output_type": "execute_result"
    }
   ],
   "source": [
    "publisher.pop(9)"
   ]
  },
  {
   "cell_type": "code",
   "execution_count": 300,
   "id": "surface-firmware",
   "metadata": {},
   "outputs": [
    {
     "data": {
      "text/plain": [
       "'2,950,264'"
      ]
     },
     "execution_count": 300,
     "metadata": {},
     "output_type": "execute_result"
    }
   ],
   "source": [
    "publisher.pop(9)"
   ]
  },
  {
   "cell_type": "code",
   "execution_count": 301,
   "id": "essential-hayes",
   "metadata": {},
   "outputs": [
    {
     "data": {
      "text/plain": [
       "'11'"
      ]
     },
     "execution_count": 301,
     "metadata": {},
     "output_type": "execute_result"
    }
   ],
   "source": [
    "publisher.pop(10)"
   ]
  },
  {
   "cell_type": "code",
   "execution_count": 302,
   "id": "indirect-communication",
   "metadata": {},
   "outputs": [
    {
     "data": {
      "text/plain": [
       "'Fifty Shades Darker'"
      ]
     },
     "execution_count": 302,
     "metadata": {},
     "output_type": "execute_result"
    }
   ],
   "source": [
    "publisher.pop(10)"
   ]
  },
  {
   "cell_type": "code",
   "execution_count": 303,
   "id": "listed-australian",
   "metadata": {},
   "outputs": [
    {
     "data": {
      "text/plain": [
       "'James, E. L.'"
      ]
     },
     "execution_count": 303,
     "metadata": {},
     "output_type": "execute_result"
    }
   ],
   "source": [
    "publisher.pop(10)"
   ]
  },
  {
   "cell_type": "code",
   "execution_count": 304,
   "id": "minor-running",
   "metadata": {},
   "outputs": [
    {
     "data": {
      "text/plain": [
       "'2,479,784'"
      ]
     },
     "execution_count": 304,
     "metadata": {},
     "output_type": "execute_result"
    }
   ],
   "source": [
    "publisher.pop(10)"
   ]
  },
  {
   "cell_type": "code",
   "execution_count": 305,
   "id": "continuous-austria",
   "metadata": {},
   "outputs": [
    {
     "data": {
      "text/plain": [
       "'12'"
      ]
     },
     "execution_count": 305,
     "metadata": {},
     "output_type": "execute_result"
    }
   ],
   "source": [
    "publisher.pop(11)"
   ]
  },
  {
   "cell_type": "code",
   "execution_count": 306,
   "id": "controlled-guess",
   "metadata": {},
   "outputs": [
    {
     "data": {
      "text/plain": [
       "'Twilight'"
      ]
     },
     "execution_count": 306,
     "metadata": {},
     "output_type": "execute_result"
    }
   ],
   "source": [
    "publisher.pop(11)"
   ]
  },
  {
   "cell_type": "code",
   "execution_count": 307,
   "id": "north-lyric",
   "metadata": {},
   "outputs": [
    {
     "data": {
      "text/plain": [
       "'Meyer, Stephenie'"
      ]
     },
     "execution_count": 307,
     "metadata": {},
     "output_type": "execute_result"
    }
   ],
   "source": [
    "publisher.pop(11)"
   ]
  },
  {
   "cell_type": "code",
   "execution_count": 308,
   "id": "particular-button",
   "metadata": {},
   "outputs": [
    {
     "data": {
      "text/plain": [
       "'2,315,405'"
      ]
     },
     "execution_count": 308,
     "metadata": {},
     "output_type": "execute_result"
    }
   ],
   "source": [
    "publisher.pop(11)"
   ]
  },
  {
   "cell_type": "code",
   "execution_count": 309,
   "id": "weird-pittsburgh",
   "metadata": {},
   "outputs": [
    {
     "data": {
      "text/plain": [
       "'13'"
      ]
     },
     "execution_count": 309,
     "metadata": {},
     "output_type": "execute_result"
    }
   ],
   "source": [
    "publisher.pop(12)"
   ]
  },
  {
   "cell_type": "code",
   "execution_count": 310,
   "id": "combined-party",
   "metadata": {},
   "outputs": [
    {
     "data": {
      "text/plain": [
       "'Girl with the Dragon Tattoo,The:Millennium Trilogy'"
      ]
     },
     "execution_count": 310,
     "metadata": {},
     "output_type": "execute_result"
    }
   ],
   "source": [
    "publisher.pop(12)"
   ]
  },
  {
   "cell_type": "code",
   "execution_count": 311,
   "id": "sweet-basin",
   "metadata": {},
   "outputs": [
    {
     "data": {
      "text/plain": [
       "'Larsson, Stieg'"
      ]
     },
     "execution_count": 311,
     "metadata": {},
     "output_type": "execute_result"
    }
   ],
   "source": [
    "publisher.pop(12)"
   ]
  },
  {
   "cell_type": "code",
   "execution_count": 312,
   "id": "floppy-russia",
   "metadata": {},
   "outputs": [
    {
     "data": {
      "text/plain": [
       "'2,233,570'"
      ]
     },
     "execution_count": 312,
     "metadata": {},
     "output_type": "execute_result"
    }
   ],
   "source": [
    "publisher.pop(12)"
   ]
  },
  {
   "cell_type": "code",
   "execution_count": 313,
   "id": "hungarian-mentor",
   "metadata": {},
   "outputs": [
    {
     "data": {
      "text/plain": [
       "'14'"
      ]
     },
     "execution_count": 313,
     "metadata": {},
     "output_type": "execute_result"
    }
   ],
   "source": [
    "publisher.pop(13)"
   ]
  },
  {
   "cell_type": "code",
   "execution_count": 314,
   "id": "processed-country",
   "metadata": {},
   "outputs": [
    {
     "data": {
      "text/plain": [
       "'Fifty Shades Freed'"
      ]
     },
     "execution_count": 314,
     "metadata": {},
     "output_type": "execute_result"
    }
   ],
   "source": [
    "publisher.pop(13)"
   ]
  },
  {
   "cell_type": "code",
   "execution_count": 315,
   "id": "demographic-quest",
   "metadata": {},
   "outputs": [
    {
     "data": {
      "text/plain": [
       "'James, E. L.'"
      ]
     },
     "execution_count": 315,
     "metadata": {},
     "output_type": "execute_result"
    }
   ],
   "source": [
    "publisher.pop(13)"
   ]
  },
  {
   "cell_type": "code",
   "execution_count": 316,
   "id": "superb-cleanup",
   "metadata": {},
   "outputs": [
    {
     "data": {
      "text/plain": [
       "'2,193,928'"
      ]
     },
     "execution_count": 316,
     "metadata": {},
     "output_type": "execute_result"
    }
   ],
   "source": [
    "publisher.pop(13)"
   ]
  },
  {
   "cell_type": "code",
   "execution_count": 317,
   "id": "eastern-newspaper",
   "metadata": {},
   "outputs": [
    {
     "data": {
      "text/plain": [
       "'15'"
      ]
     },
     "execution_count": 317,
     "metadata": {},
     "output_type": "execute_result"
    }
   ],
   "source": [
    "publisher.pop(14)"
   ]
  },
  {
   "cell_type": "code",
   "execution_count": 318,
   "id": "christian-speed",
   "metadata": {},
   "outputs": [
    {
     "data": {
      "text/plain": [
       "'Lost Symbol,The'"
      ]
     },
     "execution_count": 318,
     "metadata": {},
     "output_type": "execute_result"
    }
   ],
   "source": [
    "publisher.pop(14)"
   ]
  },
  {
   "cell_type": "code",
   "execution_count": 319,
   "id": "exciting-korean",
   "metadata": {},
   "outputs": [
    {
     "data": {
      "text/plain": [
       "'Brown, Dan'"
      ]
     },
     "execution_count": 319,
     "metadata": {},
     "output_type": "execute_result"
    }
   ],
   "source": [
    "publisher.pop(14)"
   ]
  },
  {
   "cell_type": "code",
   "execution_count": 320,
   "id": "adjacent-solomon",
   "metadata": {},
   "outputs": [
    {
     "data": {
      "text/plain": [
       "'2,183,031'"
      ]
     },
     "execution_count": 320,
     "metadata": {},
     "output_type": "execute_result"
    }
   ],
   "source": [
    "publisher.pop(14)"
   ]
  },
  {
   "cell_type": "code",
   "execution_count": 321,
   "id": "executed-dining",
   "metadata": {},
   "outputs": [
    {
     "data": {
      "text/plain": [
       "'16'"
      ]
     },
     "execution_count": 321,
     "metadata": {},
     "output_type": "execute_result"
    }
   ],
   "source": [
    "publisher.pop(15)"
   ]
  },
  {
   "cell_type": "code",
   "execution_count": 322,
   "id": "mysterious-fossil",
   "metadata": {},
   "outputs": [
    {
     "data": {
      "text/plain": [
       "'New Moon'"
      ]
     },
     "execution_count": 322,
     "metadata": {},
     "output_type": "execute_result"
    }
   ],
   "source": [
    "publisher.pop(15)"
   ]
  },
  {
   "cell_type": "code",
   "execution_count": 323,
   "id": "associate-raleigh",
   "metadata": {},
   "outputs": [
    {
     "data": {
      "text/plain": [
       "'Meyer, Stephenie'"
      ]
     },
     "execution_count": 323,
     "metadata": {},
     "output_type": "execute_result"
    }
   ],
   "source": [
    "publisher.pop(15)"
   ]
  },
  {
   "cell_type": "code",
   "execution_count": 324,
   "id": "flush-lafayette",
   "metadata": {},
   "outputs": [
    {
     "data": {
      "text/plain": [
       "'2,152,737'"
      ]
     },
     "execution_count": 324,
     "metadata": {},
     "output_type": "execute_result"
    }
   ],
   "source": [
    "publisher.pop(15)"
   ]
  },
  {
   "cell_type": "code",
   "execution_count": 325,
   "id": "fixed-conducting",
   "metadata": {},
   "outputs": [
    {
     "data": {
      "text/plain": [
       "'17'"
      ]
     },
     "execution_count": 325,
     "metadata": {},
     "output_type": "execute_result"
    }
   ],
   "source": [
    "publisher.pop(16)"
   ]
  },
  {
   "cell_type": "code",
   "execution_count": 326,
   "id": "improved-austin",
   "metadata": {},
   "outputs": [
    {
     "data": {
      "text/plain": [
       "'Deception Point'"
      ]
     },
     "execution_count": 326,
     "metadata": {},
     "output_type": "execute_result"
    }
   ],
   "source": [
    "publisher.pop(16)"
   ]
  },
  {
   "cell_type": "code",
   "execution_count": 327,
   "id": "social-stretch",
   "metadata": {},
   "outputs": [
    {
     "data": {
      "text/plain": [
       "'Brown, Dan'"
      ]
     },
     "execution_count": 327,
     "metadata": {},
     "output_type": "execute_result"
    }
   ],
   "source": [
    "publisher.pop(16)"
   ]
  },
  {
   "cell_type": "code",
   "execution_count": 328,
   "id": "desperate-tooth",
   "metadata": {},
   "outputs": [
    {
     "data": {
      "text/plain": [
       "'2,062,145'"
      ]
     },
     "execution_count": 328,
     "metadata": {},
     "output_type": "execute_result"
    }
   ],
   "source": [
    "publisher.pop(16)"
   ]
  },
  {
   "cell_type": "code",
   "execution_count": 329,
   "id": "bored-aquarium",
   "metadata": {},
   "outputs": [
    {
     "data": {
      "text/plain": [
       "'18'"
      ]
     },
     "execution_count": 329,
     "metadata": {},
     "output_type": "execute_result"
    }
   ],
   "source": [
    "publisher.pop(17)"
   ]
  },
  {
   "cell_type": "code",
   "execution_count": 330,
   "id": "psychological-roman",
   "metadata": {},
   "outputs": [
    {
     "data": {
      "text/plain": [
       "'Eclipse'"
      ]
     },
     "execution_count": 330,
     "metadata": {},
     "output_type": "execute_result"
    }
   ],
   "source": [
    "publisher.pop(17)"
   ]
  },
  {
   "cell_type": "code",
   "execution_count": 331,
   "id": "associate-examination",
   "metadata": {},
   "outputs": [
    {
     "data": {
      "text/plain": [
       "'Meyer, Stephenie'"
      ]
     },
     "execution_count": 331,
     "metadata": {},
     "output_type": "execute_result"
    }
   ],
   "source": [
    "publisher.pop(17)"
   ]
  },
  {
   "cell_type": "code",
   "execution_count": 332,
   "id": "knowing-mirror",
   "metadata": {},
   "outputs": [
    {
     "data": {
      "text/plain": [
       "'2,052,876'"
      ]
     },
     "execution_count": 332,
     "metadata": {},
     "output_type": "execute_result"
    }
   ],
   "source": [
    "publisher.pop(17)"
   ]
  },
  {
   "cell_type": "code",
   "execution_count": 333,
   "id": "smooth-chance",
   "metadata": {},
   "outputs": [
    {
     "data": {
      "text/plain": [
       "'19'"
      ]
     },
     "execution_count": 333,
     "metadata": {},
     "output_type": "execute_result"
    }
   ],
   "source": [
    "publisher.pop(18)"
   ]
  },
  {
   "cell_type": "code",
   "execution_count": 334,
   "id": "successful-community",
   "metadata": {},
   "outputs": [
    {
     "data": {
      "text/plain": [
       "'Lovely Bones,The'"
      ]
     },
     "execution_count": 334,
     "metadata": {},
     "output_type": "execute_result"
    }
   ],
   "source": [
    "publisher.pop(18)"
   ]
  },
  {
   "cell_type": "code",
   "execution_count": 335,
   "id": "fatal-devices",
   "metadata": {},
   "outputs": [
    {
     "data": {
      "text/plain": [
       "'Sebold, Alice'"
      ]
     },
     "execution_count": 335,
     "metadata": {},
     "output_type": "execute_result"
    }
   ],
   "source": [
    "publisher.pop(18)"
   ]
  },
  {
   "cell_type": "code",
   "execution_count": 336,
   "id": "promotional-lambda",
   "metadata": {},
   "outputs": [
    {
     "data": {
      "text/plain": [
       "'2,005,598'"
      ]
     },
     "execution_count": 336,
     "metadata": {},
     "output_type": "execute_result"
    }
   ],
   "source": [
    "publisher.pop(18)"
   ]
  },
  {
   "cell_type": "code",
   "execution_count": 337,
   "id": "portuguese-fourth",
   "metadata": {},
   "outputs": [
    {
     "data": {
      "text/plain": [
       "'20'"
      ]
     },
     "execution_count": 337,
     "metadata": {},
     "output_type": "execute_result"
    }
   ],
   "source": [
    "publisher.pop(19)"
   ]
  },
  {
   "cell_type": "code",
   "execution_count": 338,
   "id": "considerable-easter",
   "metadata": {},
   "outputs": [
    {
     "data": {
      "text/plain": [
       "'Curious Incident of the Dog in the Night-time,The'"
      ]
     },
     "execution_count": 338,
     "metadata": {},
     "output_type": "execute_result"
    }
   ],
   "source": [
    "publisher.pop(19)"
   ]
  },
  {
   "cell_type": "code",
   "execution_count": 339,
   "id": "tracked-liberia",
   "metadata": {},
   "outputs": [
    {
     "data": {
      "text/plain": [
       "'Haddon, Mark'"
      ]
     },
     "execution_count": 339,
     "metadata": {},
     "output_type": "execute_result"
    }
   ],
   "source": [
    "publisher.pop(19)"
   ]
  },
  {
   "cell_type": "code",
   "execution_count": 340,
   "id": "lightweight-dream",
   "metadata": {},
   "outputs": [
    {
     "data": {
      "text/plain": [
       "'1,979,552'"
      ]
     },
     "execution_count": 340,
     "metadata": {},
     "output_type": "execute_result"
    }
   ],
   "source": [
    "publisher.pop(19)"
   ]
  },
  {
   "cell_type": "code",
   "execution_count": 341,
   "id": "southern-graphics",
   "metadata": {},
   "outputs": [
    {
     "data": {
      "text/plain": [
       "'21'"
      ]
     },
     "execution_count": 341,
     "metadata": {},
     "output_type": "execute_result"
    }
   ],
   "source": [
    "publisher.pop(20)"
   ]
  },
  {
   "cell_type": "code",
   "execution_count": 342,
   "id": "greater-medline",
   "metadata": {},
   "outputs": [
    {
     "data": {
      "text/plain": [
       "'Digital Fortress'"
      ]
     },
     "execution_count": 342,
     "metadata": {},
     "output_type": "execute_result"
    }
   ],
   "source": [
    "publisher.pop(20)"
   ]
  },
  {
   "cell_type": "code",
   "execution_count": 343,
   "id": "connected-athletics",
   "metadata": {},
   "outputs": [
    {
     "data": {
      "text/plain": [
       "'Brown, Dan'"
      ]
     },
     "execution_count": 343,
     "metadata": {},
     "output_type": "execute_result"
    }
   ],
   "source": [
    "publisher.pop(20)"
   ]
  },
  {
   "cell_type": "code",
   "execution_count": 344,
   "id": "animated-madison",
   "metadata": {},
   "outputs": [
    {
     "data": {
      "text/plain": [
       "'1,928,900'"
      ]
     },
     "execution_count": 344,
     "metadata": {},
     "output_type": "execute_result"
    }
   ],
   "source": [
    "publisher.pop(20)"
   ]
  },
  {
   "cell_type": "code",
   "execution_count": 345,
   "id": "studied-builder",
   "metadata": {},
   "outputs": [
    {
     "data": {
      "text/plain": [
       "'22'"
      ]
     },
     "execution_count": 345,
     "metadata": {},
     "output_type": "execute_result"
    }
   ],
   "source": [
    "publisher.pop(21)"
   ]
  },
  {
   "cell_type": "code",
   "execution_count": 346,
   "id": "married-charleston",
   "metadata": {},
   "outputs": [
    {
     "data": {
      "text/plain": [
       "'Short History of Nearly Everything,A'"
      ]
     },
     "execution_count": 346,
     "metadata": {},
     "output_type": "execute_result"
    }
   ],
   "source": [
    "publisher.pop(21)"
   ]
  },
  {
   "cell_type": "code",
   "execution_count": 347,
   "id": "overall-blackberry",
   "metadata": {},
   "outputs": [
    {
     "data": {
      "text/plain": [
       "'Bryson, Bill'"
      ]
     },
     "execution_count": 347,
     "metadata": {},
     "output_type": "execute_result"
    }
   ],
   "source": [
    "publisher.pop(21)"
   ]
  },
  {
   "cell_type": "code",
   "execution_count": 348,
   "id": "incredible-mistake",
   "metadata": {},
   "outputs": [
    {
     "data": {
      "text/plain": [
       "'1,852,919'"
      ]
     },
     "execution_count": 348,
     "metadata": {},
     "output_type": "execute_result"
    }
   ],
   "source": [
    "publisher.pop(21)"
   ]
  },
  {
   "cell_type": "code",
   "execution_count": 349,
   "id": "promotional-marker",
   "metadata": {},
   "outputs": [
    {
     "data": {
      "text/plain": [
       "['Transworld',\n",
       " 'Bloomsbury',\n",
       " 'Bloomsbury',\n",
       " 'Bloomsbury',\n",
       " 'Random House',\n",
       " 'Bloomsbury',\n",
       " 'Bloomsbury',\n",
       " 'Bloomsbury',\n",
       " 'Transworld',\n",
       " 'Bloomsbury',\n",
       " 'Random House',\n",
       " 'Little, Brown Book',\n",
       " 'Quercus',\n",
       " 'Random House',\n",
       " 'Transworld',\n",
       " 'Little, Brown Book',\n",
       " 'Transworld',\n",
       " 'Little, Brown Book',\n",
       " 'Pan Macmillan',\n",
       " 'Random House']"
      ]
     },
     "execution_count": 349,
     "metadata": {},
     "output_type": "execute_result"
    }
   ],
   "source": [
    "publisher[0:20]"
   ]
  },
  {
   "cell_type": "code",
   "execution_count": 350,
   "id": "restricted-archives",
   "metadata": {},
   "outputs": [],
   "source": [
    "genre=[]"
   ]
  },
  {
   "cell_type": "code",
   "execution_count": null,
   "id": "german-wildlife",
   "metadata": {},
   "outputs": [],
   "source": [
    "<td id=\"table-cell-10943-0-0\" class=\"left\" style=\"color: #000000\"> 1 </td>"
   ]
  },
  {
   "cell_type": "code",
   "execution_count": 395,
   "id": "informative-writer",
   "metadata": {},
   "outputs": [],
   "source": [
    "genre_tags=browser.find_elements_by_xpath(\"//td[@id='table-cell-10943-20-5']\")\n",
    "for i in genre_tags:\n",
    "    if i.text is None :\n",
    "        genre.append(\"no rating\") \n",
    "    else:\n",
    "        genre.append(i.text)"
   ]
  },
  {
   "cell_type": "code",
   "execution_count": 396,
   "id": "systematic-teens",
   "metadata": {},
   "outputs": [
    {
     "data": {
      "text/plain": [
       "['Crime, Thriller & Adventure',\n",
       " \"Children's Fiction\",\n",
       " \"Children's Fiction\",\n",
       " \"Children's Fiction\",\n",
       " 'Romance & Sagas',\n",
       " \"Children's Fiction\",\n",
       " \"Children's Fiction\",\n",
       " \"Children's Fiction\",\n",
       " 'Crime, Thriller & Adventure',\n",
       " \"Children's Fiction\",\n",
       " 'Romance & Sagas',\n",
       " 'Young Adult Fiction',\n",
       " 'Crime, Thriller & Adventure',\n",
       " 'Romance & Sagas',\n",
       " 'Crime, Thriller & Adventure',\n",
       " 'Young Adult Fiction',\n",
       " 'Crime, Thriller & Adventure',\n",
       " 'Young Adult Fiction',\n",
       " 'General & Literary Fiction',\n",
       " 'General & Literary Fiction',\n",
       " 'Crime, Thriller & Adventure']"
      ]
     },
     "execution_count": 396,
     "metadata": {},
     "output_type": "execute_result"
    }
   ],
   "source": [
    "genre"
   ]
  },
  {
   "cell_type": "code",
   "execution_count": 397,
   "id": "optional-rider",
   "metadata": {},
   "outputs": [
    {
     "data": {
      "text/plain": [
       "['Crime, Thriller & Adventure',\n",
       " \"Children's Fiction\",\n",
       " \"Children's Fiction\",\n",
       " \"Children's Fiction\",\n",
       " 'Romance & Sagas',\n",
       " \"Children's Fiction\",\n",
       " \"Children's Fiction\",\n",
       " \"Children's Fiction\",\n",
       " 'Crime, Thriller & Adventure',\n",
       " \"Children's Fiction\",\n",
       " 'Romance & Sagas',\n",
       " 'Young Adult Fiction',\n",
       " 'Crime, Thriller & Adventure',\n",
       " 'Romance & Sagas',\n",
       " 'Crime, Thriller & Adventure',\n",
       " 'Young Adult Fiction',\n",
       " 'Crime, Thriller & Adventure',\n",
       " 'Young Adult Fiction',\n",
       " 'General & Literary Fiction',\n",
       " 'General & Literary Fiction']"
      ]
     },
     "execution_count": 397,
     "metadata": {},
     "output_type": "execute_result"
    }
   ],
   "source": [
    "genre[0:20]"
   ]
  },
  {
   "cell_type": "code",
   "execution_count": 398,
   "id": "unauthorized-warren",
   "metadata": {},
   "outputs": [
    {
     "data": {
      "text/html": [
       "<div>\n",
       "<style scoped>\n",
       "    .dataframe tbody tr th:only-of-type {\n",
       "        vertical-align: middle;\n",
       "    }\n",
       "\n",
       "    .dataframe tbody tr th {\n",
       "        vertical-align: top;\n",
       "    }\n",
       "\n",
       "    .dataframe thead th {\n",
       "        text-align: right;\n",
       "    }\n",
       "</style>\n",
       "<table border=\"1\" class=\"dataframe\">\n",
       "  <thead>\n",
       "    <tr style=\"text-align: right;\">\n",
       "      <th></th>\n",
       "      <th>author</th>\n",
       "      <th>book</th>\n",
       "      <th>volume</th>\n",
       "      <th>publisher</th>\n",
       "      <th>genre</th>\n",
       "    </tr>\n",
       "  </thead>\n",
       "  <tbody>\n",
       "    <tr>\n",
       "      <th>0</th>\n",
       "      <td>Brown, Dan</td>\n",
       "      <td>Da Vinci Code,The</td>\n",
       "      <td>5,094,805</td>\n",
       "      <td>Transworld</td>\n",
       "      <td>Crime, Thriller &amp; Adventure</td>\n",
       "    </tr>\n",
       "    <tr>\n",
       "      <th>1</th>\n",
       "      <td>Rowling, J.K.</td>\n",
       "      <td>Harry Potter and the Deathly Hallows</td>\n",
       "      <td>4,475,152</td>\n",
       "      <td>Bloomsbury</td>\n",
       "      <td>Children's Fiction</td>\n",
       "    </tr>\n",
       "    <tr>\n",
       "      <th>2</th>\n",
       "      <td>Rowling, J.K.</td>\n",
       "      <td>Harry Potter and the Philosopher's Stone</td>\n",
       "      <td>4,200,654</td>\n",
       "      <td>Bloomsbury</td>\n",
       "      <td>Children's Fiction</td>\n",
       "    </tr>\n",
       "    <tr>\n",
       "      <th>3</th>\n",
       "      <td>Rowling, J.K.</td>\n",
       "      <td>Harry Potter and the Order of the Phoenix</td>\n",
       "      <td>4,179,479</td>\n",
       "      <td>Bloomsbury</td>\n",
       "      <td>Children's Fiction</td>\n",
       "    </tr>\n",
       "    <tr>\n",
       "      <th>4</th>\n",
       "      <td>James, E. L.</td>\n",
       "      <td>Fifty Shades of Grey</td>\n",
       "      <td>3,758,936</td>\n",
       "      <td>Random House</td>\n",
       "      <td>Romance &amp; Sagas</td>\n",
       "    </tr>\n",
       "    <tr>\n",
       "      <th>5</th>\n",
       "      <td>Rowling, J.K.</td>\n",
       "      <td>Harry Potter and the Goblet of Fire</td>\n",
       "      <td>3,583,215</td>\n",
       "      <td>Bloomsbury</td>\n",
       "      <td>Children's Fiction</td>\n",
       "    </tr>\n",
       "    <tr>\n",
       "      <th>6</th>\n",
       "      <td>Rowling, J.K.</td>\n",
       "      <td>Harry Potter and the Chamber of Secrets</td>\n",
       "      <td>3,484,047</td>\n",
       "      <td>Bloomsbury</td>\n",
       "      <td>Children's Fiction</td>\n",
       "    </tr>\n",
       "    <tr>\n",
       "      <th>7</th>\n",
       "      <td>Rowling, J.K.</td>\n",
       "      <td>Harry Potter and the Prisoner of Azkaban</td>\n",
       "      <td>3,377,906</td>\n",
       "      <td>Bloomsbury</td>\n",
       "      <td>Children's Fiction</td>\n",
       "    </tr>\n",
       "    <tr>\n",
       "      <th>8</th>\n",
       "      <td>Brown, Dan</td>\n",
       "      <td>Angels and Demons</td>\n",
       "      <td>3,193,946</td>\n",
       "      <td>Transworld</td>\n",
       "      <td>Crime, Thriller &amp; Adventure</td>\n",
       "    </tr>\n",
       "    <tr>\n",
       "      <th>9</th>\n",
       "      <td>Rowling, J.K.</td>\n",
       "      <td>Harry Potter and the Half-blood Prince:Childre...</td>\n",
       "      <td>2,950,264</td>\n",
       "      <td>Bloomsbury</td>\n",
       "      <td>Children's Fiction</td>\n",
       "    </tr>\n",
       "    <tr>\n",
       "      <th>10</th>\n",
       "      <td>James, E. L.</td>\n",
       "      <td>Fifty Shades Darker</td>\n",
       "      <td>2,479,784</td>\n",
       "      <td>Random House</td>\n",
       "      <td>Romance &amp; Sagas</td>\n",
       "    </tr>\n",
       "    <tr>\n",
       "      <th>11</th>\n",
       "      <td>Meyer, Stephenie</td>\n",
       "      <td>Twilight</td>\n",
       "      <td>2,315,405</td>\n",
       "      <td>Little, Brown Book</td>\n",
       "      <td>Young Adult Fiction</td>\n",
       "    </tr>\n",
       "    <tr>\n",
       "      <th>12</th>\n",
       "      <td>Larsson, Stieg</td>\n",
       "      <td>Girl with the Dragon Tattoo,The:Millennium Tri...</td>\n",
       "      <td>2,233,570</td>\n",
       "      <td>Quercus</td>\n",
       "      <td>Crime, Thriller &amp; Adventure</td>\n",
       "    </tr>\n",
       "    <tr>\n",
       "      <th>13</th>\n",
       "      <td>James, E. L.</td>\n",
       "      <td>Fifty Shades Freed</td>\n",
       "      <td>2,193,928</td>\n",
       "      <td>Random House</td>\n",
       "      <td>Romance &amp; Sagas</td>\n",
       "    </tr>\n",
       "    <tr>\n",
       "      <th>14</th>\n",
       "      <td>Brown, Dan</td>\n",
       "      <td>Lost Symbol,The</td>\n",
       "      <td>2,183,031</td>\n",
       "      <td>Transworld</td>\n",
       "      <td>Crime, Thriller &amp; Adventure</td>\n",
       "    </tr>\n",
       "    <tr>\n",
       "      <th>15</th>\n",
       "      <td>Meyer, Stephenie</td>\n",
       "      <td>New Moon</td>\n",
       "      <td>2,152,737</td>\n",
       "      <td>Little, Brown Book</td>\n",
       "      <td>Young Adult Fiction</td>\n",
       "    </tr>\n",
       "    <tr>\n",
       "      <th>16</th>\n",
       "      <td>Brown, Dan</td>\n",
       "      <td>Deception Point</td>\n",
       "      <td>2,062,145</td>\n",
       "      <td>Transworld</td>\n",
       "      <td>Crime, Thriller &amp; Adventure</td>\n",
       "    </tr>\n",
       "    <tr>\n",
       "      <th>17</th>\n",
       "      <td>Meyer, Stephenie</td>\n",
       "      <td>Eclipse</td>\n",
       "      <td>2,052,876</td>\n",
       "      <td>Little, Brown Book</td>\n",
       "      <td>Young Adult Fiction</td>\n",
       "    </tr>\n",
       "    <tr>\n",
       "      <th>18</th>\n",
       "      <td>Sebold, Alice</td>\n",
       "      <td>Lovely Bones,The</td>\n",
       "      <td>2,005,598</td>\n",
       "      <td>Pan Macmillan</td>\n",
       "      <td>General &amp; Literary Fiction</td>\n",
       "    </tr>\n",
       "    <tr>\n",
       "      <th>19</th>\n",
       "      <td>Haddon, Mark</td>\n",
       "      <td>Curious Incident of the Dog in the Night-time,The</td>\n",
       "      <td>1,979,552</td>\n",
       "      <td>Random House</td>\n",
       "      <td>General &amp; Literary Fiction</td>\n",
       "    </tr>\n",
       "  </tbody>\n",
       "</table>\n",
       "</div>"
      ],
      "text/plain": [
       "              author                                               book  \\\n",
       "0         Brown, Dan                                  Da Vinci Code,The   \n",
       "1      Rowling, J.K.               Harry Potter and the Deathly Hallows   \n",
       "2      Rowling, J.K.           Harry Potter and the Philosopher's Stone   \n",
       "3      Rowling, J.K.          Harry Potter and the Order of the Phoenix   \n",
       "4       James, E. L.                               Fifty Shades of Grey   \n",
       "5      Rowling, J.K.                Harry Potter and the Goblet of Fire   \n",
       "6      Rowling, J.K.            Harry Potter and the Chamber of Secrets   \n",
       "7      Rowling, J.K.           Harry Potter and the Prisoner of Azkaban   \n",
       "8         Brown, Dan                                  Angels and Demons   \n",
       "9      Rowling, J.K.  Harry Potter and the Half-blood Prince:Childre...   \n",
       "10      James, E. L.                                Fifty Shades Darker   \n",
       "11  Meyer, Stephenie                                           Twilight   \n",
       "12    Larsson, Stieg  Girl with the Dragon Tattoo,The:Millennium Tri...   \n",
       "13      James, E. L.                                 Fifty Shades Freed   \n",
       "14        Brown, Dan                                    Lost Symbol,The   \n",
       "15  Meyer, Stephenie                                           New Moon   \n",
       "16        Brown, Dan                                    Deception Point   \n",
       "17  Meyer, Stephenie                                            Eclipse   \n",
       "18     Sebold, Alice                                   Lovely Bones,The   \n",
       "19      Haddon, Mark  Curious Incident of the Dog in the Night-time,The   \n",
       "\n",
       "       volume           publisher                        genre  \n",
       "0   5,094,805          Transworld  Crime, Thriller & Adventure  \n",
       "1   4,475,152          Bloomsbury           Children's Fiction  \n",
       "2   4,200,654          Bloomsbury           Children's Fiction  \n",
       "3   4,179,479          Bloomsbury           Children's Fiction  \n",
       "4   3,758,936        Random House              Romance & Sagas  \n",
       "5   3,583,215          Bloomsbury           Children's Fiction  \n",
       "6   3,484,047          Bloomsbury           Children's Fiction  \n",
       "7   3,377,906          Bloomsbury           Children's Fiction  \n",
       "8   3,193,946          Transworld  Crime, Thriller & Adventure  \n",
       "9   2,950,264          Bloomsbury           Children's Fiction  \n",
       "10  2,479,784        Random House              Romance & Sagas  \n",
       "11  2,315,405  Little, Brown Book          Young Adult Fiction  \n",
       "12  2,233,570             Quercus  Crime, Thriller & Adventure  \n",
       "13  2,193,928        Random House              Romance & Sagas  \n",
       "14  2,183,031          Transworld  Crime, Thriller & Adventure  \n",
       "15  2,152,737  Little, Brown Book          Young Adult Fiction  \n",
       "16  2,062,145          Transworld  Crime, Thriller & Adventure  \n",
       "17  2,052,876  Little, Brown Book          Young Adult Fiction  \n",
       "18  2,005,598       Pan Macmillan   General & Literary Fiction  \n",
       "19  1,979,552        Random House   General & Literary Fiction  "
      ]
     },
     "execution_count": 398,
     "metadata": {},
     "output_type": "execute_result"
    }
   ],
   "source": [
    "import pandas as pd\n",
    "guardian=pd.DataFrame({})\n",
    "guardian['author']=author[0:20]\n",
    "guardian['book']=books[0:20]\n",
    "guardian['volume']=volume[0:20]\n",
    "guardian['publisher']=publisher[0:20]\n",
    "guardian['genre']=genre[0:20]\n",
    "guardian\n"
   ]
  },
  {
   "cell_type": "code",
   "execution_count": null,
   "id": "domestic-sound",
   "metadata": {},
   "outputs": [],
   "source": []
  }
 ],
 "metadata": {
  "kernelspec": {
   "display_name": "Python 3",
   "language": "python",
   "name": "python3"
  },
  "language_info": {
   "codemirror_mode": {
    "name": "ipython",
    "version": 3
   },
   "file_extension": ".py",
   "mimetype": "text/x-python",
   "name": "python",
   "nbconvert_exporter": "python",
   "pygments_lexer": "ipython3",
   "version": "3.7.3"
  }
 },
 "nbformat": 4,
 "nbformat_minor": 5
}
