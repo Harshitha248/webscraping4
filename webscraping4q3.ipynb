{
 "cells": [
  {
   "cell_type": "raw",
   "id": "essential-butler",
   "metadata": {},
   "source": [
    "Scrape the details of selenium exception from guru99.com.\n",
    "Url = https://www.guru99.com/\n",
    "You need to find following details:\n",
    "A) Name\n",
    "B) Description\n",
    "Note: - From guru99 home page you have to reach to selenium exception handling page through code."
   ]
  },
  {
   "cell_type": "code",
   "execution_count": 1,
   "id": "deluxe-accreditation",
   "metadata": {},
   "outputs": [],
   "source": [
    "import pandas as pd\n",
    "import selenium\n",
    "from selenium import webdriver\n",
    "from selenium.common.exceptions import StaleElementReferenceException, NoSuchElementException\n"
   ]
  },
  {
   "cell_type": "code",
   "execution_count": 2,
   "id": "terminal-stewart",
   "metadata": {},
   "outputs": [],
   "source": [
    "import requests\n",
    "from selenium import webdriver\n",
    "\n",
    "browser = webdriver.Chrome()\n",
    "\n",
    "browser.get(\" https://www.guru99.com/\")\n",
    "from bs4 import BeautifulSoup"
   ]
  },
  {
   "cell_type": "code",
   "execution_count": 3,
   "id": "received-pennsylvania",
   "metadata": {},
   "outputs": [],
   "source": [
    "names=[]"
   ]
  },
  {
   "cell_type": "code",
   "execution_count": 4,
   "id": "handy-pencil",
   "metadata": {},
   "outputs": [],
   "source": [
    "name_tags=browser.find_elements_by_xpath(\"//li[@class='fa fa-chevron-circle-right']\")\n",
    "for i in name_tags:\n",
    "    if i.text is None :\n",
    "        names.append(\"no rating\") \n",
    "    else:\n",
    "        names.append(i.text)"
   ]
  },
  {
   "cell_type": "code",
   "execution_count": 18,
   "id": "seasonal-springer",
   "metadata": {},
   "outputs": [
    {
     "data": {
      "text/plain": [
       "'JIRA'"
      ]
     },
     "execution_count": 18,
     "metadata": {},
     "output_type": "execute_result"
    }
   ],
   "source": [
    "names[24]"
   ]
  },
  {
   "cell_type": "code",
   "execution_count": 6,
   "id": "wired-pound",
   "metadata": {},
   "outputs": [],
   "source": [
    "summary=[]"
   ]
  },
  {
   "cell_type": "code",
   "execution_count": 12,
   "id": "pediatric-devices",
   "metadata": {},
   "outputs": [],
   "source": [
    "urls=browser.find_elements_by_tag_name('a')\n",
    "UR=[]\n",
    "for i in urls[:1]:\n",
    "    UR.append(i.get_attribute('href'))\n",
    "for url in UR:\n",
    "    browser.get(url)\n",
    "\n",
    "try:\n",
    "    summaries=browser.find_element_by_tag_name('p')\n",
    "    summary.append(summaries.text)\n",
    "except NoSuchElementException   as e:\n",
    "    summary.append(\"No rating\")"
   ]
  },
  {
   "cell_type": "code",
   "execution_count": 13,
   "id": "answering-customs",
   "metadata": {},
   "outputs": [
    {
     "data": {
      "text/plain": [
       "['JIRA is a tool developed by Australian Company Atlassian. This software is used for bug tracking, issue tracking, and project management. The JIRA full form is actually inherited from the Japanese word \"Gojira\" which means \"Godzilla\". The basic use of this tool is to track issue and bugs related to your software and Mobile apps.',\n",
       " 'We make tons of efforts to take boredom out of learning and make it fun']"
      ]
     },
     "execution_count": 13,
     "metadata": {},
     "output_type": "execute_result"
    }
   ],
   "source": [
    "summary"
   ]
  },
  {
   "cell_type": "code",
   "execution_count": 23,
   "id": "furnished-server",
   "metadata": {},
   "outputs": [],
   "source": [
    "import pandas as pd\n",
    "books=pd.DataFrame({})\n",
    "books['Names']=names[24:25]\n",
    "books['Summary']=summary[0:1]\n"
   ]
  },
  {
   "cell_type": "code",
   "execution_count": 24,
   "id": "massive-senior",
   "metadata": {},
   "outputs": [
    {
     "data": {
      "text/html": [
       "<div>\n",
       "<style scoped>\n",
       "    .dataframe tbody tr th:only-of-type {\n",
       "        vertical-align: middle;\n",
       "    }\n",
       "\n",
       "    .dataframe tbody tr th {\n",
       "        vertical-align: top;\n",
       "    }\n",
       "\n",
       "    .dataframe thead th {\n",
       "        text-align: right;\n",
       "    }\n",
       "</style>\n",
       "<table border=\"1\" class=\"dataframe\">\n",
       "  <thead>\n",
       "    <tr style=\"text-align: right;\">\n",
       "      <th></th>\n",
       "      <th>Names</th>\n",
       "      <th>Summary</th>\n",
       "    </tr>\n",
       "  </thead>\n",
       "  <tbody>\n",
       "    <tr>\n",
       "      <th>0</th>\n",
       "      <td>JIRA</td>\n",
       "      <td>JIRA is a tool developed by Australian Company...</td>\n",
       "    </tr>\n",
       "  </tbody>\n",
       "</table>\n",
       "</div>"
      ],
      "text/plain": [
       "  Names                                            Summary\n",
       "0  JIRA  JIRA is a tool developed by Australian Company..."
      ]
     },
     "execution_count": 24,
     "metadata": {},
     "output_type": "execute_result"
    }
   ],
   "source": [
    "books"
   ]
  },
  {
   "cell_type": "code",
   "execution_count": null,
   "id": "ambient-trainer",
   "metadata": {},
   "outputs": [],
   "source": []
  }
 ],
 "metadata": {
  "kernelspec": {
   "display_name": "Python 3",
   "language": "python",
   "name": "python3"
  },
  "language_info": {
   "codemirror_mode": {
    "name": "ipython",
    "version": 3
   },
   "file_extension": ".py",
   "mimetype": "text/x-python",
   "name": "python",
   "nbconvert_exporter": "python",
   "pygments_lexer": "ipython3",
   "version": "3.7.3"
  }
 },
 "nbformat": 4,
 "nbformat_minor": 5
}
